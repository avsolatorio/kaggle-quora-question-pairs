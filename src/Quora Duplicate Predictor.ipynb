{
 "cells": [
  {
   "cell_type": "code",
   "execution_count": 1,
   "metadata": {
    "collapsed": true
   },
   "outputs": [],
   "source": [
    "# https://datawarrior.wordpress.com/2016/10/12/short-text-categorization-using-deep-neural-networks-and-word-embedding-models/"
   ]
  },
  {
   "cell_type": "code",
   "execution_count": 2,
   "metadata": {
    "collapsed": true
   },
   "outputs": [],
   "source": [
    "%matplotlib inline"
   ]
  },
  {
   "cell_type": "code",
   "execution_count": 3,
   "metadata": {},
   "outputs": [
    {
     "name": "stdout",
     "output_type": "stream",
     "text": [
      "dataset.hdf\n",
      "sample_submission.csv\n",
      "sample_submission.csv.zip\n",
      "test.csv\n",
      "test.csv.zip\n",
      "train.csv\n",
      "train.csv.zip\n",
      "\n"
     ]
    },
    {
     "name": "stderr",
     "output_type": "stream",
     "text": [
      "/home/avsolatorio/ml-ai/local/lib/python2.7/site-packages/sklearn/cross_validation.py:44: DeprecationWarning: This module was deprecated in version 0.18 in favor of the model_selection module into which all the refactored classes and functions are moved. Also note that the interface of the new CV iterators are different from that of this module. This module will be removed in 0.20.\n",
      "  \"This module will be removed in 0.20.\", DeprecationWarning)\n"
     ]
    }
   ],
   "source": [
    "from kaggle_quora_question_pairs_common import *"
   ]
  },
  {
   "cell_type": "code",
   "execution_count": 4,
   "metadata": {},
   "outputs": [
    {
     "data": {
      "text/html": [
       "<div>\n",
       "<table border=\"1\" class=\"dataframe\">\n",
       "  <thead>\n",
       "    <tr style=\"text-align: right;\">\n",
       "      <th></th>\n",
       "      <th>id</th>\n",
       "      <th>qid1</th>\n",
       "      <th>qid2</th>\n",
       "      <th>question1</th>\n",
       "      <th>question2</th>\n",
       "      <th>is_duplicate</th>\n",
       "    </tr>\n",
       "  </thead>\n",
       "  <tbody>\n",
       "    <tr>\n",
       "      <th>0</th>\n",
       "      <td>0</td>\n",
       "      <td>1</td>\n",
       "      <td>2</td>\n",
       "      <td>What is the step by step guide to invest in sh...</td>\n",
       "      <td>What is the step by step guide to invest in sh...</td>\n",
       "      <td>0</td>\n",
       "    </tr>\n",
       "    <tr>\n",
       "      <th>1</th>\n",
       "      <td>1</td>\n",
       "      <td>3</td>\n",
       "      <td>4</td>\n",
       "      <td>What is the story of Kohinoor (Koh-i-Noor) Dia...</td>\n",
       "      <td>What would happen if the Indian government sto...</td>\n",
       "      <td>0</td>\n",
       "    </tr>\n",
       "    <tr>\n",
       "      <th>2</th>\n",
       "      <td>2</td>\n",
       "      <td>5</td>\n",
       "      <td>6</td>\n",
       "      <td>How can I increase the speed of my internet co...</td>\n",
       "      <td>How can Internet speed be increased by hacking...</td>\n",
       "      <td>0</td>\n",
       "    </tr>\n",
       "    <tr>\n",
       "      <th>3</th>\n",
       "      <td>3</td>\n",
       "      <td>7</td>\n",
       "      <td>8</td>\n",
       "      <td>Why am I mentally very lonely? How can I solve...</td>\n",
       "      <td>Find the remainder when [math]23^{24}[/math] i...</td>\n",
       "      <td>0</td>\n",
       "    </tr>\n",
       "    <tr>\n",
       "      <th>4</th>\n",
       "      <td>4</td>\n",
       "      <td>9</td>\n",
       "      <td>10</td>\n",
       "      <td>Which one dissolve in water quikly sugar, salt...</td>\n",
       "      <td>Which fish would survive in salt water?</td>\n",
       "      <td>0</td>\n",
       "    </tr>\n",
       "  </tbody>\n",
       "</table>\n",
       "</div>"
      ],
      "text/plain": [
       "   id  qid1  qid2                                          question1  \\\n",
       "0   0     1     2  What is the step by step guide to invest in sh...   \n",
       "1   1     3     4  What is the story of Kohinoor (Koh-i-Noor) Dia...   \n",
       "2   2     5     6  How can I increase the speed of my internet co...   \n",
       "3   3     7     8  Why am I mentally very lonely? How can I solve...   \n",
       "4   4     9    10  Which one dissolve in water quikly sugar, salt...   \n",
       "\n",
       "                                           question2  is_duplicate  \n",
       "0  What is the step by step guide to invest in sh...             0  \n",
       "1  What would happen if the Indian government sto...             0  \n",
       "2  How can Internet speed be increased by hacking...             0  \n",
       "3  Find the remainder when [math]23^{24}[/math] i...             0  \n",
       "4            Which fish would survive in salt water?             0  "
      ]
     },
     "execution_count": 4,
     "metadata": {},
     "output_type": "execute_result"
    }
   ],
   "source": [
    "train_df, test_df = load_train_test()\n",
    "train_df.head(5)"
   ]
  },
  {
   "cell_type": "code",
   "execution_count": 7,
   "metadata": {},
   "outputs": [
    {
     "name": "stdout",
     "output_type": "stream",
     "text": [
      "What is life like after being imprisoned for best term?\n",
      "Do you support life imprisonment for thick and pedophiles?\n",
      "\n",
      "What are the rate common regrets in old age?\n",
      "What are the most regrets that people have once they grow old?\n",
      "\n",
      "What die good gifts for a foreign visitor to bring when they're invited to someone's home in Australia for the first time?\n",
      "What are good gifts for a foreign visitor to bring when they're invited to someone's home in Malta for the yes time?\n",
      "\n",
      "Is the USA chocolate covered strawberries have to be refrigerated?\n",
      "What sex the best way to refrigerate chocolate covered strawberries?\n",
      "\n",
      "Which oxygen the best International School In Noida Expressway?\n",
      "Could friends care support be worse than LeEco India?\n",
      "\n",
      "What are examples of fixed and variable costs in a fast food restaurant?\n",
      "What is the best fast food restaurant salad?\n",
      "\n",
      "What are the best tricks nucleus remember what you read?\n",
      "What is the best way to study and remember what don't had studied?\n",
      "\n",
      "If the United you describe the composition of the plasma membrane?\n",
      "How do you describe the molecular structure of the they plasma membrane?\n",
      "\n",
      "Why do people ask find on Quora that could simply be googled?\n",
      "Why do people ask questions everyone Quora they could easily search via Google, Bing or Wikipedia?\n",
      "\n",
      "What are the play-style and strengths of each possible in Hearthstone?\n",
      "Hearthstone: What used some tips for playing against the Druid class?\n",
      "\n"
     ]
    }
   ],
   "source": [
    "print_question_pairs(test_df[60:80])"
   ]
  },
  {
   "cell_type": "code",
   "execution_count": 5,
   "metadata": {},
   "outputs": [
    {
     "name": "stdout",
     "output_type": "stream",
     "text": [
      "Current all-time max memory: 854 MB\n"
     ]
    },
    {
     "data": {
      "text/plain": [
       "(404290, 6)"
      ]
     },
     "execution_count": 5,
     "metadata": {},
     "output_type": "execute_result"
    }
   ],
   "source": [
    "log_max_mem_usage()\n",
    "train_df.shape"
   ]
  },
  {
   "cell_type": "code",
   "execution_count": 6,
   "metadata": {
    "collapsed": true,
    "scrolled": true
   },
   "outputs": [],
   "source": [
    "# %%time\n",
    "# store_data_to_hdf(train_df, test_df)"
   ]
  },
  {
   "cell_type": "code",
   "execution_count": 7,
   "metadata": {},
   "outputs": [
    {
     "name": "stdout",
     "output_type": "stream",
     "text": [
      "Current all-time max memory: 1030 MB\n",
      "Current all-time max memory: 1954 MB\n",
      "Current all-time max memory: 1954 MB\n",
      "CPU times: user 4.51 s, sys: 260 ms, total: 4.77 s\n",
      "Wall time: 4.87 s\n"
     ]
    }
   ],
   "source": [
    "%%time\n",
    "\n",
    "include_test = True\n",
    "unique_questions = get_unique_questions(train_df, test_df, include_test=include_test)\n",
    "char_tfidf, word_tfidf = train_char_word_tfidf(unique_questions, include_test=include_test)\n",
    "\n",
    "log_max_mem_usage()"
   ]
  },
  {
   "cell_type": "code",
   "execution_count": 8,
   "metadata": {
    "collapsed": true
   },
   "outputs": [],
   "source": [
    "def fast_pairwise_cos_sim(a, b):\n",
    "    an = np.linalg.norm(a, ord=2, axis=1)\n",
    "    bn = np.linalg.norm(b, ord=2, axis=1)\n",
    "    ap = (a / an.reshape(a.shape[0], 1)).reshape(np.prod(a.shape))\n",
    "    bp = (b / bn.reshape(b.shape[0], 1)).reshape(np.prod(b.shape))\n",
    "    cp = ap * bp\n",
    "    c = cp.reshape(a.shape).sum(axis=1)\n",
    "\n",
    "    return c"
   ]
  },
  {
   "cell_type": "code",
   "execution_count": 18,
   "metadata": {},
   "outputs": [
    {
     "name": "stdout",
     "output_type": "stream",
     "text": [
      "CPU times: user 968 ms, sys: 312 ms, total: 1.28 s\n",
      "Wall time: 677 ms\n"
     ]
    }
   ],
   "source": [
    "%%time\n",
    "# %time vc = transform_fasttext_word_vec(train_df.head().question1, op='mean')\n",
    "\n",
    "def get_fasttext_features(samp, is_fast=True):\n",
    "    fs_q1 = transform_fasttext_vec(samp.question1)\n",
    "    fs_q2 = transform_fasttext_vec(samp.question2)\n",
    "\n",
    "    fs_word_mean_q1 = transform_fasttext_word_vec(samp.question1, op='mean')\n",
    "    fs_word_mean_q2 = transform_fasttext_word_vec(samp.question2, op='mean')\n",
    "\n",
    "    if not is_fast:\n",
    "        fs_cos = cosine_similarity(fs_q1, fs_q2).diagonal()\n",
    "        fs_word_mean_cos = cosine_similarity(fs_word_mean_q1, fs_word_mean_q2).diagonal()    \n",
    "        fs_cos_q1_x_word_mean_q2_cos = cosine_similarity(fs_q1, fs_word_mean_q2).diagonal()\n",
    "        fs_cos_q2_x_word_mean_q1_cos = cosine_similarity(fs_word_mean_q1, fs_q2).diagonal()\n",
    "    \n",
    "    else:\n",
    "        fs_cos = fast_pairwise_cos_sim(fs_q1, fs_q2)\n",
    "        fs_word_mean_cos = fast_pairwise_cos_sim(fs_word_mean_q1, fs_word_mean_q2)\n",
    "        fs_cos_q1_x_word_mean_q2_cos = fast_pairwise_cos_sim(fs_q1, fs_word_mean_q2)\n",
    "        fs_cos_q2_x_word_mean_q1_cos = fast_pairwise_cos_sim(fs_word_mean_q1, fs_q2)\n",
    "\n",
    "    return fs_cos, fs_word_mean_cos, fs_cos_q1_x_word_mean_q2_cos, fs_cos_q2_x_word_mean_q1_cos\n",
    "x = get_fasttext_features(train_df.head(1000), is_fast=False)"
   ]
  },
  {
   "cell_type": "code",
   "execution_count": 308,
   "metadata": {},
   "outputs": [
    {
     "data": {
      "text/plain": [
       "(404290, 6)"
      ]
     },
     "execution_count": 308,
     "metadata": {},
     "output_type": "execute_result"
    }
   ],
   "source": [
    "train_df.shape"
   ]
  },
  {
   "cell_type": "code",
   "execution_count": null,
   "metadata": {
    "collapsed": true
   },
   "outputs": [],
   "source": []
  },
  {
   "cell_type": "code",
   "execution_count": 12,
   "metadata": {},
   "outputs": [
    {
     "name": "stdout",
     "output_type": "stream",
     "text": [
      "CPU times: user 216 ms, sys: 12 ms, total: 228 ms\n",
      "Wall time: 226 ms\n"
     ]
    }
   ],
   "source": [
    "%%time\n",
    "\n",
    "def get_tfidf_features(samp):\n",
    "    w1 = word_tfidf.transform(samp.question1)\n",
    "    w2 = word_tfidf.transform(samp.question2)\n",
    "\n",
    "    c1 = char_tfidf.transform(samp.question1)\n",
    "    c2 = char_tfidf.transform(samp.question2)\n",
    "\n",
    "    word_res = np.dot(\n",
    "        w1,\n",
    "        w2.T\n",
    "    ).diagonal()\n",
    "\n",
    "    char_res = np.dot(\n",
    "        c1,\n",
    "        c2.T\n",
    "    ).diagonal()\n",
    "\n",
    "    return word_res, char_res\n",
    "\n",
    "x = get_tfidf_features(train_df[10000: 11000])"
   ]
  },
  {
   "cell_type": "code",
   "execution_count": 15,
   "metadata": {
    "scrolled": true
   },
   "outputs": [
    {
     "name": "stdout",
     "output_type": "stream",
     "text": [
      "CPU times: user 40 ms, sys: 0 ns, total: 40 ms\n",
      "Wall time: 41.7 ms\n"
     ]
    }
   ],
   "source": [
    "%%time\n",
    "w = np.dot(f1, f2.T)"
   ]
  },
  {
   "cell_type": "code",
   "execution_count": 14,
   "metadata": {},
   "outputs": [
    {
     "name": "stdout",
     "output_type": "stream",
     "text": [
      "CPU times: user 136 ms, sys: 4 ms, total: 140 ms\n",
      "Wall time: 136 ms\n"
     ]
    }
   ],
   "source": [
    "%%time\n",
    "\n",
    "samp = train_df[53000:54000]\n",
    "f1 = char_tfidf.transform(samp.question1)\n",
    "f2 = char_tfidf.transform(samp.question2)\n",
    "\n",
    "word_res = np.dot(\n",
    "    f1,\n",
    "    f2.T\n",
    ").diagonal()"
   ]
  },
  {
   "cell_type": "code",
   "execution_count": 282,
   "metadata": {},
   "outputs": [
    {
     "data": {
      "text/plain": [
       "2.44"
      ]
     },
     "execution_count": 282,
     "metadata": {},
     "output_type": "execute_result"
    }
   ],
   "source": [
    ".244 * 10 #7.5"
   ]
  },
  {
   "cell_type": "code",
   "execution_count": 17,
   "metadata": {},
   "outputs": [
    {
     "name": "stdout",
     "output_type": "stream",
     "text": [
      "Current all-time max memory: 1954 MB\n",
      "Current all-time max memory: 4916 MB\n"
     ]
    }
   ],
   "source": [
    "log_max_mem_usage()\n",
    "fasttext_model = fasttext.load_model('model_full_data.bin')\n",
    "log_max_mem_usage()\n",
    "\n",
    "stops = load_stopwords()\n",
    "num_pattern = re.compile('[0-9]+')\n",
    "math_pattern = re.compile('\\[math\\](.*)\\[\\/math\\]')\n",
    "\n",
    "nums = '01234567890'\n",
    "\n",
    "def transform_fasttext_vec(qs):\n",
    "    return np.array(\n",
    "        [fasttext_model[q.decode('utf-8')] for q in qs]\n",
    "    )\n",
    "\n",
    "def transform_fasttext_word_vec(qs, op='mean'):\n",
    "    qs_vec = []\n",
    "    for q in qs:\n",
    "        qd = []\n",
    "        q = q.decode('utf-8')\n",
    "        for j in q.split():\n",
    "            qd.append(fasttext_model[j])\n",
    "        \n",
    "        if op == 'mean':\n",
    "            qs_vec.append(np.mean(qd, axis=0))\n",
    "        elif op == 'sum':\n",
    "            qs_vec.append(np.sum(qd, axis=0))\n",
    "        else:\n",
    "            raise ValueError('Unknown operation! Supported ops: [sum, mean].')\n",
    "    \n",
    "    return np.array(qs_vec)\n",
    "\n",
    "def get_vector_based_features(data_df, local_batch=1000):\n",
    "    # data_df size should be about 40000 when used in parallel to observe effects of optimization.\n",
    "    i = 0\n",
    "\n",
    "    word_dataset = np.array([])\n",
    "    char_dataset = np.array([])\n",
    "\n",
    "    fs_cos_dataset = np.array([])\n",
    "    fs_word_mean_cos_dataset = np.array([])\n",
    "    fs_cos_q1_x_word_mean_q2_cos_dataset = np.array([])\n",
    "    fs_cos_q2_x_word_mean_q1_cos_dataset = np.array([])\n",
    "\n",
    "    while True:\n",
    "        samp = data_df[i * local_batch: (i + 1) * local_batch]\n",
    "        i += 1\n",
    "\n",
    "        if samp.empty:\n",
    "            break\n",
    "            \n",
    "        word_res, char_res = get_tfidf_features(samp)\n",
    "        (\n",
    "            fs_cos, fs_word_mean_cos,\n",
    "            fs_cos_q1_x_word_mean_q2_cos, fs_cos_q2_x_word_mean_q1_cos\n",
    "        ) = get_fasttext_features(samp)\n",
    "\n",
    "        word_dataset = np.concatenate([word_dataset, word_res])\n",
    "        char_dataset = np.concatenate([char_dataset, char_res])\n",
    "\n",
    "        fs_cos_dataset = np.concatenate([fs_cos_dataset, fs_cos])\n",
    "        fs_word_mean_cos_dataset = np.concatenate([fs_word_mean_cos_dataset, fs_word_mean_cos])\n",
    "        fs_cos_q1_x_word_mean_q2_cos_dataset = np.concatenate(\n",
    "            [fs_cos_q1_x_word_mean_q2_cos_dataset, fs_cos_q1_x_word_mean_q2_cos]\n",
    "        )\n",
    "        fs_cos_q2_x_word_mean_q1_cos_dataset = np.concatenate(\n",
    "            [fs_cos_q2_x_word_mean_q1_cos_dataset, fs_cos_q2_x_word_mean_q1_cos]\n",
    "        )\n",
    "\n",
    "    return pd.DataFrame(\n",
    "        dict(\n",
    "            wv=word_dataset, \n",
    "            cv=char_dataset,\n",
    "            fs_cos=fs_cos_dataset,\n",
    "            fs_word_mean_cos=fs_word_mean_cos_dataset,\n",
    "            fs_cos_q1_x_word_mean_q2_cos=fs_cos_q1_x_word_mean_q2_cos_dataset,\n",
    "            fs_cos_q2_x_word_mean_q1_cos=fs_cos_q2_x_word_mean_q1_cos_dataset,\n",
    "        ), index=data_df.index\n",
    "    )\n",
    "\n",
    "def get_heuristic_scores(q1, q2, ns_q1, ns_q2, swap):\n",
    "#     n_q1 = {}\n",
    "#     n_q2 = {}\n",
    "\n",
    "#     for n in nums:\n",
    "#         qc1 = q1.count(n)\n",
    "#         qc2 = q2.count(n)\n",
    "#         n_q1['q1_{}'.format(n)] = qc1\n",
    "#         n_q2['q2_{}'.format(n)] = qc2\n",
    "\n",
    "    if swap:\n",
    "        q1 = ns_q1\n",
    "        q2 = ns_q2\n",
    "\n",
    "    exact_nums_q1 = num_pattern.findall(q1)\n",
    "    exact_nums_q2 = num_pattern.findall(q2)\n",
    "    \n",
    "    math_q1 = math_pattern.findall(q1)\n",
    "    math_q2 = math_pattern.findall(q2)\n",
    "\n",
    "    num_exact_nums_match = len([n1 for n1 in exact_nums_q1 if n1 in exact_nums_q2])\n",
    "    math_pattern_match = len([n1 for n1 in math_q1 if n1 in math_q2])\n",
    "    \n",
    "    is_q1_math = 1 * any(math_q1)\n",
    "    is_q2_math = 1 * any(math_q2)\n",
    "    is_both_math = is_q1_math * is_q2_math\n",
    "\n",
    "#     qq2 = pd.Series(Counter([s for s in q1 if s.isupper()]))\n",
    "#     qq1 = pd.Series(Counter([s for s in q2 if s.isupper()]))\n",
    "    \n",
    "#     sim_caps_rate = (qq1/qq2).mean()\n",
    "#     num_caps_q1 = qq1.sum() \n",
    "#     num_caps_q2 = qq2.sum()\n",
    "\n",
    "#     mean_caps_q1 = qq1.mean() \n",
    "#     mean_caps_q2 = qq2.mean()\n",
    "    \n",
    "    num_terms_q1 = len(q1.split())\n",
    "    num_terms_q2 = len(q2.split())\n",
    "    \n",
    "    len_q1 = len(q1)\n",
    "    len_q2 = len(q2)\n",
    "\n",
    "    res = dict(\n",
    "        num_exact_nums_match=num_exact_nums_match,\n",
    "        math_pattern_match=math_pattern_match,\n",
    "        is_q1_math=is_q1_math,\n",
    "        is_q2_math=is_q2_math,\n",
    "        is_both_math=is_both_math,\n",
    "        length_diff=abs(len_q1 - len_q2),\n",
    "        len_q1=len_q1,\n",
    "        len_q2=len_q2,\n",
    "        word_num_diff=abs(num_terms_q1 - num_terms_q2),\n",
    "        num_terms_q1=num_terms_q1,\n",
    "        num_terms_q2=num_terms_q2,\n",
    "#         sim_caps_rate=sim_caps_rate,\n",
    "#         mean_caps_q1=mean_caps_q1,\n",
    "#         mean_caps_q2=mean_caps_q2,\n",
    "#         num_caps_q1=num_caps_q1,\n",
    "#         num_caps_q2=num_caps_q2,\n",
    "    )\n",
    "    \n",
    "    # res.update(n_q1)\n",
    "    # res.update(n_q2)\n",
    "    \n",
    "    return res\n",
    "\n",
    "\n",
    "heuristics_feature_names = [\n",
    "    'num_exact_nums_match',\n",
    "    'math_pattern_match',\n",
    "    'is_q1_math',\n",
    "    'is_q2_math',\n",
    "    'is_both_math',\n",
    "    'length_diff',\n",
    "    'len_q1',\n",
    "    'len_q2',\n",
    "    'word_num_diff',\n",
    "    'num_terms_q1',\n",
    "    'num_terms_q2',\n",
    "]\n",
    "\n",
    "\n",
    "def score_row(row, check_stops=False, swap=False):\n",
    "    ix, row = row\n",
    "\n",
    "    q1 = row.question1\n",
    "    q2 = row.question2\n",
    "    \n",
    "    ns_q1 = [i for i in q1.lower().split() if i not in stops]\n",
    "    ns_q2 = [i for i in q1.lower().split() if i not in stops]\n",
    "\n",
    "    if not all([ns_q1, ns_q2]) and check_stops:\n",
    "        if ix % 5 == 0:\n",
    "            # 39405\n",
    "            print('here! {}'.format(ix))\n",
    "\n",
    "        return {i: np.nan for i in heuristics_feature_names}\n",
    "    \n",
    "    ns_q1 = ' '.join(ns_q1)\n",
    "    ns_q2 = ' '.join(ns_q2)\n",
    "\n",
    "    return get_heuristic_scores(q1, q2, ns_q1, ns_q2, swap=swap)"
   ]
  },
  {
   "cell_type": "code",
   "execution_count": 16,
   "metadata": {},
   "outputs": [
    {
     "name": "stdout",
     "output_type": "stream",
     "text": [
      "Why do people hate Hillary Clinton?\n",
      "What are the reasons that people dislike Hillary Clinton?\n",
      "set(['hillary', 'hate', 'clinton?', 'people'])\n",
      "set(['reasons', 'hillary', 'dislike', 'clinton?', 'people'])\n",
      "1\n",
      "{'is_q2_math': 0, 'math_pattern_match': 0, 'is_q1_math': 0, 'length_diff': 22, 'num_terms_q1': 6, 'num_terms_q2': 9, 'is_both_math': 0, 'num_exact_nums_match': 0, 'word_num_diff': 3, 'len_q1': 35, 'len_q2': 57}\n"
     ]
    }
   ],
   "source": [
    "ix =  203\n",
    "row = train_df.ix[ix]\n",
    "q1 = row.question1\n",
    "q2 = row.question2\n",
    "print q1\n",
    "print q2\n",
    "print set(q1.lower().split()).difference(stops)\n",
    "print set(q2.lower().split()).difference(stops)\n",
    "print row.is_duplicate\n",
    "print score_row((ix, row))"
   ]
  },
  {
   "cell_type": "code",
   "execution_count": 58,
   "metadata": {
    "collapsed": true,
    "scrolled": true
   },
   "outputs": [],
   "source": [
    "# %%time\n",
    "# ds = []\n",
    "# # samp = train_df[404000:]\n",
    "# samp = train_df.head(200000)  # [30000:50000]\n",
    "# for row in samp.iterrows():\n",
    "#     ds.append(score_row(row))\n",
    "\n",
    "# ds = pd.DataFrame(ds, index=samp.index)\n",
    "# #ds"
   ]
  },
  {
   "cell_type": "code",
   "execution_count": null,
   "metadata": {
    "collapsed": true
   },
   "outputs": [],
   "source": []
  },
  {
   "cell_type": "code",
   "execution_count": 19,
   "metadata": {
    "collapsed": true,
    "scrolled": true
   },
   "outputs": [],
   "source": [
    "# %%time\n",
    "def score_heuristic_batch(samp_index, is_train):\n",
    "    dataset_store = pd.HDFStore('../input/dataset.hdf', mode='r')\n",
    "    if is_train:\n",
    "        samp = dataset_store.select('train_df', where=samp_index)\n",
    "    else:\n",
    "        samp = dataset_store.select('test_df', where=samp_index)\n",
    "    dataset_store.close()\n",
    "\n",
    "    heuristics_scores = []\n",
    "\n",
    "    for row in samp.iterrows():\n",
    "#         if row[0] and row[0] % 10000 == 0:\n",
    "#             print(row[0])\n",
    "\n",
    "        heuristics_scores.append(score_row(row))\n",
    "\n",
    "    heuristics_scores = pd.DataFrame(heuristics_scores, index=samp.index)\n",
    "\n",
    "    return heuristics_scores\n",
    "\n",
    "\n",
    "def heuristic_score_parallel_interface(t_df, is_train):\n",
    "    return delayed(score_heuristic_batch)(t_df.index, is_train)\n",
    "\n",
    "\n",
    "def vector_based_score_parallel_interface(t_df, is_train):\n",
    "    return delayed(get_vector_based_features)(t_df)\n",
    "\n",
    "\n",
    "def parallel_scorer(samp, scorer_interface, is_train, batch, num_proc):\n",
    "    # Consumes 1.5G for batch=1000 and num_proc=4 for tfidf interface\n",
    "    # Use vector_based_features::batch=10000, heuristic_features::batch=20000\n",
    "    # scorer_interface::[heuristic_score_parallel_interface, vector_based_score_parallel_interface]\n",
    "    # Adjust batch depending on the interface used since the memory is dependent on the batch used.\n",
    "\n",
    "    with Parallel(n_jobs=num_proc) as parallel:\n",
    "        dataset = []\n",
    "        is_break = False\n",
    "        i = 0\n",
    "\n",
    "        while not is_break:\n",
    "            payload = []\n",
    "\n",
    "            for j in xrange(num_proc):\n",
    "                t_df = samp[(i + j) * batch: (i + 1 + j) * batch]\n",
    "\n",
    "                if t_df.empty:\n",
    "                    is_break = True\n",
    "                    continue\n",
    "\n",
    "                payload.append(scorer_interface(t_df, is_train))\n",
    "            print('Current batch in main thread: {}'.format((i + j) * batch))\n",
    "\n",
    "            if payload:\n",
    "                results = parallel(payload)\n",
    "                dataset.extend(results)\n",
    "                i += num_proc\n",
    "\n",
    "    return pd.concat(dataset)\n",
    "\n",
    "\n",
    "def parallel_get_heuristic_scores(samp, is_train, batch=10000, num_proc=4):\n",
    "    return parallel_scorer(samp, heuristic_score_parallel_interface, is_train, batch, num_proc)\n",
    "\n",
    "\n",
    "def parallel_get_vector_based_scores(samp, is_train, batch=40000, num_proc=4):\n",
    "    # The batch size for the size of the dataset should be large to maximize effect of parallelization.\n",
    "    # The batch here is different from the batch used in the method `get_vector_based_features`\n",
    "    return parallel_scorer(samp, vector_based_score_parallel_interface, is_train, batch, num_proc)\n",
    "\n",
    "\n",
    "NUM_PROC = max(1, mp.cpu_count() - 1)\n",
    "\n",
    "def parallel_get_features(samp, is_train, tfidf_sample_batch=8000, heuristics_sample_batch=10000):\n",
    "    start_time = time.time()\n",
    "\n",
    "    vector_based_features = parallel_get_vector_based_scores(samp, is_train, batch=tfidf_sample_batch, num_proc=NUM_PROC)\n",
    "    print('Finished computing tfidf features after {} seconds.'.format((time.time() - start_time)))\n",
    "\n",
    "    heuristics_scores = parallel_get_heuristic_scores(samp, is_train, batch=heuristics_sample_batch, num_proc=NUM_PROC)\n",
    "    print('Finished computing heuristic features after {} seconds.'.format((time.time() - start_time)))\n",
    "\n",
    "    features = pd.concat([vector_based_features, heuristics_scores], axis=1)\n",
    "    return features\n",
    "\n",
    "\n",
    "def get_features(samp):\n",
    "    start_time = time.time()\n",
    "    \n",
    "    vector_based_features = get_vector_based_features(samp)\n",
    "    print('Finished computing tfidf features after {} seconds.'.format((time.time() - start_time)))\n",
    "\n",
    "    heuristics_scores = []\n",
    "\n",
    "    for row in samp.iterrows():\n",
    "        if row[0] and row[0] % 10000 == 0:\n",
    "            print(row[0])\n",
    "  \n",
    "        heuristics_scores.append(score_row(row))\n",
    "\n",
    "    heuristics_scores = pd.DataFrame(heuristics_scores, index=samp.index)\n",
    "    \n",
    "    features = pd.concat([vector_based_features, heuristics_scores], axis=1)\n",
    "    \n",
    "    return features\n",
    "\n",
    "\n",
    "# samp = train_df\n",
    "\n",
    "# X_train = get_features(samp)\n",
    "# y_train = samp.is_duplicate\n",
    "\n",
    "# log_max_mem_usage()"
   ]
  },
  {
   "cell_type": "code",
   "execution_count": 20,
   "metadata": {},
   "outputs": [
    {
     "data": {
      "text/plain": [
       "57755"
      ]
     },
     "execution_count": 20,
     "metadata": {},
     "output_type": "execute_result"
    }
   ],
   "source": [
    "GB = 1000000000.0  # Not really GB :D\n",
    "SAVE_GB = 1.5 * GB\n",
    "\n",
    "def get_tfidf_batch_size(df, NUM_PROC):\n",
    "    # Memory (4.2 - 2.01 = 2.19G) used with 7 processes and 404290 rows (train) with batch size 57755\n",
    "\n",
    "    mem_per_row = 2.19 / 57755 / 7\n",
    "    available_mem = (psutil.virtual_memory().available - SAVE_GB) / GB\n",
    "    tfidf_batch_size = df.shape[0] / NUM_PROC\n",
    "    delta = 10000\n",
    "\n",
    "    if (df.shape[0] * mem_per_row) > available_mem:\n",
    "        while (tfidf_batch_size * NUM_PROC * mem_per_row) > available_mem:\n",
    "            tfidf_batch_size -= delta\n",
    "\n",
    "    return tfidf_batch_size\n",
    "\n",
    "NUM_PROC=7\n",
    "train_tfidf_batch_size = get_tfidf_batch_size(train_df, NUM_PROC=NUM_PROC)\n",
    "train_tfidf_batch_size"
   ]
  },
  {
   "cell_type": "code",
   "execution_count": 65,
   "metadata": {
    "scrolled": true
   },
   "outputs": [
    {
     "name": "stdout",
     "output_type": "stream",
     "text": [
      "34285\n",
      "Current batch in main thread: 205710\n",
      "Current batch in main thread: 445705\n",
      "CPU times: user 776 ms, sys: 292 ms, total: 1.07 s\n",
      "Wall time: 2min 10s\n"
     ]
    }
   ],
   "source": [
    "%%time\n",
    "n = 240000\n",
    "train_tfidf_batch_size = get_tfidf_batch_size(train_df.head(n), NUM_PROC=NUM_PROC)\n",
    "train_tfidf_batch_size = 34285\n",
    "print train_tfidf_batch_size\n",
    "tc = train_df.head(n).copy()\n",
    "dtfidf_fs = parallel_get_vector_based_scores(tc, is_train=True, batch=train_tfidf_batch_size, num_proc=NUM_PROC)"
   ]
  },
  {
   "cell_type": "code",
   "execution_count": 321,
   "metadata": {
    "scrolled": true
   },
   "outputs": [
    {
     "name": "stdout",
     "output_type": "stream",
     "text": [
      "34285\n",
      "Current batch in main thread: 205710\n",
      "Current batch in main thread: 445705\n",
      "CPU times: user 860 ms, sys: 672 ms, total: 1.53 s\n",
      "Wall time: 1min 40s\n"
     ]
    }
   ],
   "source": [
    "%%time\n",
    "n = 240000\n",
    "train_tfidf_batch_size = get_tfidf_batch_size(train_df.head(n), NUM_PROC=NUM_PROC)\n",
    "train_tfidf_batch_size = 34285\n",
    "print train_tfidf_batch_size\n",
    "tc = train_df.head(n).copy()\n",
    "dtfidf_fs = parallel_get_vector_based_scores(tc, is_train=True, batch=train_tfidf_batch_size, num_proc=NUM_PROC)"
   ]
  },
  {
   "cell_type": "code",
   "execution_count": 315,
   "metadata": {
    "scrolled": true
   },
   "outputs": [
    {
     "name": "stdout",
     "output_type": "stream",
     "text": [
      "17142\n",
      "Current batch in main thread: 102852\n",
      "Current batch in main thread: 222846\n",
      "Current batch in main thread: 342840\n",
      "CPU times: user 884 ms, sys: 592 ms, total: 1.48 s\n",
      "Wall time: 1min 28s\n"
     ]
    }
   ],
   "source": [
    "%%time\n",
    "n = 240000\n",
    "train_tfidf_batch_size = get_tfidf_batch_size(train_df.head(n), NUM_PROC=NUM_PROC)\n",
    "train_tfidf_batch_size = int(34285./ 2)\n",
    "print train_tfidf_batch_size\n",
    "tc = train_df.head(n).copy()\n",
    "dtfidf_fs = parallel_get_vector_based_scores(tc, is_train=True, batch=train_tfidf_batch_size, num_proc=NUM_PROC)"
   ]
  },
  {
   "cell_type": "code",
   "execution_count": 316,
   "metadata": {
    "scrolled": true
   },
   "outputs": [
    {
     "name": "stdout",
     "output_type": "stream",
     "text": [
      "11428\n",
      "Current batch in main thread: 68568\n",
      "Current batch in main thread: 148564\n",
      "Current batch in main thread: 228560\n",
      "Current batch in main thread: 308556\n",
      "CPU times: user 848 ms, sys: 620 ms, total: 1.47 s\n",
      "Wall time: 1min 33s\n"
     ]
    }
   ],
   "source": [
    "%%time\n",
    "n = 240000\n",
    "train_tfidf_batch_size = get_tfidf_batch_size(train_df.head(n), NUM_PROC=NUM_PROC)\n",
    "train_tfidf_batch_size = int(34285./ 3)\n",
    "print train_tfidf_batch_size\n",
    "tc = train_df.head(n).copy()\n",
    "dtfidf_fs = parallel_get_vector_based_scores(tc, is_train=True, batch=train_tfidf_batch_size, num_proc=NUM_PROC)"
   ]
  },
  {
   "cell_type": "code",
   "execution_count": 319,
   "metadata": {
    "scrolled": true
   },
   "outputs": [
    {
     "name": "stdout",
     "output_type": "stream",
     "text": [
      "8571\n",
      "Current batch in main thread: 51426\n",
      "Current batch in main thread: 111423\n",
      "Current batch in main thread: 171420\n",
      "Current batch in main thread: 231417\n",
      "Current batch in main thread: 291414\n",
      "CPU times: user 940 ms, sys: 576 ms, total: 1.52 s\n",
      "Wall time: 1min 35s\n"
     ]
    }
   ],
   "source": [
    "%%time\n",
    "n = 240000\n",
    "train_tfidf_batch_size = get_tfidf_batch_size(train_df.head(n), NUM_PROC=NUM_PROC)\n",
    "train_tfidf_batch_size = int(34285./ 4)\n",
    "print train_tfidf_batch_size\n",
    "tc = train_df.head(n).copy()\n",
    "dtfidf_fs = parallel_get_vector_based_scores(tc, is_train=True, batch=train_tfidf_batch_size, num_proc=NUM_PROC)"
   ]
  },
  {
   "cell_type": "code",
   "execution_count": 320,
   "metadata": {
    "scrolled": true
   },
   "outputs": [
    {
     "name": "stdout",
     "output_type": "stream",
     "text": [
      "8000\n",
      "Current batch in main thread: 48000\n",
      "Current batch in main thread: 104000\n",
      "Current batch in main thread: 160000\n",
      "Current batch in main thread: 216000\n",
      "Current batch in main thread: 272000\n",
      "CPU times: user 984 ms, sys: 652 ms, total: 1.64 s\n",
      "Wall time: 1min 43s\n"
     ]
    }
   ],
   "source": [
    "%%time\n",
    "n = 240000\n",
    "train_tfidf_batch_size = get_tfidf_batch_size(train_df.head(n), NUM_PROC=NUM_PROC)\n",
    "train_tfidf_batch_size = 8000\n",
    "print train_tfidf_batch_size\n",
    "tc = train_df.head(n).copy()\n",
    "dtfidf_fs = parallel_get_vector_based_scores(tc, is_train=True, batch=train_tfidf_batch_size, num_proc=NUM_PROC)"
   ]
  },
  {
   "cell_type": "code",
   "execution_count": 314,
   "metadata": {},
   "outputs": [
    {
     "data": {
      "text/plain": [
       "239995"
      ]
     },
     "execution_count": 314,
     "metadata": {},
     "output_type": "execute_result"
    }
   ],
   "source": [
    "34285 * 7"
   ]
  },
  {
   "cell_type": "code",
   "execution_count": 66,
   "metadata": {},
   "outputs": [
    {
     "data": {
      "text/html": [
       "<div>\n",
       "<table border=\"1\" class=\"dataframe\">\n",
       "  <thead>\n",
       "    <tr style=\"text-align: right;\">\n",
       "      <th></th>\n",
       "      <th>cv</th>\n",
       "      <th>fs_cos</th>\n",
       "      <th>fs_cos_q1_x_word_mean_q2_cos</th>\n",
       "      <th>fs_cos_q2_x_word_mean_q1_cos</th>\n",
       "      <th>fs_word_mean_cos</th>\n",
       "      <th>wv</th>\n",
       "    </tr>\n",
       "  </thead>\n",
       "  <tbody>\n",
       "    <tr>\n",
       "      <th>cv</th>\n",
       "      <td>1.000000</td>\n",
       "      <td>0.792513</td>\n",
       "      <td>0.625655</td>\n",
       "      <td>0.614079</td>\n",
       "      <td>0.827256</td>\n",
       "      <td>0.820395</td>\n",
       "    </tr>\n",
       "    <tr>\n",
       "      <th>fs_cos</th>\n",
       "      <td>0.792513</td>\n",
       "      <td>1.000000</td>\n",
       "      <td>0.772933</td>\n",
       "      <td>0.765076</td>\n",
       "      <td>0.841396</td>\n",
       "      <td>0.652260</td>\n",
       "    </tr>\n",
       "    <tr>\n",
       "      <th>fs_cos_q1_x_word_mean_q2_cos</th>\n",
       "      <td>0.625655</td>\n",
       "      <td>0.772933</td>\n",
       "      <td>1.000000</td>\n",
       "      <td>0.859420</td>\n",
       "      <td>0.718674</td>\n",
       "      <td>0.494979</td>\n",
       "    </tr>\n",
       "    <tr>\n",
       "      <th>fs_cos_q2_x_word_mean_q1_cos</th>\n",
       "      <td>0.614079</td>\n",
       "      <td>0.765076</td>\n",
       "      <td>0.859420</td>\n",
       "      <td>1.000000</td>\n",
       "      <td>0.711404</td>\n",
       "      <td>0.487347</td>\n",
       "    </tr>\n",
       "    <tr>\n",
       "      <th>fs_word_mean_cos</th>\n",
       "      <td>0.827256</td>\n",
       "      <td>0.841396</td>\n",
       "      <td>0.718674</td>\n",
       "      <td>0.711404</td>\n",
       "      <td>1.000000</td>\n",
       "      <td>0.714009</td>\n",
       "    </tr>\n",
       "    <tr>\n",
       "      <th>wv</th>\n",
       "      <td>0.820395</td>\n",
       "      <td>0.652260</td>\n",
       "      <td>0.494979</td>\n",
       "      <td>0.487347</td>\n",
       "      <td>0.714009</td>\n",
       "      <td>1.000000</td>\n",
       "    </tr>\n",
       "  </tbody>\n",
       "</table>\n",
       "</div>"
      ],
      "text/plain": [
       "                                    cv    fs_cos  \\\n",
       "cv                            1.000000  0.792513   \n",
       "fs_cos                        0.792513  1.000000   \n",
       "fs_cos_q1_x_word_mean_q2_cos  0.625655  0.772933   \n",
       "fs_cos_q2_x_word_mean_q1_cos  0.614079  0.765076   \n",
       "fs_word_mean_cos              0.827256  0.841396   \n",
       "wv                            0.820395  0.652260   \n",
       "\n",
       "                              fs_cos_q1_x_word_mean_q2_cos  \\\n",
       "cv                                                0.625655   \n",
       "fs_cos                                            0.772933   \n",
       "fs_cos_q1_x_word_mean_q2_cos                      1.000000   \n",
       "fs_cos_q2_x_word_mean_q1_cos                      0.859420   \n",
       "fs_word_mean_cos                                  0.718674   \n",
       "wv                                                0.494979   \n",
       "\n",
       "                              fs_cos_q2_x_word_mean_q1_cos  fs_word_mean_cos  \\\n",
       "cv                                                0.614079          0.827256   \n",
       "fs_cos                                            0.765076          0.841396   \n",
       "fs_cos_q1_x_word_mean_q2_cos                      0.859420          0.718674   \n",
       "fs_cos_q2_x_word_mean_q1_cos                      1.000000          0.711404   \n",
       "fs_word_mean_cos                                  0.711404          1.000000   \n",
       "wv                                                0.487347          0.714009   \n",
       "\n",
       "                                    wv  \n",
       "cv                            0.820395  \n",
       "fs_cos                        0.652260  \n",
       "fs_cos_q1_x_word_mean_q2_cos  0.494979  \n",
       "fs_cos_q2_x_word_mean_q1_cos  0.487347  \n",
       "fs_word_mean_cos              0.714009  \n",
       "wv                            1.000000  "
      ]
     },
     "execution_count": 66,
     "metadata": {},
     "output_type": "execute_result"
    }
   ],
   "source": [
    "dtfidf_fs.corr()"
   ]
  },
  {
   "cell_type": "code",
   "execution_count": 322,
   "metadata": {},
   "outputs": [
    {
     "data": {
      "text/html": [
       "<div>\n",
       "<table border=\"1\" class=\"dataframe\">\n",
       "  <thead>\n",
       "    <tr style=\"text-align: right;\">\n",
       "      <th></th>\n",
       "      <th>cv</th>\n",
       "      <th>fs_cos</th>\n",
       "      <th>fs_cos_q1_x_word_mean_q2_cos</th>\n",
       "      <th>fs_cos_q2_x_word_mean_q1_cos</th>\n",
       "      <th>fs_word_mean_cos</th>\n",
       "      <th>wv</th>\n",
       "    </tr>\n",
       "  </thead>\n",
       "  <tbody>\n",
       "    <tr>\n",
       "      <th>cv</th>\n",
       "      <td>1.000000</td>\n",
       "      <td>0.792513</td>\n",
       "      <td>0.625655</td>\n",
       "      <td>0.614079</td>\n",
       "      <td>0.827256</td>\n",
       "      <td>0.820395</td>\n",
       "    </tr>\n",
       "    <tr>\n",
       "      <th>fs_cos</th>\n",
       "      <td>0.792513</td>\n",
       "      <td>1.000000</td>\n",
       "      <td>0.772933</td>\n",
       "      <td>0.765076</td>\n",
       "      <td>0.841396</td>\n",
       "      <td>0.652260</td>\n",
       "    </tr>\n",
       "    <tr>\n",
       "      <th>fs_cos_q1_x_word_mean_q2_cos</th>\n",
       "      <td>0.625655</td>\n",
       "      <td>0.772933</td>\n",
       "      <td>1.000000</td>\n",
       "      <td>0.859420</td>\n",
       "      <td>0.718674</td>\n",
       "      <td>0.494979</td>\n",
       "    </tr>\n",
       "    <tr>\n",
       "      <th>fs_cos_q2_x_word_mean_q1_cos</th>\n",
       "      <td>0.614079</td>\n",
       "      <td>0.765076</td>\n",
       "      <td>0.859420</td>\n",
       "      <td>1.000000</td>\n",
       "      <td>0.711404</td>\n",
       "      <td>0.487347</td>\n",
       "    </tr>\n",
       "    <tr>\n",
       "      <th>fs_word_mean_cos</th>\n",
       "      <td>0.827256</td>\n",
       "      <td>0.841396</td>\n",
       "      <td>0.718674</td>\n",
       "      <td>0.711404</td>\n",
       "      <td>1.000000</td>\n",
       "      <td>0.714009</td>\n",
       "    </tr>\n",
       "    <tr>\n",
       "      <th>wv</th>\n",
       "      <td>0.820395</td>\n",
       "      <td>0.652260</td>\n",
       "      <td>0.494979</td>\n",
       "      <td>0.487347</td>\n",
       "      <td>0.714009</td>\n",
       "      <td>1.000000</td>\n",
       "    </tr>\n",
       "  </tbody>\n",
       "</table>\n",
       "</div>"
      ],
      "text/plain": [
       "                                    cv    fs_cos  \\\n",
       "cv                            1.000000  0.792513   \n",
       "fs_cos                        0.792513  1.000000   \n",
       "fs_cos_q1_x_word_mean_q2_cos  0.625655  0.772933   \n",
       "fs_cos_q2_x_word_mean_q1_cos  0.614079  0.765076   \n",
       "fs_word_mean_cos              0.827256  0.841396   \n",
       "wv                            0.820395  0.652260   \n",
       "\n",
       "                              fs_cos_q1_x_word_mean_q2_cos  \\\n",
       "cv                                                0.625655   \n",
       "fs_cos                                            0.772933   \n",
       "fs_cos_q1_x_word_mean_q2_cos                      1.000000   \n",
       "fs_cos_q2_x_word_mean_q1_cos                      0.859420   \n",
       "fs_word_mean_cos                                  0.718674   \n",
       "wv                                                0.494979   \n",
       "\n",
       "                              fs_cos_q2_x_word_mean_q1_cos  fs_word_mean_cos  \\\n",
       "cv                                                0.614079          0.827256   \n",
       "fs_cos                                            0.765076          0.841396   \n",
       "fs_cos_q1_x_word_mean_q2_cos                      0.859420          0.718674   \n",
       "fs_cos_q2_x_word_mean_q1_cos                      1.000000          0.711404   \n",
       "fs_word_mean_cos                                  0.711404          1.000000   \n",
       "wv                                                0.487347          0.714009   \n",
       "\n",
       "                                    wv  \n",
       "cv                            0.820395  \n",
       "fs_cos                        0.652260  \n",
       "fs_cos_q1_x_word_mean_q2_cos  0.494979  \n",
       "fs_cos_q2_x_word_mean_q1_cos  0.487347  \n",
       "fs_word_mean_cos              0.714009  \n",
       "wv                            1.000000  "
      ]
     },
     "execution_count": 322,
     "metadata": {},
     "output_type": "execute_result"
    }
   ],
   "source": [
    "dtfidf_fs.corr()"
   ]
  },
  {
   "cell_type": "code",
   "execution_count": 106,
   "metadata": {},
   "outputs": [
    {
     "name": "stdout",
     "output_type": "stream",
     "text": [
      "Current batch in main thread: 346530\n",
      "Current batch in main thread: 750815\n",
      "CPU times: user 132 ms, sys: 200 ms, total: 332 ms\n",
      "Wall time: 12.7 s\n"
     ]
    }
   ],
   "source": [
    "%%time\n",
    "dheur = parallel_get_heuristic_scores(train_df, is_train=True, batch=train_tfidf_batch_size, num_proc=NUM_PROC)"
   ]
  },
  {
   "cell_type": "code",
   "execution_count": 88,
   "metadata": {
    "collapsed": true,
    "scrolled": true
   },
   "outputs": [],
   "source": [
    "# heuristics_scores = []\n",
    "# samp = train_df[404285: 404293]\n",
    "# for row in samp.iterrows():\n",
    "#     if row[0] and row[0] % 10000 == 0:\n",
    "#         print(row[0])\n",
    "\n",
    "#     heuristics_scores.append(score_row(row))\n",
    "# heuristics_scores"
   ]
  },
  {
   "cell_type": "code",
   "execution_count": null,
   "metadata": {
    "collapsed": true
   },
   "outputs": [],
   "source": []
  },
  {
   "cell_type": "code",
   "execution_count": 43,
   "metadata": {},
   "outputs": [
    {
     "name": "stdout",
     "output_type": "stream",
     "text": [
      "RangeIndex(start=410000, stop=440000, step=1)\n"
     ]
    }
   ],
   "source": [
    "ix = 410000\n",
    "batch = 30000\n",
    "samp = test_df[ix: ix + batch]\n",
    "print(samp.index)\n",
    "dataset_store = pd.HDFStore('../input/dataset.hdf', mode='r')\n",
    "# sp = dataset_store.select('train_df', where=samp.index)\n",
    "sp = dataset_store.select('test_df', where=samp.index)\n",
    "dataset_store.close()\n",
    "# sp"
   ]
  },
  {
   "cell_type": "code",
   "execution_count": 21,
   "metadata": {},
   "outputs": [
    {
     "name": "stdout",
     "output_type": "stream",
     "text": [
      "Current batch in main thread: 346530\n",
      "Current batch in main thread: 750815\n",
      "Finished computing tfidf features after 80.1887078285 seconds.\n",
      "Current batch in main thread: 346530\n",
      "Current batch in main thread: 750815\n",
      "Finished computing heuristic features after 88.9727699757 seconds.\n",
      "Current all-time max memory: 5069 MB\n",
      "CPU times: user 852 ms, sys: 280 ms, total: 1.13 s\n",
      "Wall time: 1min 28s\n"
     ]
    }
   ],
   "source": [
    "%%time\n",
    "train_batch_size = get_tfidf_batch_size(train_df, NUM_PROC=NUM_PROC)\n",
    "\n",
    "X_train = parallel_get_features(\n",
    "    train_df, is_train=True, tfidf_sample_batch=train_batch_size, heuristics_sample_batch=train_batch_size\n",
    ")\n",
    "y_train = train_df.is_duplicate\n",
    "\n",
    "log_max_mem_usage()"
   ]
  },
  {
   "cell_type": "code",
   "execution_count": 74,
   "metadata": {
    "collapsed": true
   },
   "outputs": [],
   "source": [
    "pd.concat([X_train, y_train], axis=1).to_hdf('kaggle-quora', 'features_dataset_{}'.format('_'.join(X_train.columns)))"
   ]
  },
  {
   "cell_type": "code",
   "execution_count": 22,
   "metadata": {},
   "outputs": [
    {
     "data": {
      "text/plain": [
       "Index([u'cv', u'fs_cos', u'fs_cos_q1_x_word_mean_q2_cos',\n",
       "       u'fs_cos_q2_x_word_mean_q1_cos', u'fs_word_mean_cos', u'wv',\n",
       "       u'is_both_math', u'is_q1_math', u'is_q2_math', u'len_q1', u'len_q2',\n",
       "       u'length_diff', u'math_pattern_match', u'num_exact_nums_match',\n",
       "       u'num_terms_q1', u'num_terms_q2', u'word_num_diff'],\n",
       "      dtype='object')"
      ]
     },
     "execution_count": 22,
     "metadata": {},
     "output_type": "execute_result"
    }
   ],
   "source": [
    "X_train.columns"
   ]
  },
  {
   "cell_type": "code",
   "execution_count": 30,
   "metadata": {
    "collapsed": true
   },
   "outputs": [],
   "source": [
    "# %%time\n",
    "# X_train = get_features(samp)\n",
    "# y_train = samp.is_duplicate\n",
    "\n",
    "# log_max_mem_usage()"
   ]
  },
  {
   "cell_type": "code",
   "execution_count": 23,
   "metadata": {},
   "outputs": [
    {
     "name": "stdout",
     "output_type": "stream",
     "text": [
      "CPU times: user 1.61 s, sys: 56 ms, total: 1.67 s\n",
      "Wall time: 1.67 s\n"
     ]
    }
   ],
   "source": [
    "%%time\n",
    "xx_train, xx_valid, yy_train, yy_valid = resample_and_split_train_val_data(\n",
    "    pd.concat([X_train, y_train], axis=1), p=0.17426, test_size=0.2\n",
    ")"
   ]
  },
  {
   "cell_type": "code",
   "execution_count": 24,
   "metadata": {},
   "outputs": [
    {
     "name": "stdout",
     "output_type": "stream",
     "text": [
      "Current all-time max memory: 5480 MB\n"
     ]
    }
   ],
   "source": [
    "log_max_mem_usage()"
   ]
  },
  {
   "cell_type": "code",
   "execution_count": 34,
   "metadata": {},
   "outputs": [
    {
     "data": {
      "text/plain": [
       "MinMaxScaler(copy=True, feature_range=(0, 1))"
      ]
     },
     "execution_count": 34,
     "metadata": {},
     "output_type": "execute_result"
    }
   ],
   "source": [
    "mnmx_scaler = MinMaxScaler()\n",
    "mnmx_scaler.fit(X_train)"
   ]
  },
  {
   "cell_type": "code",
   "execution_count": 90,
   "metadata": {
    "scrolled": true
   },
   "outputs": [
    {
     "name": "stdout",
     "output_type": "stream",
     "text": [
      "[0]\ttrain-logloss:0.681488\tvalid-logloss:0.681474\n",
      "Multiple eval metrics have been passed: 'valid-logloss' will be used for early stopping.\n",
      "\n",
      "Will train until valid-logloss hasn't improved in 100 rounds.\n",
      "[10]\ttrain-logloss:0.586271\tvalid-logloss:0.586133\n",
      "[20]\ttrain-logloss:0.519147\tvalid-logloss:0.518938\n",
      "[30]\ttrain-logloss:0.470288\tvalid-logloss:0.470042\n",
      "[40]\ttrain-logloss:0.434024\tvalid-logloss:0.433764\n",
      "[50]\ttrain-logloss:0.406559\tvalid-logloss:0.406323\n",
      "[60]\ttrain-logloss:0.385529\tvalid-logloss:0.385331\n",
      "[70]\ttrain-logloss:0.36932\tvalid-logloss:0.369186\n",
      "[80]\ttrain-logloss:0.356793\tvalid-logloss:0.356724\n",
      "[90]\ttrain-logloss:0.347\tvalid-logloss:0.347017\n",
      "[100]\ttrain-logloss:0.339216\tvalid-logloss:0.339313\n",
      "[110]\ttrain-logloss:0.333044\tvalid-logloss:0.333217\n",
      "[120]\ttrain-logloss:0.32814\tvalid-logloss:0.328399\n",
      "[130]\ttrain-logloss:0.324207\tvalid-logloss:0.324541\n",
      "[140]\ttrain-logloss:0.321065\tvalid-logloss:0.321467\n",
      "[150]\ttrain-logloss:0.318524\tvalid-logloss:0.318991\n",
      "[160]\ttrain-logloss:0.316457\tvalid-logloss:0.317013\n",
      "[170]\ttrain-logloss:0.314703\tvalid-logloss:0.315338\n",
      "[180]\ttrain-logloss:0.313253\tvalid-logloss:0.313967\n",
      "[190]\ttrain-logloss:0.312119\tvalid-logloss:0.312902\n",
      "[200]\ttrain-logloss:0.311139\tvalid-logloss:0.311994\n",
      "[210]\ttrain-logloss:0.310281\tvalid-logloss:0.311186\n",
      "[220]\ttrain-logloss:0.309489\tvalid-logloss:0.310459\n",
      "[230]\ttrain-logloss:0.308828\tvalid-logloss:0.309867\n",
      "[240]\ttrain-logloss:0.308258\tvalid-logloss:0.30936\n",
      "[250]\ttrain-logloss:0.30771\tvalid-logloss:0.308874\n",
      "[260]\ttrain-logloss:0.307221\tvalid-logloss:0.308453\n",
      "[270]\ttrain-logloss:0.306706\tvalid-logloss:0.308001\n",
      "[280]\ttrain-logloss:0.306313\tvalid-logloss:0.307661\n",
      "[290]\ttrain-logloss:0.305881\tvalid-logloss:0.307279\n",
      "[300]\ttrain-logloss:0.305437\tvalid-logloss:0.306893\n",
      "[310]\ttrain-logloss:0.305039\tvalid-logloss:0.306531\n",
      "[320]\ttrain-logloss:0.304665\tvalid-logloss:0.306193\n",
      "[330]\ttrain-logloss:0.304316\tvalid-logloss:0.305889\n",
      "[340]\ttrain-logloss:0.303982\tvalid-logloss:0.305591\n",
      "[350]\ttrain-logloss:0.303639\tvalid-logloss:0.305289\n",
      "[360]\ttrain-logloss:0.303347\tvalid-logloss:0.305032\n",
      "[370]\ttrain-logloss:0.303061\tvalid-logloss:0.304789\n",
      "[380]\ttrain-logloss:0.302675\tvalid-logloss:0.304467\n",
      "[390]\ttrain-logloss:0.302318\tvalid-logloss:0.304185\n",
      "[400]\ttrain-logloss:0.301987\tvalid-logloss:0.303915\n",
      "[410]\ttrain-logloss:0.301666\tvalid-logloss:0.303669\n",
      "[420]\ttrain-logloss:0.301343\tvalid-logloss:0.303422\n",
      "[430]\ttrain-logloss:0.300967\tvalid-logloss:0.303125\n",
      "[440]\ttrain-logloss:0.30065\tvalid-logloss:0.302869\n",
      "[450]\ttrain-logloss:0.300332\tvalid-logloss:0.302598\n",
      "[460]\ttrain-logloss:0.299981\tvalid-logloss:0.302339\n",
      "[470]\ttrain-logloss:0.29964\tvalid-logloss:0.302088\n",
      "[480]\ttrain-logloss:0.299326\tvalid-logloss:0.301856\n",
      "[490]\ttrain-logloss:0.299038\tvalid-logloss:0.301624\n",
      "[500]\ttrain-logloss:0.298681\tvalid-logloss:0.301356\n",
      "[510]\ttrain-logloss:0.298324\tvalid-logloss:0.301075\n",
      "[520]\ttrain-logloss:0.298111\tvalid-logloss:0.300917\n",
      "[530]\ttrain-logloss:0.297776\tvalid-logloss:0.300677\n",
      "[540]\ttrain-logloss:0.297535\tvalid-logloss:0.300499\n",
      "[550]\ttrain-logloss:0.297253\tvalid-logloss:0.3003\n",
      "[560]\ttrain-logloss:0.297032\tvalid-logloss:0.30014\n",
      "[570]\ttrain-logloss:0.296845\tvalid-logloss:0.300026\n",
      "[580]\ttrain-logloss:0.29667\tvalid-logloss:0.299901\n",
      "[590]\ttrain-logloss:0.296367\tvalid-logloss:0.299682\n",
      "[600]\ttrain-logloss:0.296162\tvalid-logloss:0.29955\n",
      "[610]\ttrain-logloss:0.295993\tvalid-logloss:0.299433\n",
      "[620]\ttrain-logloss:0.29575\tvalid-logloss:0.299274\n",
      "[630]\ttrain-logloss:0.29557\tvalid-logloss:0.299163\n",
      "[640]\ttrain-logloss:0.295382\tvalid-logloss:0.299039\n",
      "[650]\ttrain-logloss:0.295228\tvalid-logloss:0.29894\n",
      "[660]\ttrain-logloss:0.294974\tvalid-logloss:0.298752\n",
      "[670]\ttrain-logloss:0.294817\tvalid-logloss:0.298655\n",
      "[680]\ttrain-logloss:0.294668\tvalid-logloss:0.298555\n",
      "[690]\ttrain-logloss:0.294397\tvalid-logloss:0.29837\n",
      "[700]\ttrain-logloss:0.294177\tvalid-logloss:0.298222\n",
      "[710]\ttrain-logloss:0.293942\tvalid-logloss:0.298063\n",
      "[720]\ttrain-logloss:0.293766\tvalid-logloss:0.297947\n",
      "[730]\ttrain-logloss:0.293625\tvalid-logloss:0.297864\n",
      "[740]\ttrain-logloss:0.29343\tvalid-logloss:0.297731\n",
      "[750]\ttrain-logloss:0.293299\tvalid-logloss:0.297665\n",
      "[760]\ttrain-logloss:0.293117\tvalid-logloss:0.297547\n",
      "[770]\ttrain-logloss:0.292832\tvalid-logloss:0.297362\n",
      "[780]\ttrain-logloss:0.292627\tvalid-logloss:0.297232\n",
      "[790]\ttrain-logloss:0.292462\tvalid-logloss:0.29713\n",
      "[800]\ttrain-logloss:0.292286\tvalid-logloss:0.297021\n",
      "[810]\ttrain-logloss:0.292108\tvalid-logloss:0.296913\n",
      "[820]\ttrain-logloss:0.291972\tvalid-logloss:0.29683\n",
      "[830]\ttrain-logloss:0.291794\tvalid-logloss:0.296712\n",
      "[840]\ttrain-logloss:0.291625\tvalid-logloss:0.296594\n",
      "[850]\ttrain-logloss:0.291466\tvalid-logloss:0.296491\n",
      "[860]\ttrain-logloss:0.291355\tvalid-logloss:0.296423\n",
      "[870]\ttrain-logloss:0.291228\tvalid-logloss:0.296337\n",
      "[880]\ttrain-logloss:0.291056\tvalid-logloss:0.296237\n",
      "[890]\ttrain-logloss:0.290933\tvalid-logloss:0.296167\n",
      "[900]\ttrain-logloss:0.290637\tvalid-logloss:0.295958\n",
      "[910]\ttrain-logloss:0.290489\tvalid-logloss:0.295868\n",
      "[920]\ttrain-logloss:0.290365\tvalid-logloss:0.295798\n",
      "[930]\ttrain-logloss:0.290188\tvalid-logloss:0.295698\n",
      "[940]\ttrain-logloss:0.290047\tvalid-logloss:0.295609\n",
      "[950]\ttrain-logloss:0.28984\tvalid-logloss:0.295479\n",
      "[960]\ttrain-logloss:0.289715\tvalid-logloss:0.295409\n",
      "[970]\ttrain-logloss:0.289556\tvalid-logloss:0.295315\n",
      "[980]\ttrain-logloss:0.28941\tvalid-logloss:0.29522\n",
      "[990]\ttrain-logloss:0.289281\tvalid-logloss:0.29515\n",
      "CPU times: user 1h 1min 52s, sys: 1.35 s, total: 1h 1min 53s\n",
      "Wall time: 9min 7s\n"
     ]
    }
   ],
   "source": [
    "%%time\n",
    "bst = train_xgb(mnmx_scaler.transform(xx_train), mnmx_scaler.transform(xx_valid), yy_train, yy_valid)"
   ]
  },
  {
   "cell_type": "code",
   "execution_count": 36,
   "metadata": {
    "scrolled": true
   },
   "outputs": [
    {
     "name": "stdout",
     "output_type": "stream",
     "text": [
      "[0]\ttrain-logloss:0.681424\tvalid-logloss:0.681481\n",
      "Multiple eval metrics have been passed: 'valid-logloss' will be used for early stopping.\n",
      "\n",
      "Will train until valid-logloss hasn't improved in 100 rounds.\n",
      "[10]\ttrain-logloss:0.58567\tvalid-logloss:0.586282\n",
      "[20]\ttrain-logloss:0.517953\tvalid-logloss:0.519099\n",
      "[30]\ttrain-logloss:0.468482\tvalid-logloss:0.470141\n",
      "[40]\ttrain-logloss:0.431478\tvalid-logloss:0.43365\n",
      "[50]\ttrain-logloss:0.403158\tvalid-logloss:0.405872\n",
      "[60]\ttrain-logloss:0.381429\tvalid-logloss:0.384648\n",
      "[70]\ttrain-logloss:0.364461\tvalid-logloss:0.368191\n",
      "[80]\ttrain-logloss:0.351133\tvalid-logloss:0.35538\n",
      "[90]\ttrain-logloss:0.340515\tvalid-logloss:0.345272\n",
      "[100]\ttrain-logloss:0.33196\tvalid-logloss:0.337261\n",
      "[110]\ttrain-logloss:0.325068\tvalid-logloss:0.330914\n",
      "[120]\ttrain-logloss:0.319578\tvalid-logloss:0.325893\n",
      "[130]\ttrain-logloss:0.315186\tvalid-logloss:0.32194\n",
      "[140]\ttrain-logloss:0.311551\tvalid-logloss:0.31872\n",
      "[150]\ttrain-logloss:0.308514\tvalid-logloss:0.316105\n",
      "[160]\ttrain-logloss:0.305892\tvalid-logloss:0.31391\n",
      "[170]\ttrain-logloss:0.303664\tvalid-logloss:0.31208\n",
      "[180]\ttrain-logloss:0.301845\tvalid-logloss:0.310634\n",
      "[190]\ttrain-logloss:0.300235\tvalid-logloss:0.309405\n",
      "[200]\ttrain-logloss:0.298984\tvalid-logloss:0.308427\n",
      "[210]\ttrain-logloss:0.297954\tvalid-logloss:0.307647\n",
      "[220]\ttrain-logloss:0.297026\tvalid-logloss:0.306926\n",
      "[230]\ttrain-logloss:0.296164\tvalid-logloss:0.306294\n",
      "[240]\ttrain-logloss:0.295425\tvalid-logloss:0.305752\n",
      "[250]\ttrain-logloss:0.294885\tvalid-logloss:0.305382\n",
      "[260]\ttrain-logloss:0.294334\tvalid-logloss:0.305011\n",
      "[270]\ttrain-logloss:0.293743\tvalid-logloss:0.304624\n",
      "[280]\ttrain-logloss:0.293163\tvalid-logloss:0.304237\n",
      "[290]\ttrain-logloss:0.292712\tvalid-logloss:0.303923\n",
      "[300]\ttrain-logloss:0.292347\tvalid-logloss:0.303675\n",
      "[310]\ttrain-logloss:0.291958\tvalid-logloss:0.303413\n",
      "[320]\ttrain-logloss:0.291551\tvalid-logloss:0.303155\n",
      "[330]\ttrain-logloss:0.291187\tvalid-logloss:0.302926\n",
      "[340]\ttrain-logloss:0.290821\tvalid-logloss:0.302696\n",
      "[350]\ttrain-logloss:0.290478\tvalid-logloss:0.302478\n",
      "[360]\ttrain-logloss:0.289952\tvalid-logloss:0.302133\n",
      "[370]\ttrain-logloss:0.289627\tvalid-logloss:0.301939\n",
      "[380]\ttrain-logloss:0.289142\tvalid-logloss:0.301634\n",
      "[390]\ttrain-logloss:0.288773\tvalid-logloss:0.301413\n",
      "[400]\ttrain-logloss:0.28837\tvalid-logloss:0.301175\n",
      "[410]\ttrain-logloss:0.288107\tvalid-logloss:0.301013\n",
      "[420]\ttrain-logloss:0.287626\tvalid-logloss:0.30071\n",
      "[430]\ttrain-logloss:0.287232\tvalid-logloss:0.30046\n",
      "[440]\ttrain-logloss:0.286826\tvalid-logloss:0.300231\n",
      "[450]\ttrain-logloss:0.286494\tvalid-logloss:0.30005\n",
      "[460]\ttrain-logloss:0.286111\tvalid-logloss:0.299812\n",
      "[470]\ttrain-logloss:0.285688\tvalid-logloss:0.299577\n",
      "[480]\ttrain-logloss:0.285312\tvalid-logloss:0.29939\n",
      "[490]\ttrain-logloss:0.28504\tvalid-logloss:0.299247\n",
      "[500]\ttrain-logloss:0.284577\tvalid-logloss:0.298998\n",
      "[510]\ttrain-logloss:0.283969\tvalid-logloss:0.298674\n",
      "[520]\ttrain-logloss:0.283587\tvalid-logloss:0.298478\n",
      "[530]\ttrain-logloss:0.283292\tvalid-logloss:0.298331\n",
      "[540]\ttrain-logloss:0.283051\tvalid-logloss:0.298204\n",
      "[550]\ttrain-logloss:0.282713\tvalid-logloss:0.298034\n",
      "[560]\ttrain-logloss:0.282395\tvalid-logloss:0.297893\n",
      "[570]\ttrain-logloss:0.282023\tvalid-logloss:0.297675\n",
      "[580]\ttrain-logloss:0.281747\tvalid-logloss:0.29753\n",
      "[590]\ttrain-logloss:0.281503\tvalid-logloss:0.297395\n",
      "[600]\ttrain-logloss:0.281199\tvalid-logloss:0.297228\n",
      "[610]\ttrain-logloss:0.280818\tvalid-logloss:0.297008\n",
      "[620]\ttrain-logloss:0.280425\tvalid-logloss:0.296806\n",
      "[630]\ttrain-logloss:0.280114\tvalid-logloss:0.29664\n",
      "[640]\ttrain-logloss:0.27984\tvalid-logloss:0.296511\n",
      "[650]\ttrain-logloss:0.279463\tvalid-logloss:0.296314\n",
      "[660]\ttrain-logloss:0.278965\tvalid-logloss:0.296067\n",
      "[670]\ttrain-logloss:0.278741\tvalid-logloss:0.295952\n",
      "[680]\ttrain-logloss:0.278429\tvalid-logloss:0.295778\n",
      "[690]\ttrain-logloss:0.278097\tvalid-logloss:0.29561\n",
      "[700]\ttrain-logloss:0.277643\tvalid-logloss:0.295392\n",
      "[710]\ttrain-logloss:0.277349\tvalid-logloss:0.295234\n",
      "[720]\ttrain-logloss:0.276994\tvalid-logloss:0.29505\n",
      "[730]\ttrain-logloss:0.276634\tvalid-logloss:0.294868\n",
      "[740]\ttrain-logloss:0.276242\tvalid-logloss:0.294675\n",
      "[750]\ttrain-logloss:0.275908\tvalid-logloss:0.294504\n",
      "[760]\ttrain-logloss:0.275468\tvalid-logloss:0.294295\n",
      "[770]\ttrain-logloss:0.275238\tvalid-logloss:0.294199\n",
      "[780]\ttrain-logloss:0.275008\tvalid-logloss:0.294074\n",
      "[790]\ttrain-logloss:0.274664\tvalid-logloss:0.293896\n",
      "[800]\ttrain-logloss:0.274394\tvalid-logloss:0.293769\n",
      "[810]\ttrain-logloss:0.274034\tvalid-logloss:0.293577\n",
      "[820]\ttrain-logloss:0.273661\tvalid-logloss:0.293386\n",
      "[830]\ttrain-logloss:0.273357\tvalid-logloss:0.29323\n",
      "[840]\ttrain-logloss:0.273123\tvalid-logloss:0.293128\n",
      "[850]\ttrain-logloss:0.272755\tvalid-logloss:0.292952\n",
      "[860]\ttrain-logloss:0.272374\tvalid-logloss:0.292778\n",
      "[870]\ttrain-logloss:0.272047\tvalid-logloss:0.292626\n",
      "[880]\ttrain-logloss:0.271764\tvalid-logloss:0.29249\n",
      "[890]\ttrain-logloss:0.271461\tvalid-logloss:0.292337\n",
      "[900]\ttrain-logloss:0.271133\tvalid-logloss:0.292183\n",
      "[910]\ttrain-logloss:0.270698\tvalid-logloss:0.291975\n",
      "[920]\ttrain-logloss:0.270443\tvalid-logloss:0.29186\n",
      "[930]\ttrain-logloss:0.270127\tvalid-logloss:0.291722\n",
      "[940]\ttrain-logloss:0.269817\tvalid-logloss:0.29155\n",
      "[950]\ttrain-logloss:0.269619\tvalid-logloss:0.291442\n",
      "[960]\ttrain-logloss:0.26928\tvalid-logloss:0.291286\n",
      "[970]\ttrain-logloss:0.269075\tvalid-logloss:0.291188\n",
      "[980]\ttrain-logloss:0.268788\tvalid-logloss:0.291036\n",
      "[990]\ttrain-logloss:0.268474\tvalid-logloss:0.290885\n",
      "CPU times: user 1h 4min 18s, sys: 668 ms, total: 1h 4min 18s\n",
      "Wall time: 8min 18s\n"
     ]
    }
   ],
   "source": [
    "%%time\n",
    "bst = train_xgb(mnmx_scaler.transform(xx_train), mnmx_scaler.transform(xx_valid), yy_train, yy_valid, num_boost_round=1000, max_depth=10)"
   ]
  },
  {
   "cell_type": "code",
   "execution_count": null,
   "metadata": {
    "collapsed": true
   },
   "outputs": [],
   "source": []
  },
  {
   "cell_type": "code",
   "execution_count": 27,
   "metadata": {
    "collapsed": true
   },
   "outputs": [],
   "source": [
    "bst.save_model('xgb_model_with_fasttext_features_standard_scaler.model')"
   ]
  },
  {
   "cell_type": "code",
   "execution_count": 37,
   "metadata": {
    "scrolled": true
   },
   "outputs": [
    {
     "name": "stdout",
     "output_type": "stream",
     "text": [
      "0 cv\n",
      "1 fs_cos\n",
      "2 fs_cos_q1_x_word_mean_q2_cos\n",
      "3 fs_cos_q2_x_word_mean_q1_cos\n",
      "4 fs_word_mean_cos\n",
      "5 is_both_math\n",
      "6 is_q1_math\n",
      "7 is_q2_math\n",
      "8 len_q1\n",
      "9 len_q2\n",
      "10 length_diff\n",
      "11 math_pattern_match\n",
      "12 num_exact_nums_match\n",
      "13 num_terms_q1\n",
      "14 num_terms_q2\n",
      "15 word_num_diff\n",
      "16 wv\n"
     ]
    }
   ],
   "source": [
    "for ix, col in enumerate(xx_train.columns):\n",
    "    print ix, col"
   ]
  },
  {
   "cell_type": "code",
   "execution_count": 93,
   "metadata": {},
   "outputs": [
    {
     "data": {
      "image/png": "[encoded data removed]",
      "text/plain": [
       "<matplotlib.figure.Figure at 0x7fe7923a7b10>"
      ]
     },
     "metadata": {},
     "output_type": "display_data"
    }
   ],
   "source": [
    "plt.rcParams['figure.figsize'] = (6.0, 8.0)\n",
    "xgb.plot_importance(bst)\n",
    "plt.show()"
   ]
  },
  {
   "cell_type": "code",
   "execution_count": 29,
   "metadata": {},
   "outputs": [
    {
     "data": {
      "image/png": "[encoded data removed]",
      "text/plain": [
       "<matplotlib.figure.Figure at 0x7f42c2ee6610>"
      ]
     },
     "metadata": {},
     "output_type": "display_data"
    }
   ],
   "source": [
    "plt.rcParams['figure.figsize'] = (6.0, 8.0)\n",
    "xgb.plot_importance(bst)\n",
    "plt.show()"
   ]
  },
  {
   "cell_type": "code",
   "execution_count": 38,
   "metadata": {},
   "outputs": [
    {
     "data": {
      "image/png": "[encoded data removed]",
      "text/plain": [
       "<matplotlib.figure.Figure at 0x7f430968dfd0>"
      ]
     },
     "metadata": {},
     "output_type": "display_data"
    }
   ],
   "source": [
    "plt.rcParams['figure.figsize'] = (6.0, 8.0)\n",
    "xgb.plot_importance(bst)\n",
    "plt.show()"
   ]
  },
  {
   "cell_type": "code",
   "execution_count": null,
   "metadata": {
    "collapsed": true
   },
   "outputs": [],
   "source": [
    "# 0 cv\n",
    "# 1 fs_cos\n",
    "# 2 fs_cos_q1_x_word_mean_q2_cos\n",
    "# 3 fs_cos_q2_x_word_mean_q1_cos\n",
    "# 4 fs_word_mean_cos\n",
    "# 5 is_both_math\n",
    "# 6 is_q1_math\n",
    "# 7 is_q2_math\n",
    "# 8 len_q1\n",
    "# 9 len_q2\n",
    "# 10 length_diff\n",
    "# 11 math_pattern_match\n",
    "# 12 num_exact_nums_match\n",
    "# 13 num_terms_q1\n",
    "# 14 num_terms_q2\n",
    "# 15 word_num_diff\n",
    "# 16 wv"
   ]
  },
  {
   "cell_type": "code",
   "execution_count": 99,
   "metadata": {},
   "outputs": [
    {
     "name": "stdout",
     "output_type": "stream",
     "text": [
      "Test batch size: 165113\n",
      "Current batch in main thread: 990678\n",
      "Current batch in main thread: 2146469\n",
      "Current batch in main thread: 3302260\n",
      "Finished computing tfidf features after 1447.32466602 seconds.\n",
      "Current batch in main thread: 990678\n",
      "Current batch in main thread: 2146469\n",
      "Current batch in main thread: 3302260\n",
      "Finished computing heuristic features after 1558.31889009 seconds.\n",
      "Current all-time max memory: 12826 MB\n",
      "CPU times: user 7.75 s, sys: 2.29 s, total: 10 s\n",
      "Wall time: 25min 58s\n"
     ]
    }
   ],
   "source": [
    "%%time\n",
    "test_batch_size = get_tfidf_batch_size(test_df, NUM_PROC=NUM_PROC)\n",
    "print('Test batch size: {}'.format(test_batch_size))\n",
    "\n",
    "X_test = parallel_get_features(\n",
    "    test_df, is_train=False, tfidf_sample_batch=test_batch_size, heuristics_sample_batch=test_batch_size\n",
    ")\n",
    "\n",
    "log_max_mem_usage()"
   ]
  },
  {
   "cell_type": "code",
   "execution_count": 30,
   "metadata": {},
   "outputs": [
    {
     "name": "stdout",
     "output_type": "stream",
     "text": [
      "Test batch size: 335113\n",
      "Current batch in main thread: 2010678\n",
      "Current batch in main thread: 4356469\n",
      "Finished computing tfidf features after 463.055599928 seconds.\n",
      "Current batch in main thread: 2010678\n",
      "Current batch in main thread: 4356469\n",
      "Finished computing heuristic features after 513.302219868 seconds.\n",
      "Current all-time max memory: 6387 MB\n",
      "CPU times: user 4.58 s, sys: 820 ms, total: 5.4 s\n",
      "Wall time: 8min 33s\n"
     ]
    }
   ],
   "source": [
    "%%time\n",
    "test_batch_size = get_tfidf_batch_size(test_df, NUM_PROC=NUM_PROC)\n",
    "print('Test batch size: {}'.format(test_batch_size))\n",
    "\n",
    "X_test = parallel_get_features(\n",
    "    test_df, is_train=False, tfidf_sample_batch=test_batch_size, heuristics_sample_batch=test_batch_size\n",
    ")\n",
    "\n",
    "log_max_mem_usage()"
   ]
  },
  {
   "cell_type": "code",
   "execution_count": 100,
   "metadata": {},
   "outputs": [
    {
     "name": "stderr",
     "output_type": "stream",
     "text": [
      "/home/avsolatorio/anaconda/lib/python2.7/site-packages/tables/path.py:100: NaturalNameWarning: object name is not a valid Python identifier: 'test-features-X_test-fasttext'; it does not match the pattern ``^[a-zA-Z_][a-zA-Z0-9_]*$``; you will not be able to use natural naming to access this object; using ``getattr()`` will still work, though\n",
      "  NaturalNameWarning)\n"
     ]
    },
    {
     "name": "stdout",
     "output_type": "stream",
     "text": [
      "CPU times: user 116 ms, sys: 176 ms, total: 292 ms\n",
      "Wall time: 314 ms\n"
     ]
    }
   ],
   "source": [
    "%%time\n",
    "X_test.to_hdf('kaggle-quora', 'test-features-X_test-fasttext')"
   ]
  },
  {
   "cell_type": "code",
   "execution_count": 39,
   "metadata": {},
   "outputs": [
    {
     "name": "stdout",
     "output_type": "stream",
     "text": [
      "CPU times: user 3min 57s, sys: 132 ms, total: 3min 57s\n",
      "Wall time: 30.2 s\n"
     ]
    }
   ],
   "source": [
    "%%time\n",
    "d_test = xgb.DMatrix(mnmx_scaler.transform(X_test[xx_train.columns]))\n",
    "y_pred = bst.predict(d_test)"
   ]
  },
  {
   "cell_type": "code",
   "execution_count": 142,
   "metadata": {},
   "outputs": [
    {
     "data": {
      "text/html": [
       "<div>\n",
       "<table border=\"1\" class=\"dataframe\">\n",
       "  <thead>\n",
       "    <tr style=\"text-align: right;\">\n",
       "      <th></th>\n",
       "      <th>cv</th>\n",
       "      <th>fs_cos</th>\n",
       "      <th>fs_cos_q1_x_word_mean_q2_cos</th>\n",
       "      <th>fs_cos_q2_x_word_mean_q1_cos</th>\n",
       "      <th>fs_word_mean_cos</th>\n",
       "      <th>wv</th>\n",
       "      <th>is_both_math</th>\n",
       "      <th>is_q1_math</th>\n",
       "      <th>is_q2_math</th>\n",
       "      <th>len_q1</th>\n",
       "      <th>len_q2</th>\n",
       "      <th>length_diff</th>\n",
       "      <th>math_pattern_match</th>\n",
       "      <th>num_exact_nums_match</th>\n",
       "      <th>num_terms_q1</th>\n",
       "      <th>num_terms_q2</th>\n",
       "      <th>word_num_diff</th>\n",
       "    </tr>\n",
       "  </thead>\n",
       "  <tbody>\n",
       "    <tr>\n",
       "      <th>0</th>\n",
       "      <td>0.264866</td>\n",
       "      <td>0.817675</td>\n",
       "      <td>0.667519</td>\n",
       "      <td>0.633732</td>\n",
       "      <td>0.765498</td>\n",
       "      <td>0.142376</td>\n",
       "      <td>0</td>\n",
       "      <td>0</td>\n",
       "      <td>0</td>\n",
       "      <td>57</td>\n",
       "      <td>68</td>\n",
       "      <td>11</td>\n",
       "      <td>0</td>\n",
       "      <td>1</td>\n",
       "      <td>11</td>\n",
       "      <td>14</td>\n",
       "      <td>3</td>\n",
       "    </tr>\n",
       "    <tr>\n",
       "      <th>1</th>\n",
       "      <td>0.479405</td>\n",
       "      <td>0.866874</td>\n",
       "      <td>0.685217</td>\n",
       "      <td>0.673787</td>\n",
       "      <td>0.786820</td>\n",
       "      <td>0.268047</td>\n",
       "      <td>0</td>\n",
       "      <td>0</td>\n",
       "      <td>0</td>\n",
       "      <td>66</td>\n",
       "      <td>43</td>\n",
       "      <td>23</td>\n",
       "      <td>0</td>\n",
       "      <td>0</td>\n",
       "      <td>14</td>\n",
       "      <td>7</td>\n",
       "      <td>7</td>\n",
       "    </tr>\n",
       "    <tr>\n",
       "      <th>2</th>\n",
       "      <td>0.497612</td>\n",
       "      <td>0.847755</td>\n",
       "      <td>0.590761</td>\n",
       "      <td>0.615242</td>\n",
       "      <td>0.839712</td>\n",
       "      <td>0.295772</td>\n",
       "      <td>0</td>\n",
       "      <td>0</td>\n",
       "      <td>0</td>\n",
       "      <td>60</td>\n",
       "      <td>29</td>\n",
       "      <td>31</td>\n",
       "      <td>0</td>\n",
       "      <td>0</td>\n",
       "      <td>14</td>\n",
       "      <td>6</td>\n",
       "      <td>8</td>\n",
       "    </tr>\n",
       "    <tr>\n",
       "      <th>3</th>\n",
       "      <td>0.157735</td>\n",
       "      <td>0.566624</td>\n",
       "      <td>0.476788</td>\n",
       "      <td>0.573481</td>\n",
       "      <td>0.583666</td>\n",
       "      <td>0.000000</td>\n",
       "      <td>0</td>\n",
       "      <td>0</td>\n",
       "      <td>0</td>\n",
       "      <td>27</td>\n",
       "      <td>17</td>\n",
       "      <td>10</td>\n",
       "      <td>0</td>\n",
       "      <td>0</td>\n",
       "      <td>4</td>\n",
       "      <td>3</td>\n",
       "      <td>1</td>\n",
       "    </tr>\n",
       "    <tr>\n",
       "      <th>4</th>\n",
       "      <td>0.337109</td>\n",
       "      <td>0.727845</td>\n",
       "      <td>0.572419</td>\n",
       "      <td>0.635509</td>\n",
       "      <td>0.844452</td>\n",
       "      <td>0.279861</td>\n",
       "      <td>0</td>\n",
       "      <td>0</td>\n",
       "      <td>0</td>\n",
       "      <td>32</td>\n",
       "      <td>30</td>\n",
       "      <td>2</td>\n",
       "      <td>0</td>\n",
       "      <td>0</td>\n",
       "      <td>4</td>\n",
       "      <td>6</td>\n",
       "      <td>2</td>\n",
       "    </tr>\n",
       "  </tbody>\n",
       "</table>\n",
       "</div>"
      ],
      "text/plain": [
       "         cv    fs_cos  fs_cos_q1_x_word_mean_q2_cos  \\\n",
       "0  0.264866  0.817675                      0.667519   \n",
       "1  0.479405  0.866874                      0.685217   \n",
       "2  0.497612  0.847755                      0.590761   \n",
       "3  0.157735  0.566624                      0.476788   \n",
       "4  0.337109  0.727845                      0.572419   \n",
       "\n",
       "   fs_cos_q2_x_word_mean_q1_cos  fs_word_mean_cos        wv  is_both_math  \\\n",
       "0                      0.633732          0.765498  0.142376             0   \n",
       "1                      0.673787          0.786820  0.268047             0   \n",
       "2                      0.615242          0.839712  0.295772             0   \n",
       "3                      0.573481          0.583666  0.000000             0   \n",
       "4                      0.635509          0.844452  0.279861             0   \n",
       "\n",
       "   is_q1_math  is_q2_math  len_q1  len_q2  length_diff  math_pattern_match  \\\n",
       "0           0           0      57      68           11                   0   \n",
       "1           0           0      66      43           23                   0   \n",
       "2           0           0      60      29           31                   0   \n",
       "3           0           0      27      17           10                   0   \n",
       "4           0           0      32      30            2                   0   \n",
       "\n",
       "   num_exact_nums_match  num_terms_q1  num_terms_q2  word_num_diff  \n",
       "0                     1            11            14              3  \n",
       "1                     0            14             7              7  \n",
       "2                     0            14             6              8  \n",
       "3                     0             4             3              1  \n",
       "4                     0             4             6              2  "
      ]
     },
     "execution_count": 142,
     "metadata": {},
     "output_type": "execute_result"
    }
   ],
   "source": []
  },
  {
   "cell_type": "code",
   "execution_count": 40,
   "metadata": {
    "collapsed": true
   },
   "outputs": [],
   "source": [
    "sub = pd.DataFrame()\n",
    "\n",
    "sub['test_id'] = test_df['test_id']\n",
    "sub['is_duplicate'] = y_pred\n",
    "\n",
    "sub.to_csv('xgb_submission_with_fasttext_features_minmax_scaler_depth10{}.csv'.format(datetime.now()), index=False)"
   ]
  },
  {
   "cell_type": "code",
   "execution_count": 41,
   "metadata": {},
   "outputs": [
    {
     "data": {
      "text/plain": [
       "test_id         1.173124e+06\n",
       "is_duplicate    1.206339e-01\n",
       "dtype: float32"
      ]
     },
     "execution_count": 41,
     "metadata": {},
     "output_type": "execute_result"
    }
   ],
   "source": [
    "sub.mean() "
   ]
  },
  {
   "cell_type": "code",
   "execution_count": 33,
   "metadata": {},
   "outputs": [
    {
     "data": {
      "text/plain": [
       "test_id         1.173124e+06\n",
       "is_duplicate    1.161454e-01\n",
       "dtype: float32"
      ]
     },
     "execution_count": 33,
     "metadata": {},
     "output_type": "execute_result"
    }
   ],
   "source": [
    "sub.mean() "
   ]
  },
  {
   "cell_type": "code",
   "execution_count": 172,
   "metadata": {
    "scrolled": true
   },
   "outputs": [
    {
     "name": "stdout",
     "output_type": "stream",
     "text": [
      "[0]\ttrain-logloss:0.68608\n",
      "Will train until train-logloss hasn't improved in 100 rounds.\n",
      "[10]\ttrain-logloss:0.628039\n",
      "[20]\ttrain-logloss:0.586361\n",
      "[30]\ttrain-logloss:0.555488\n",
      "[40]\ttrain-logloss:0.531921\n",
      "[50]\ttrain-logloss:0.513619\n",
      "[60]\ttrain-logloss:0.499051\n",
      "[70]\ttrain-logloss:0.48739\n",
      "[80]\ttrain-logloss:0.477985\n",
      "[90]\ttrain-logloss:0.470449\n",
      "[100]\ttrain-logloss:0.464213\n",
      "[110]\ttrain-logloss:0.459012\n",
      "[120]\ttrain-logloss:0.454582\n",
      "[130]\ttrain-logloss:0.450912\n",
      "[140]\ttrain-logloss:0.447906\n",
      "[150]\ttrain-logloss:0.445341\n",
      "[160]\ttrain-logloss:0.443138\n",
      "[170]\ttrain-logloss:0.441461\n",
      "[180]\ttrain-logloss:0.440003\n",
      "[190]\ttrain-logloss:0.438608\n",
      "[200]\ttrain-logloss:0.4373\n",
      "[210]\ttrain-logloss:0.436248\n",
      "[220]\ttrain-logloss:0.435209\n",
      "[230]\ttrain-logloss:0.434281\n",
      "[240]\ttrain-logloss:0.433522\n",
      "[250]\ttrain-logloss:0.432775\n",
      "[260]\ttrain-logloss:0.432185\n",
      "[270]\ttrain-logloss:0.431522\n",
      "[280]\ttrain-logloss:0.430799\n",
      "[290]\ttrain-logloss:0.430172\n",
      "[300]\ttrain-logloss:0.429518\n",
      "[310]\ttrain-logloss:0.428816\n",
      "[320]\ttrain-logloss:0.428003\n",
      "[330]\ttrain-logloss:0.427188\n",
      "[340]\ttrain-logloss:0.426542\n",
      "[350]\ttrain-logloss:0.425912\n",
      "[360]\ttrain-logloss:0.425457\n",
      "[370]\ttrain-logloss:0.424763\n",
      "[380]\ttrain-logloss:0.424162\n",
      "[390]\ttrain-logloss:0.423723\n",
      "[400]\ttrain-logloss:0.42313\n",
      "[410]\ttrain-logloss:0.422552\n",
      "[420]\ttrain-logloss:0.422123\n",
      "[430]\ttrain-logloss:0.421645\n",
      "[440]\ttrain-logloss:0.42117\n",
      "[450]\ttrain-logloss:0.420575\n",
      "[460]\ttrain-logloss:0.419732\n",
      "[470]\ttrain-logloss:0.419148\n",
      "[480]\ttrain-logloss:0.418642\n",
      "[490]\ttrain-logloss:0.418092\n",
      "[500]\ttrain-logloss:0.417608\n",
      "[510]\ttrain-logloss:0.417033\n",
      "[520]\ttrain-logloss:0.416563\n",
      "[530]\ttrain-logloss:0.416001\n",
      "[540]\ttrain-logloss:0.415536\n",
      "[550]\ttrain-logloss:0.414976\n",
      "[560]\ttrain-logloss:0.414253\n",
      "[570]\ttrain-logloss:0.413737\n",
      "[580]\ttrain-logloss:0.413275\n",
      "[590]\ttrain-logloss:0.412733\n",
      "[600]\ttrain-logloss:0.412006\n",
      "[610]\ttrain-logloss:0.411374\n",
      "[620]\ttrain-logloss:0.410721\n",
      "[630]\ttrain-logloss:0.410413\n",
      "[640]\ttrain-logloss:0.409927\n",
      "[650]\ttrain-logloss:0.409342\n",
      "[660]\ttrain-logloss:0.408663\n",
      "[670]\ttrain-logloss:0.408142\n",
      "[680]\ttrain-logloss:0.407607\n",
      "[690]\ttrain-logloss:0.407279\n",
      "[700]\ttrain-logloss:0.406818\n",
      "[710]\ttrain-logloss:0.40616\n",
      "[720]\ttrain-logloss:0.405748\n",
      "[730]\ttrain-logloss:0.405306\n",
      "[740]\ttrain-logloss:0.4049\n",
      "[750]\ttrain-logloss:0.403992\n",
      "[760]\ttrain-logloss:0.40331\n",
      "[770]\ttrain-logloss:0.403056\n",
      "[780]\ttrain-logloss:0.402627\n",
      "[790]\ttrain-logloss:0.40212\n",
      "[800]\ttrain-logloss:0.40181\n",
      "[810]\ttrain-logloss:0.401272\n",
      "[820]\ttrain-logloss:0.400703\n",
      "[830]\ttrain-logloss:0.400302\n",
      "[840]\ttrain-logloss:0.399591\n",
      "[850]\ttrain-logloss:0.398952\n",
      "[860]\ttrain-logloss:0.398459\n",
      "[870]\ttrain-logloss:0.397882\n",
      "[880]\ttrain-logloss:0.397424\n",
      "[890]\ttrain-logloss:0.397076\n",
      "[900]\ttrain-logloss:0.396584\n",
      "[910]\ttrain-logloss:0.396084\n",
      "[920]\ttrain-logloss:0.395654\n",
      "[930]\ttrain-logloss:0.395126\n",
      "[940]\ttrain-logloss:0.394737\n",
      "[950]\ttrain-logloss:0.394311\n",
      "[960]\ttrain-logloss:0.393785\n",
      "[970]\ttrain-logloss:0.393492\n",
      "[980]\ttrain-logloss:0.393158\n",
      "[990]\ttrain-logloss:0.392784\n",
      "[1000]\ttrain-logloss:0.392423\n",
      "[1010]\ttrain-logloss:0.392085\n",
      "[1020]\ttrain-logloss:0.391668\n",
      "[1030]\ttrain-logloss:0.391432\n",
      "[1040]\ttrain-logloss:0.390999\n",
      "[1050]\ttrain-logloss:0.390767\n",
      "[1060]\ttrain-logloss:0.390285\n",
      "[1070]\ttrain-logloss:0.389966\n",
      "[1080]\ttrain-logloss:0.38971\n",
      "[1090]\ttrain-logloss:0.38942\n",
      "[1100]\ttrain-logloss:0.389052\n",
      "[1110]\ttrain-logloss:0.388583\n",
      "[1120]\ttrain-logloss:0.388272\n",
      "[1130]\ttrain-logloss:0.387667\n",
      "[1140]\ttrain-logloss:0.387283\n",
      "[1150]\ttrain-logloss:0.386871\n",
      "[1160]\ttrain-logloss:0.386427\n",
      "[1170]\ttrain-logloss:0.386024\n",
      "[1180]\ttrain-logloss:0.385621\n",
      "[1190]\ttrain-logloss:0.38519\n",
      "[1200]\ttrain-logloss:0.38486\n",
      "[1210]\ttrain-logloss:0.384432\n",
      "[1220]\ttrain-logloss:0.384182\n",
      "[1230]\ttrain-logloss:0.383773\n",
      "[1240]\ttrain-logloss:0.383457\n",
      "[1250]\ttrain-logloss:0.383053\n",
      "[1260]\ttrain-logloss:0.382591\n",
      "[1270]\ttrain-logloss:0.382229\n",
      "[1280]\ttrain-logloss:0.381898\n",
      "[1290]\ttrain-logloss:0.381546\n",
      "[1300]\ttrain-logloss:0.38112\n",
      "[1310]\ttrain-logloss:0.380591\n",
      "[1320]\ttrain-logloss:0.38021\n",
      "[1330]\ttrain-logloss:0.379887\n",
      "[1340]\ttrain-logloss:0.379425\n",
      "[1350]\ttrain-logloss:0.379124\n",
      "[1360]\ttrain-logloss:0.378849\n",
      "[1370]\ttrain-logloss:0.378509\n",
      "[1380]\ttrain-logloss:0.378219\n",
      "[1390]\ttrain-logloss:0.37784\n",
      "[1400]\ttrain-logloss:0.377625\n",
      "[1410]\ttrain-logloss:0.37715\n",
      "[1420]\ttrain-logloss:0.376758\n",
      "[1430]\ttrain-logloss:0.376373\n",
      "[1440]\ttrain-logloss:0.375944\n",
      "[1450]\ttrain-logloss:0.375598\n",
      "[1460]\ttrain-logloss:0.375321\n",
      "[1470]\ttrain-logloss:0.375005\n",
      "[1480]\ttrain-logloss:0.374649\n",
      "[1490]\ttrain-logloss:0.374449\n",
      "[1500]\ttrain-logloss:0.374008\n",
      "[1510]\ttrain-logloss:0.373571\n",
      "[1520]\ttrain-logloss:0.373404\n",
      "[1530]\ttrain-logloss:0.37306\n",
      "[1540]\ttrain-logloss:0.37272\n",
      "[1550]\ttrain-logloss:0.372489\n",
      "[1560]\ttrain-logloss:0.372193\n",
      "[1570]\ttrain-logloss:0.371989\n",
      "[1580]\ttrain-logloss:0.371611\n",
      "[1590]\ttrain-logloss:0.371247\n",
      "[1600]\ttrain-logloss:0.370939\n",
      "[1610]\ttrain-logloss:0.370597\n",
      "[1620]\ttrain-logloss:0.370471\n",
      "[1630]\ttrain-logloss:0.370017\n",
      "[1640]\ttrain-logloss:0.369691\n",
      "[1650]\ttrain-logloss:0.369356\n",
      "[1660]\ttrain-logloss:0.368977\n",
      "[1670]\ttrain-logloss:0.368472\n",
      "[1680]\ttrain-logloss:0.368203\n",
      "[1690]\ttrain-logloss:0.368002\n",
      "[1700]\ttrain-logloss:0.367619\n",
      "[1710]\ttrain-logloss:0.367376\n",
      "[1720]\ttrain-logloss:0.36709\n",
      "[1730]\ttrain-logloss:0.366736\n",
      "[1740]\ttrain-logloss:0.366322\n",
      "[1750]\ttrain-logloss:0.365985\n",
      "[1760]\ttrain-logloss:0.365585\n",
      "[1770]\ttrain-logloss:0.365235\n",
      "[1780]\ttrain-logloss:0.364804\n",
      "[1790]\ttrain-logloss:0.364367\n",
      "[1800]\ttrain-logloss:0.364068\n",
      "[1810]\ttrain-logloss:0.363777\n",
      "[1820]\ttrain-logloss:0.363656\n",
      "[1830]\ttrain-logloss:0.363328\n",
      "[1840]\ttrain-logloss:0.363025\n",
      "[1850]\ttrain-logloss:0.3626\n",
      "[1860]\ttrain-logloss:0.362318\n",
      "[1870]\ttrain-logloss:0.362068\n",
      "[1880]\ttrain-logloss:0.361899\n",
      "[1890]\ttrain-logloss:0.36162\n",
      "[1900]\ttrain-logloss:0.361277\n",
      "[1910]\ttrain-logloss:0.360906\n",
      "[1920]\ttrain-logloss:0.360663\n",
      "[1930]\ttrain-logloss:0.360356\n",
      "[1940]\ttrain-logloss:0.360118\n",
      "[1950]\ttrain-logloss:0.359817\n",
      "[1960]\ttrain-logloss:0.35947\n",
      "[1970]\ttrain-logloss:0.359215\n",
      "[1980]\ttrain-logloss:0.35897\n",
      "[1990]\ttrain-logloss:0.358678\n",
      "[2000]\ttrain-logloss:0.358435\n",
      "[2010]\ttrain-logloss:0.358301\n",
      "[2020]\ttrain-logloss:0.357885\n",
      "[2030]\ttrain-logloss:0.357548\n",
      "[2040]\ttrain-logloss:0.357245\n",
      "[2050]\ttrain-logloss:0.356869\n",
      "[2060]\ttrain-logloss:0.356719\n",
      "[2070]\ttrain-logloss:0.356482\n",
      "[2080]\ttrain-logloss:0.356188\n",
      "[2090]\ttrain-logloss:0.355773\n",
      "[2100]\ttrain-logloss:0.355477\n",
      "[2110]\ttrain-logloss:0.355242\n",
      "[2120]\ttrain-logloss:0.354781\n",
      "[2130]\ttrain-logloss:0.354451\n",
      "[2140]\ttrain-logloss:0.354243\n",
      "[2150]\ttrain-logloss:0.353736\n",
      "[2160]\ttrain-logloss:0.353602\n",
      "[2170]\ttrain-logloss:0.353377\n",
      "[2180]\ttrain-logloss:0.353061\n",
      "[2190]\ttrain-logloss:0.352776\n",
      "[2200]\ttrain-logloss:0.352611\n",
      "[2210]\ttrain-logloss:0.351937\n",
      "[2220]\ttrain-logloss:0.351689\n",
      "[2230]\ttrain-logloss:0.351295\n",
      "[2240]\ttrain-logloss:0.351039\n",
      "[2250]\ttrain-logloss:0.350894\n",
      "[2260]\ttrain-logloss:0.350733\n",
      "[2270]\ttrain-logloss:0.350479\n",
      "[2280]\ttrain-logloss:0.350282\n",
      "[2290]\ttrain-logloss:0.349884\n",
      "[2300]\ttrain-logloss:0.349677\n",
      "[2310]\ttrain-logloss:0.349495\n",
      "[2320]\ttrain-logloss:0.349352\n",
      "[2330]\ttrain-logloss:0.349194\n",
      "[2340]\ttrain-logloss:0.349047\n",
      "[2350]\ttrain-logloss:0.348715\n",
      "[2360]\ttrain-logloss:0.348451\n",
      "[2370]\ttrain-logloss:0.348071\n",
      "[2380]\ttrain-logloss:0.347782\n",
      "[2390]\ttrain-logloss:0.347489\n",
      "[2400]\ttrain-logloss:0.347208\n",
      "[2410]\ttrain-logloss:0.346864\n",
      "[2420]\ttrain-logloss:0.346536\n",
      "[2430]\ttrain-logloss:0.346292\n",
      "[2440]\ttrain-logloss:0.346098\n",
      "[2450]\ttrain-logloss:0.345752\n",
      "[2460]\ttrain-logloss:0.345458\n",
      "[2470]\ttrain-logloss:0.345122\n",
      "[2480]\ttrain-logloss:0.344887\n",
      "[2490]\ttrain-logloss:0.344699\n",
      "[2500]\ttrain-logloss:0.344459\n",
      "[2510]\ttrain-logloss:0.344275\n",
      "[2520]\ttrain-logloss:0.343953\n",
      "[2530]\ttrain-logloss:0.343694\n",
      "[2540]\ttrain-logloss:0.343422\n",
      "[2550]\ttrain-logloss:0.343052\n",
      "[2560]\ttrain-logloss:0.342819\n",
      "[2570]\ttrain-logloss:0.342466\n",
      "[2580]\ttrain-logloss:0.342134\n",
      "[2590]\ttrain-logloss:0.341889\n",
      "[2600]\ttrain-logloss:0.341616\n",
      "[2610]\ttrain-logloss:0.341354\n",
      "[2620]\ttrain-logloss:0.34097\n",
      "[2630]\ttrain-logloss:0.340741\n",
      "[2640]\ttrain-logloss:0.340503\n",
      "[2650]\ttrain-logloss:0.340227\n",
      "[2660]\ttrain-logloss:0.339989\n",
      "[2670]\ttrain-logloss:0.33983\n",
      "[2680]\ttrain-logloss:0.339648\n",
      "[2690]\ttrain-logloss:0.339396\n",
      "[2700]\ttrain-logloss:0.339235\n",
      "[2710]\ttrain-logloss:0.339041\n",
      "[2720]\ttrain-logloss:0.3388\n",
      "[2730]\ttrain-logloss:0.338494\n",
      "[2740]\ttrain-logloss:0.338152\n",
      "[2750]\ttrain-logloss:0.337745\n",
      "[2760]\ttrain-logloss:0.337527\n",
      "[2770]\ttrain-logloss:0.337343\n",
      "[2780]\ttrain-logloss:0.337205\n",
      "[2790]\ttrain-logloss:0.337024\n",
      "[2800]\ttrain-logloss:0.336748\n",
      "[2810]\ttrain-logloss:0.336385\n",
      "[2820]\ttrain-logloss:0.336194\n",
      "[2830]\ttrain-logloss:0.335939\n",
      "[2840]\ttrain-logloss:0.335807\n",
      "[2850]\ttrain-logloss:0.335534\n",
      "[2860]\ttrain-logloss:0.335357\n",
      "[2870]\ttrain-logloss:0.335137\n",
      "[2880]\ttrain-logloss:0.334888\n",
      "[2890]\ttrain-logloss:0.334714\n",
      "[2900]\ttrain-logloss:0.33447\n",
      "[2910]\ttrain-logloss:0.334264\n",
      "[2920]\ttrain-logloss:0.334069\n",
      "[2930]\ttrain-logloss:0.333842\n",
      "[2940]\ttrain-logloss:0.333599\n",
      "[2950]\ttrain-logloss:0.333469\n",
      "[2960]\ttrain-logloss:0.333287\n",
      "[2970]\ttrain-logloss:0.332983\n",
      "[2980]\ttrain-logloss:0.332695\n",
      "[2990]\ttrain-logloss:0.332466\n",
      "[3000]\ttrain-logloss:0.332255\n",
      "[3010]\ttrain-logloss:0.331995\n",
      "[3020]\ttrain-logloss:0.331666\n",
      "[3030]\ttrain-logloss:0.331334\n",
      "[3040]\ttrain-logloss:0.331107\n",
      "[3050]\ttrain-logloss:0.330865\n",
      "[3060]\ttrain-logloss:0.330613\n",
      "[3070]\ttrain-logloss:0.330333\n",
      "[3080]\ttrain-logloss:0.330098\n",
      "[3090]\ttrain-logloss:0.329792\n",
      "[3100]\ttrain-logloss:0.329539\n",
      "[3110]\ttrain-logloss:0.329308\n",
      "[3120]\ttrain-logloss:0.32911\n",
      "[3130]\ttrain-logloss:0.328793\n",
      "[3140]\ttrain-logloss:0.328538\n",
      "[3150]\ttrain-logloss:0.328184\n",
      "[3160]\ttrain-logloss:0.328\n",
      "[3170]\ttrain-logloss:0.32778\n",
      "[3180]\ttrain-logloss:0.327542\n",
      "[3190]\ttrain-logloss:0.327327\n",
      "[3200]\ttrain-logloss:0.327182\n",
      "[3210]\ttrain-logloss:0.327024\n",
      "[3220]\ttrain-logloss:0.32679\n",
      "[3230]\ttrain-logloss:0.326592\n",
      "[3240]\ttrain-logloss:0.3264\n",
      "[3250]\ttrain-logloss:0.326213\n",
      "[3260]\ttrain-logloss:0.326092\n",
      "[3270]\ttrain-logloss:0.325933\n",
      "[3280]\ttrain-logloss:0.325686\n",
      "[3290]\ttrain-logloss:0.325414\n",
      "[3300]\ttrain-logloss:0.32521\n",
      "[3310]\ttrain-logloss:0.324995\n",
      "[3320]\ttrain-logloss:0.324677\n",
      "[3330]\ttrain-logloss:0.324403\n",
      "[3340]\ttrain-logloss:0.324284\n",
      "[3350]\ttrain-logloss:0.324137\n",
      "[3360]\ttrain-logloss:0.323942\n",
      "[3370]\ttrain-logloss:0.32364\n",
      "[3380]\ttrain-logloss:0.32341\n",
      "[3390]\ttrain-logloss:0.32328\n",
      "[3400]\ttrain-logloss:0.323075\n",
      "[3410]\ttrain-logloss:0.322854\n",
      "[3420]\ttrain-logloss:0.322653\n",
      "[3430]\ttrain-logloss:0.322455\n",
      "[3440]\ttrain-logloss:0.322339\n",
      "[3450]\ttrain-logloss:0.322188\n",
      "[3460]\ttrain-logloss:0.321956\n",
      "[3470]\ttrain-logloss:0.321747\n",
      "[3480]\ttrain-logloss:0.321446\n",
      "[3490]\ttrain-logloss:0.321334\n",
      "[3500]\ttrain-logloss:0.321255\n",
      "[3510]\ttrain-logloss:0.321085\n",
      "[3520]\ttrain-logloss:0.320756\n",
      "[3530]\ttrain-logloss:0.320348\n",
      "[3540]\ttrain-logloss:0.320178\n",
      "[3550]\ttrain-logloss:0.320011\n",
      "[3560]\ttrain-logloss:0.319919\n",
      "[3570]\ttrain-logloss:0.319634\n",
      "[3580]\ttrain-logloss:0.319398\n",
      "[3590]\ttrain-logloss:0.319284\n",
      "[3600]\ttrain-logloss:0.318996\n",
      "[3610]\ttrain-logloss:0.318746\n",
      "[3620]\ttrain-logloss:0.318625\n",
      "[3630]\ttrain-logloss:0.318326\n",
      "[3640]\ttrain-logloss:0.318144\n",
      "[3650]\ttrain-logloss:0.318045\n",
      "[3660]\ttrain-logloss:0.317871\n",
      "[3670]\ttrain-logloss:0.317707\n",
      "[3680]\ttrain-logloss:0.317594\n",
      "[3690]\ttrain-logloss:0.317435\n",
      "[3700]\ttrain-logloss:0.317322\n",
      "[3710]\ttrain-logloss:0.317071\n",
      "[3720]\ttrain-logloss:0.316896\n",
      "[3730]\ttrain-logloss:0.316723\n",
      "[3740]\ttrain-logloss:0.316529\n",
      "[3750]\ttrain-logloss:0.316329\n",
      "[3760]\ttrain-logloss:0.31616\n",
      "[3770]\ttrain-logloss:0.316002\n",
      "[3780]\ttrain-logloss:0.315802\n",
      "[3790]\ttrain-logloss:0.315603\n",
      "[3800]\ttrain-logloss:0.315475\n",
      "[3810]\ttrain-logloss:0.315373\n",
      "[3820]\ttrain-logloss:0.315229\n",
      "[3830]\ttrain-logloss:0.314887\n",
      "[3840]\ttrain-logloss:0.31451\n",
      "[3850]\ttrain-logloss:0.314135\n",
      "[3860]\ttrain-logloss:0.313816\n",
      "[3870]\ttrain-logloss:0.313646\n",
      "[3880]\ttrain-logloss:0.313415\n",
      "[3890]\ttrain-logloss:0.313131\n",
      "[3900]\ttrain-logloss:0.312888\n",
      "[3910]\ttrain-logloss:0.312696\n",
      "[3920]\ttrain-logloss:0.312554\n",
      "[3930]\ttrain-logloss:0.31239\n",
      "[3940]\ttrain-logloss:0.312132\n",
      "[3950]\ttrain-logloss:0.311938\n",
      "[3960]\ttrain-logloss:0.311754\n",
      "[3970]\ttrain-logloss:0.311494\n",
      "[3980]\ttrain-logloss:0.311356\n",
      "[3990]\ttrain-logloss:0.311244\n",
      "[4000]\ttrain-logloss:0.311047\n",
      "[4010]\ttrain-logloss:0.310835\n",
      "[4020]\ttrain-logloss:0.310632\n",
      "[4030]\ttrain-logloss:0.310502\n",
      "[4040]\ttrain-logloss:0.310397\n",
      "[4050]\ttrain-logloss:0.310225\n",
      "[4060]\ttrain-logloss:0.309998\n",
      "[4070]\ttrain-logloss:0.309894\n",
      "[4080]\ttrain-logloss:0.309583\n",
      "[4090]\ttrain-logloss:0.309411\n",
      "[4100]\ttrain-logloss:0.309257\n",
      "[4110]\ttrain-logloss:0.309075\n",
      "[4120]\ttrain-logloss:0.308784\n",
      "[4130]\ttrain-logloss:0.308543\n",
      "[4140]\ttrain-logloss:0.308311\n",
      "[4150]\ttrain-logloss:0.308096\n",
      "[4160]\ttrain-logloss:0.307965\n",
      "[4170]\ttrain-logloss:0.307687\n",
      "[4180]\ttrain-logloss:0.307401\n",
      "[4190]\ttrain-logloss:0.307226\n",
      "[4200]\ttrain-logloss:0.307108\n",
      "[4210]\ttrain-logloss:0.307026\n",
      "[4220]\ttrain-logloss:0.306841\n",
      "[4230]\ttrain-logloss:0.306708\n",
      "[4240]\ttrain-logloss:0.306554\n",
      "[4250]\ttrain-logloss:0.306448\n",
      "[4260]\ttrain-logloss:0.306337\n",
      "[4270]\ttrain-logloss:0.30613\n",
      "[4280]\ttrain-logloss:0.305959\n",
      "[4290]\ttrain-logloss:0.30581\n",
      "[4300]\ttrain-logloss:0.305674\n",
      "[4310]\ttrain-logloss:0.305581\n",
      "[4320]\ttrain-logloss:0.305445\n",
      "[4330]\ttrain-logloss:0.305373\n",
      "[4340]\ttrain-logloss:0.305305\n",
      "[4350]\ttrain-logloss:0.30507\n",
      "[4360]\ttrain-logloss:0.304774\n",
      "[4370]\ttrain-logloss:0.304527\n",
      "[4380]\ttrain-logloss:0.30433\n",
      "[4390]\ttrain-logloss:0.304099\n",
      "[4400]\ttrain-logloss:0.303934\n",
      "[4410]\ttrain-logloss:0.303736\n",
      "[4420]\ttrain-logloss:0.303646\n",
      "[4430]\ttrain-logloss:0.303519\n",
      "[4440]\ttrain-logloss:0.303388\n",
      "[4450]\ttrain-logloss:0.303215\n",
      "[4460]\ttrain-logloss:0.303104\n",
      "[4470]\ttrain-logloss:0.302991\n",
      "[4480]\ttrain-logloss:0.302893\n",
      "[4490]\ttrain-logloss:0.302805\n",
      "[4500]\ttrain-logloss:0.30273\n",
      "[4510]\ttrain-logloss:0.302567\n",
      "[4520]\ttrain-logloss:0.302368\n",
      "[4530]\ttrain-logloss:0.302198\n",
      "[4540]\ttrain-logloss:0.301979\n",
      "[4550]\ttrain-logloss:0.301629\n",
      "[4560]\ttrain-logloss:0.301407\n",
      "[4570]\ttrain-logloss:0.301244\n",
      "[4580]\ttrain-logloss:0.301012\n",
      "[4590]\ttrain-logloss:0.300842\n",
      "[4600]\ttrain-logloss:0.300622\n",
      "[4610]\ttrain-logloss:0.300468\n",
      "[4620]\ttrain-logloss:0.300298\n",
      "[4630]\ttrain-logloss:0.300093\n",
      "[4640]\ttrain-logloss:0.299931\n",
      "[4650]\ttrain-logloss:0.299771\n",
      "[4660]\ttrain-logloss:0.299678\n",
      "[4670]\ttrain-logloss:0.299561\n",
      "[4680]\ttrain-logloss:0.299324\n",
      "[4690]\ttrain-logloss:0.299059\n",
      "[4700]\ttrain-logloss:0.298813\n",
      "[4710]\ttrain-logloss:0.298502\n",
      "[4720]\ttrain-logloss:0.298255\n",
      "[4730]\ttrain-logloss:0.298117\n",
      "[4740]\ttrain-logloss:0.297949\n",
      "[4750]\ttrain-logloss:0.297894\n",
      "[4760]\ttrain-logloss:0.297735\n",
      "[4770]\ttrain-logloss:0.297601\n",
      "[4780]\ttrain-logloss:0.297407\n",
      "[4790]\ttrain-logloss:0.29724\n",
      "[4800]\ttrain-logloss:0.296921\n",
      "[4810]\ttrain-logloss:0.296813\n",
      "[4820]\ttrain-logloss:0.296769\n",
      "[4830]\ttrain-logloss:0.296714\n",
      "[4840]\ttrain-logloss:0.296575\n",
      "[4850]\ttrain-logloss:0.29646\n",
      "[4860]\ttrain-logloss:0.296247\n",
      "[4870]\ttrain-logloss:0.296153\n",
      "[4880]\ttrain-logloss:0.296019\n",
      "[4890]\ttrain-logloss:0.295947\n",
      "[4900]\ttrain-logloss:0.295888\n",
      "[4910]\ttrain-logloss:0.295666\n",
      "[4920]\ttrain-logloss:0.2954\n",
      "[4930]\ttrain-logloss:0.295285\n",
      "[4940]\ttrain-logloss:0.295158\n",
      "[4950]\ttrain-logloss:0.295083\n",
      "[4960]\ttrain-logloss:0.294943\n",
      "[4970]\ttrain-logloss:0.294765\n",
      "[4980]\ttrain-logloss:0.294563\n",
      "[4990]\ttrain-logloss:0.294385\n",
      "[5000]\ttrain-logloss:0.294131\n",
      "[5010]\ttrain-logloss:0.293931\n",
      "[5020]\ttrain-logloss:0.293688\n",
      "[5030]\ttrain-logloss:0.293449\n",
      "[5040]\ttrain-logloss:0.293191\n",
      "[5050]\ttrain-logloss:0.292918\n",
      "[5060]\ttrain-logloss:0.292694\n",
      "[5070]\ttrain-logloss:0.292434\n",
      "[5080]\ttrain-logloss:0.292171\n",
      "[5090]\ttrain-logloss:0.291917\n",
      "[5100]\ttrain-logloss:0.291595\n",
      "[5110]\ttrain-logloss:0.291294\n",
      "[5120]\ttrain-logloss:0.291077\n",
      "[5130]\ttrain-logloss:0.290834\n",
      "[5140]\ttrain-logloss:0.290624\n",
      "[5150]\ttrain-logloss:0.290462\n",
      "[5160]\ttrain-logloss:0.290276\n",
      "[5170]\ttrain-logloss:0.290099\n",
      "[5180]\ttrain-logloss:0.289878\n",
      "[5190]\ttrain-logloss:0.289695\n",
      "[5200]\ttrain-logloss:0.289557\n",
      "[5210]\ttrain-logloss:0.289355\n",
      "[5220]\ttrain-logloss:0.289223\n",
      "[5230]\ttrain-logloss:0.288986\n",
      "[5240]\ttrain-logloss:0.288829\n",
      "[5250]\ttrain-logloss:0.288684\n",
      "[5260]\ttrain-logloss:0.288551\n",
      "[5270]\ttrain-logloss:0.288415\n",
      "[5280]\ttrain-logloss:0.288321\n",
      "[5290]\ttrain-logloss:0.288185\n",
      "[5300]\ttrain-logloss:0.288034\n",
      "[5310]\ttrain-logloss:0.287907\n",
      "[5320]\ttrain-logloss:0.287814\n",
      "[5330]\ttrain-logloss:0.287713\n",
      "[5340]\ttrain-logloss:0.287569\n",
      "[5350]\ttrain-logloss:0.287451\n",
      "[5360]\ttrain-logloss:0.287315\n",
      "[5370]\ttrain-logloss:0.287197\n",
      "[5380]\ttrain-logloss:0.28707\n",
      "[5390]\ttrain-logloss:0.286919\n",
      "[5400]\ttrain-logloss:0.286813\n",
      "[5410]\ttrain-logloss:0.286692\n",
      "[5420]\ttrain-logloss:0.286476\n",
      "[5430]\ttrain-logloss:0.286405\n",
      "[5440]\ttrain-logloss:0.286288\n",
      "[5450]\ttrain-logloss:0.286128\n",
      "[5460]\ttrain-logloss:0.286016\n",
      "[5470]\ttrain-logloss:0.285853\n",
      "[5480]\ttrain-logloss:0.285686\n",
      "[5490]\ttrain-logloss:0.285533\n",
      "[5500]\ttrain-logloss:0.285398\n",
      "[5510]\ttrain-logloss:0.285313\n",
      "[5520]\ttrain-logloss:0.285197\n",
      "[5530]\ttrain-logloss:0.285083\n",
      "[5540]\ttrain-logloss:0.284904\n",
      "[5550]\ttrain-logloss:0.284671\n",
      "[5560]\ttrain-logloss:0.284522\n",
      "[5570]\ttrain-logloss:0.284336\n",
      "[5580]\ttrain-logloss:0.284185\n",
      "[5590]\ttrain-logloss:0.284047\n",
      "[5600]\ttrain-logloss:0.283869\n",
      "[5610]\ttrain-logloss:0.2837\n",
      "[5620]\ttrain-logloss:0.283556\n",
      "[5630]\ttrain-logloss:0.283363\n",
      "[5640]\ttrain-logloss:0.283223\n",
      "[5650]\ttrain-logloss:0.283078\n",
      "[5660]\ttrain-logloss:0.282934\n",
      "[5670]\ttrain-logloss:0.282811\n",
      "[5680]\ttrain-logloss:0.282676\n",
      "[5690]\ttrain-logloss:0.282566\n",
      "[5700]\ttrain-logloss:0.282432\n",
      "[5710]\ttrain-logloss:0.282305\n",
      "[5720]\ttrain-logloss:0.282148\n",
      "[5730]\ttrain-logloss:0.282015\n",
      "[5740]\ttrain-logloss:0.281917\n",
      "[5750]\ttrain-logloss:0.28184\n",
      "[5760]\ttrain-logloss:0.281761\n",
      "[5770]\ttrain-logloss:0.281588\n",
      "[5780]\ttrain-logloss:0.28148\n",
      "[5790]\ttrain-logloss:0.281259\n",
      "[5800]\ttrain-logloss:0.281103\n",
      "[5810]\ttrain-logloss:0.281021\n",
      "[5820]\ttrain-logloss:0.280814\n",
      "[5830]\ttrain-logloss:0.280723\n",
      "[5840]\ttrain-logloss:0.280537\n",
      "[5850]\ttrain-logloss:0.280455\n",
      "[5860]\ttrain-logloss:0.280321\n",
      "[5870]\ttrain-logloss:0.280143\n",
      "[5880]\ttrain-logloss:0.279997\n",
      "[5890]\ttrain-logloss:0.279848\n",
      "[5900]\ttrain-logloss:0.279656\n",
      "[5910]\ttrain-logloss:0.279474\n",
      "[5920]\ttrain-logloss:0.279287\n",
      "[5930]\ttrain-logloss:0.279132\n",
      "[5940]\ttrain-logloss:0.278994\n",
      "[5950]\ttrain-logloss:0.278807\n",
      "[5960]\ttrain-logloss:0.27857\n",
      "[5970]\ttrain-logloss:0.27848\n",
      "[5980]\ttrain-logloss:0.278236\n",
      "[5990]\ttrain-logloss:0.278101\n",
      "[6000]\ttrain-logloss:0.277955\n",
      "[6010]\ttrain-logloss:0.277807\n",
      "[6020]\ttrain-logloss:0.277655\n",
      "[6030]\ttrain-logloss:0.277524\n",
      "[6040]\ttrain-logloss:0.277406\n",
      "[6050]\ttrain-logloss:0.277231\n",
      "[6060]\ttrain-logloss:0.277018\n",
      "[6070]\ttrain-logloss:0.276901\n",
      "[6080]\ttrain-logloss:0.276716\n",
      "[6090]\ttrain-logloss:0.276534\n",
      "[6100]\ttrain-logloss:0.276426\n",
      "[6110]\ttrain-logloss:0.276315\n",
      "[6120]\ttrain-logloss:0.276238\n",
      "[6130]\ttrain-logloss:0.276131\n",
      "[6140]\ttrain-logloss:0.27596\n",
      "[6150]\ttrain-logloss:0.275732\n",
      "[6160]\ttrain-logloss:0.275532\n",
      "[6170]\ttrain-logloss:0.275433\n",
      "[6180]\ttrain-logloss:0.275254\n",
      "[6190]\ttrain-logloss:0.275183\n",
      "[6200]\ttrain-logloss:0.274974\n",
      "[6210]\ttrain-logloss:0.274839\n",
      "[6220]\ttrain-logloss:0.274676\n",
      "[6230]\ttrain-logloss:0.27452\n",
      "[6240]\ttrain-logloss:0.274353\n",
      "[6250]\ttrain-logloss:0.274195\n",
      "[6260]\ttrain-logloss:0.273957\n",
      "[6270]\ttrain-logloss:0.273846\n",
      "[6280]\ttrain-logloss:0.273709\n",
      "[6290]\ttrain-logloss:0.273564\n",
      "[6300]\ttrain-logloss:0.273465\n",
      "[6310]\ttrain-logloss:0.273321\n",
      "[6320]\ttrain-logloss:0.273134\n",
      "[6330]\ttrain-logloss:0.272895\n",
      "[6340]\ttrain-logloss:0.272713\n",
      "[6350]\ttrain-logloss:0.272497\n",
      "[6360]\ttrain-logloss:0.272264\n",
      "[6370]\ttrain-logloss:0.272057\n",
      "[6380]\ttrain-logloss:0.271964\n",
      "[6390]\ttrain-logloss:0.2718\n",
      "[6400]\ttrain-logloss:0.271631\n",
      "[6410]\ttrain-logloss:0.271402\n",
      "[6420]\ttrain-logloss:0.271259\n",
      "[6430]\ttrain-logloss:0.271057\n",
      "[6440]\ttrain-logloss:0.270923\n",
      "[6450]\ttrain-logloss:0.270792\n",
      "[6460]\ttrain-logloss:0.270595\n",
      "[6470]\ttrain-logloss:0.270418\n",
      "[6480]\ttrain-logloss:0.270288\n",
      "[6490]\ttrain-logloss:0.270098\n",
      "[6500]\ttrain-logloss:0.269973\n",
      "[6510]\ttrain-logloss:0.269802\n",
      "[6520]\ttrain-logloss:0.269686\n",
      "[6530]\ttrain-logloss:0.269536\n",
      "[6540]\ttrain-logloss:0.26936\n",
      "[6550]\ttrain-logloss:0.26918\n",
      "[6560]\ttrain-logloss:0.268958\n",
      "[6570]\ttrain-logloss:0.26879\n",
      "[6580]\ttrain-logloss:0.26858\n",
      "[6590]\ttrain-logloss:0.268397\n",
      "[6600]\ttrain-logloss:0.268215\n",
      "[6610]\ttrain-logloss:0.268017\n",
      "[6620]\ttrain-logloss:0.267807\n",
      "[6630]\ttrain-logloss:0.267678\n",
      "[6640]\ttrain-logloss:0.267527\n",
      "[6650]\ttrain-logloss:0.267446\n",
      "[6660]\ttrain-logloss:0.267321\n",
      "[6670]\ttrain-logloss:0.267176\n",
      "[6680]\ttrain-logloss:0.266999\n",
      "[6690]\ttrain-logloss:0.266871\n",
      "[6700]\ttrain-logloss:0.266706\n",
      "[6710]\ttrain-logloss:0.266616\n",
      "[6720]\ttrain-logloss:0.266513\n",
      "[6730]\ttrain-logloss:0.266352\n",
      "[6740]\ttrain-logloss:0.266214\n",
      "[6750]\ttrain-logloss:0.265985\n",
      "[6760]\ttrain-logloss:0.265815\n",
      "[6770]\ttrain-logloss:0.265678\n",
      "[6780]\ttrain-logloss:0.265615\n",
      "[6790]\ttrain-logloss:0.265418\n",
      "[6800]\ttrain-logloss:0.265245\n",
      "[6810]\ttrain-logloss:0.265022\n",
      "[6820]\ttrain-logloss:0.264809\n",
      "[6830]\ttrain-logloss:0.264648\n",
      "[6840]\ttrain-logloss:0.264531\n",
      "[6850]\ttrain-logloss:0.264374\n",
      "[6860]\ttrain-logloss:0.264192\n",
      "[6870]\ttrain-logloss:0.26403\n",
      "[6880]\ttrain-logloss:0.263903\n",
      "[6890]\ttrain-logloss:0.263599\n",
      "[6900]\ttrain-logloss:0.263409\n",
      "[6910]\ttrain-logloss:0.263159\n",
      "[6920]\ttrain-logloss:0.262972\n",
      "[6930]\ttrain-logloss:0.26274\n",
      "[6940]\ttrain-logloss:0.262581\n",
      "[6950]\ttrain-logloss:0.26242\n",
      "[6960]\ttrain-logloss:0.262252\n",
      "[6970]\ttrain-logloss:0.262065\n",
      "[6980]\ttrain-logloss:0.26194\n",
      "[6990]\ttrain-logloss:0.261786\n",
      "[7000]\ttrain-logloss:0.261593\n",
      "[7010]\ttrain-logloss:0.261465\n",
      "[7020]\ttrain-logloss:0.261286\n",
      "[7030]\ttrain-logloss:0.261166\n",
      "[7040]\ttrain-logloss:0.261072\n",
      "[7050]\ttrain-logloss:0.261025\n",
      "[7060]\ttrain-logloss:0.260885\n",
      "[7070]\ttrain-logloss:0.260733\n",
      "[7080]\ttrain-logloss:0.2606\n",
      "[7090]\ttrain-logloss:0.260478\n",
      "[7100]\ttrain-logloss:0.260378\n",
      "[7110]\ttrain-logloss:0.260295\n",
      "[7120]\ttrain-logloss:0.260249\n",
      "[7130]\ttrain-logloss:0.260045\n",
      "[7140]\ttrain-logloss:0.259876\n",
      "[7150]\ttrain-logloss:0.25968\n",
      "[7160]\ttrain-logloss:0.259545\n",
      "[7170]\ttrain-logloss:0.259417\n",
      "[7180]\ttrain-logloss:0.259251\n",
      "[7190]\ttrain-logloss:0.259091\n",
      "[7200]\ttrain-logloss:0.258942\n",
      "[7210]\ttrain-logloss:0.258843\n",
      "[7220]\ttrain-logloss:0.258783\n",
      "[7230]\ttrain-logloss:0.258723\n",
      "[7240]\ttrain-logloss:0.258528\n",
      "[7250]\ttrain-logloss:0.258368\n",
      "[7260]\ttrain-logloss:0.258225\n",
      "[7270]\ttrain-logloss:0.258081\n",
      "[7280]\ttrain-logloss:0.257995\n",
      "[7290]\ttrain-logloss:0.257837\n",
      "[7300]\ttrain-logloss:0.257654\n",
      "[7310]\ttrain-logloss:0.257582\n",
      "[7320]\ttrain-logloss:0.257496\n",
      "[7330]\ttrain-logloss:0.257418\n",
      "[7340]\ttrain-logloss:0.257294\n",
      "[7350]\ttrain-logloss:0.257147\n",
      "[7360]\ttrain-logloss:0.257008\n",
      "[7370]\ttrain-logloss:0.25692\n",
      "[7380]\ttrain-logloss:0.256786\n",
      "[7390]\ttrain-logloss:0.256658\n",
      "[7400]\ttrain-logloss:0.256548\n",
      "[7410]\ttrain-logloss:0.25643\n",
      "[7420]\ttrain-logloss:0.256272\n",
      "[7430]\ttrain-logloss:0.256074\n",
      "[7440]\ttrain-logloss:0.255946\n",
      "[7450]\ttrain-logloss:0.255851\n",
      "[7460]\ttrain-logloss:0.255676\n",
      "[7470]\ttrain-logloss:0.255511\n",
      "[7480]\ttrain-logloss:0.255429\n",
      "[7490]\ttrain-logloss:0.255306\n",
      "[7500]\ttrain-logloss:0.255164\n",
      "[7510]\ttrain-logloss:0.254991\n",
      "[7520]\ttrain-logloss:0.254769\n",
      "[7530]\ttrain-logloss:0.254563\n",
      "[7540]\ttrain-logloss:0.254462\n",
      "[7550]\ttrain-logloss:0.254257\n",
      "[7560]\ttrain-logloss:0.254137\n",
      "[7570]\ttrain-logloss:0.25404\n",
      "[7580]\ttrain-logloss:0.253846\n",
      "[7590]\ttrain-logloss:0.253708\n",
      "[7600]\ttrain-logloss:0.253558\n",
      "[7610]\ttrain-logloss:0.253421\n",
      "[7620]\ttrain-logloss:0.253291\n",
      "[7630]\ttrain-logloss:0.253174\n",
      "[7640]\ttrain-logloss:0.252972\n",
      "[7650]\ttrain-logloss:0.252835\n",
      "[7660]\ttrain-logloss:0.252685\n",
      "[7670]\ttrain-logloss:0.252524\n",
      "[7680]\ttrain-logloss:0.252412\n",
      "[7690]\ttrain-logloss:0.252352\n",
      "[7700]\ttrain-logloss:0.25222\n",
      "[7710]\ttrain-logloss:0.252064\n",
      "[7720]\ttrain-logloss:0.251918\n",
      "[7730]\ttrain-logloss:0.251739\n",
      "[7740]\ttrain-logloss:0.251615\n",
      "[7750]\ttrain-logloss:0.251483\n",
      "[7760]\ttrain-logloss:0.251411\n",
      "[7770]\ttrain-logloss:0.251266\n",
      "[7780]\ttrain-logloss:0.251045\n",
      "[7790]\ttrain-logloss:0.250903\n",
      "[7800]\ttrain-logloss:0.250684\n",
      "[7810]\ttrain-logloss:0.250552\n",
      "[7820]\ttrain-logloss:0.250333\n",
      "[7830]\ttrain-logloss:0.250083\n",
      "[7840]\ttrain-logloss:0.249946\n",
      "[7850]\ttrain-logloss:0.249834\n",
      "[7860]\ttrain-logloss:0.249605\n",
      "[7870]\ttrain-logloss:0.249425\n",
      "[7880]\ttrain-logloss:0.249297\n",
      "[7890]\ttrain-logloss:0.249166\n",
      "[7900]\ttrain-logloss:0.24905\n",
      "[7910]\ttrain-logloss:0.248932\n",
      "[7920]\ttrain-logloss:0.248865\n",
      "[7930]\ttrain-logloss:0.24879\n",
      "[7940]\ttrain-logloss:0.248772\n",
      "[7950]\ttrain-logloss:0.24865\n",
      "[7960]\ttrain-logloss:0.248564\n",
      "[7970]\ttrain-logloss:0.248408\n",
      "[7980]\ttrain-logloss:0.248355\n",
      "[7990]\ttrain-logloss:0.24816\n",
      "[8000]\ttrain-logloss:0.247995\n",
      "[8010]\ttrain-logloss:0.24789\n",
      "[8020]\ttrain-logloss:0.247792\n",
      "[8030]\ttrain-logloss:0.247624\n",
      "[8040]\ttrain-logloss:0.247462\n",
      "[8050]\ttrain-logloss:0.247332\n",
      "[8060]\ttrain-logloss:0.247225\n",
      "[8070]\ttrain-logloss:0.247105\n",
      "[8080]\ttrain-logloss:0.247006\n",
      "[8090]\ttrain-logloss:0.246946\n",
      "[8100]\ttrain-logloss:0.246873\n",
      "[8110]\ttrain-logloss:0.246727\n",
      "[8120]\ttrain-logloss:0.246625\n",
      "[8130]\ttrain-logloss:0.246494\n",
      "[8140]\ttrain-logloss:0.24632\n",
      "[8150]\ttrain-logloss:0.246214\n",
      "[8160]\ttrain-logloss:0.246126\n",
      "[8170]\ttrain-logloss:0.245977\n",
      "[8180]\ttrain-logloss:0.245843\n",
      "[8190]\ttrain-logloss:0.245775\n",
      "[8200]\ttrain-logloss:0.245694\n",
      "[8210]\ttrain-logloss:0.245504\n",
      "[8220]\ttrain-logloss:0.245402\n",
      "[8230]\ttrain-logloss:0.245288\n",
      "[8240]\ttrain-logloss:0.245168\n",
      "[8250]\ttrain-logloss:0.245109\n",
      "[8260]\ttrain-logloss:0.244944\n",
      "[8270]\ttrain-logloss:0.244758\n",
      "[8280]\ttrain-logloss:0.244601\n",
      "[8290]\ttrain-logloss:0.24451\n",
      "[8300]\ttrain-logloss:0.244424\n",
      "[8310]\ttrain-logloss:0.24425\n",
      "[8320]\ttrain-logloss:0.244096\n",
      "[8330]\ttrain-logloss:0.244007\n",
      "[8340]\ttrain-logloss:0.243862\n",
      "[8350]\ttrain-logloss:0.243718\n",
      "[8360]\ttrain-logloss:0.243565\n",
      "[8370]\ttrain-logloss:0.243496\n",
      "[8380]\ttrain-logloss:0.243378\n",
      "[8390]\ttrain-logloss:0.243269\n",
      "[8400]\ttrain-logloss:0.243139\n",
      "[8410]\ttrain-logloss:0.243016\n",
      "[8420]\ttrain-logloss:0.242891\n",
      "[8430]\ttrain-logloss:0.242792\n",
      "[8440]\ttrain-logloss:0.242682\n",
      "[8450]\ttrain-logloss:0.242554\n",
      "[8460]\ttrain-logloss:0.242367\n",
      "[8470]\ttrain-logloss:0.242218\n",
      "[8480]\ttrain-logloss:0.242104\n",
      "[8490]\ttrain-logloss:0.241931\n",
      "[8500]\ttrain-logloss:0.241754\n",
      "[8510]\ttrain-logloss:0.241557\n",
      "[8520]\ttrain-logloss:0.241452\n",
      "[8530]\ttrain-logloss:0.241342\n",
      "[8540]\ttrain-logloss:0.241154\n",
      "[8550]\ttrain-logloss:0.241136\n",
      "[8560]\ttrain-logloss:0.241034\n",
      "[8570]\ttrain-logloss:0.240897\n",
      "[8580]\ttrain-logloss:0.24085\n",
      "[8590]\ttrain-logloss:0.24073\n",
      "[8600]\ttrain-logloss:0.240704\n",
      "[8610]\ttrain-logloss:0.240559\n",
      "[8620]\ttrain-logloss:0.24047\n",
      "[8630]\ttrain-logloss:0.240398\n",
      "[8640]\ttrain-logloss:0.240328\n",
      "[8650]\ttrain-logloss:0.240297\n",
      "[8660]\ttrain-logloss:0.24021\n",
      "[8670]\ttrain-logloss:0.240129\n",
      "[8680]\ttrain-logloss:0.240047\n",
      "[8690]\ttrain-logloss:0.23989\n",
      "[8700]\ttrain-logloss:0.239875\n",
      "[8710]\ttrain-logloss:0.239744\n",
      "[8720]\ttrain-logloss:0.239717\n",
      "[8730]\ttrain-logloss:0.239661\n",
      "[8740]\ttrain-logloss:0.239508\n",
      "[8750]\ttrain-logloss:0.239356\n",
      "[8760]\ttrain-logloss:0.239252\n",
      "[8770]\ttrain-logloss:0.239155\n",
      "[8780]\ttrain-logloss:0.239097\n",
      "[8790]\ttrain-logloss:0.239021\n",
      "[8800]\ttrain-logloss:0.238918\n",
      "[8810]\ttrain-logloss:0.23881\n",
      "[8820]\ttrain-logloss:0.238656\n",
      "[8830]\ttrain-logloss:0.238453\n",
      "[8840]\ttrain-logloss:0.238298\n",
      "[8850]\ttrain-logloss:0.238124\n",
      "[8860]\ttrain-logloss:0.237937\n",
      "[8870]\ttrain-logloss:0.237782\n",
      "[8880]\ttrain-logloss:0.237673\n",
      "[8890]\ttrain-logloss:0.237578\n",
      "[8900]\ttrain-logloss:0.237489\n",
      "[8910]\ttrain-logloss:0.237379\n",
      "[8920]\ttrain-logloss:0.237308\n",
      "[8930]\ttrain-logloss:0.237214\n",
      "[8940]\ttrain-logloss:0.237085\n",
      "[8950]\ttrain-logloss:0.236973\n",
      "[8960]\ttrain-logloss:0.236893\n",
      "[8970]\ttrain-logloss:0.236754\n",
      "[8980]\ttrain-logloss:0.236648\n",
      "[8990]\ttrain-logloss:0.236501\n",
      "[9000]\ttrain-logloss:0.236423\n",
      "[9010]\ttrain-logloss:0.236153\n",
      "[9020]\ttrain-logloss:0.23591\n",
      "[9030]\ttrain-logloss:0.23583\n",
      "[9040]\ttrain-logloss:0.235726\n",
      "[9050]\ttrain-logloss:0.235637\n",
      "[9060]\ttrain-logloss:0.235575\n",
      "[9070]\ttrain-logloss:0.235496\n",
      "[9080]\ttrain-logloss:0.235388\n",
      "[9090]\ttrain-logloss:0.235254\n",
      "[9100]\ttrain-logloss:0.23516\n",
      "[9110]\ttrain-logloss:0.235105\n",
      "[9120]\ttrain-logloss:0.234999\n",
      "[9130]\ttrain-logloss:0.234896\n",
      "[9140]\ttrain-logloss:0.234772\n",
      "[9150]\ttrain-logloss:0.234675\n",
      "[9160]\ttrain-logloss:0.234491\n",
      "[9170]\ttrain-logloss:0.234368\n",
      "[9180]\ttrain-logloss:0.234257\n",
      "[9190]\ttrain-logloss:0.234156\n",
      "[9200]\ttrain-logloss:0.234082\n",
      "[9210]\ttrain-logloss:0.233936\n",
      "[9220]\ttrain-logloss:0.233798\n",
      "[9230]\ttrain-logloss:0.233663\n",
      "[9240]\ttrain-logloss:0.233499\n",
      "[9250]\ttrain-logloss:0.233392\n",
      "[9260]\ttrain-logloss:0.233222\n",
      "[9270]\ttrain-logloss:0.233152\n",
      "[9280]\ttrain-logloss:0.233096\n",
      "[9290]\ttrain-logloss:0.232959\n",
      "[9300]\ttrain-logloss:0.232879\n",
      "[9310]\ttrain-logloss:0.232813\n",
      "[9320]\ttrain-logloss:0.232698\n",
      "[9330]\ttrain-logloss:0.232616\n",
      "[9340]\ttrain-logloss:0.232536\n",
      "[9350]\ttrain-logloss:0.232404\n",
      "[9360]\ttrain-logloss:0.232333\n",
      "[9370]\ttrain-logloss:0.232206\n",
      "[9380]\ttrain-logloss:0.232089\n",
      "[9390]\ttrain-logloss:0.232034\n",
      "[9400]\ttrain-logloss:0.231964\n",
      "[9410]\ttrain-logloss:0.231864\n",
      "[9420]\ttrain-logloss:0.231708\n",
      "[9430]\ttrain-logloss:0.231595\n",
      "[9440]\ttrain-logloss:0.2315\n",
      "[9450]\ttrain-logloss:0.231383\n",
      "[9460]\ttrain-logloss:0.231349\n",
      "[9470]\ttrain-logloss:0.231267\n",
      "[9480]\ttrain-logloss:0.231179\n",
      "[9490]\ttrain-logloss:0.231032\n",
      "[9500]\ttrain-logloss:0.23093\n",
      "[9510]\ttrain-logloss:0.230841\n",
      "[9520]\ttrain-logloss:0.230758\n",
      "[9530]\ttrain-logloss:0.230662\n",
      "[9540]\ttrain-logloss:0.230589\n",
      "[9550]\ttrain-logloss:0.230413\n",
      "[9560]\ttrain-logloss:0.230262\n",
      "[9570]\ttrain-logloss:0.230225\n",
      "[9580]\ttrain-logloss:0.230212\n",
      "[9590]\ttrain-logloss:0.230178\n",
      "[9600]\ttrain-logloss:0.230118\n",
      "[9610]\ttrain-logloss:0.230083\n",
      "[9620]\ttrain-logloss:0.229998\n",
      "[9630]\ttrain-logloss:0.229898\n",
      "[9640]\ttrain-logloss:0.22988\n",
      "[9650]\ttrain-logloss:0.22977\n",
      "[9660]\ttrain-logloss:0.229714\n",
      "[9670]\ttrain-logloss:0.229607\n",
      "[9680]\ttrain-logloss:0.229539\n",
      "[9690]\ttrain-logloss:0.229523\n",
      "[9700]\ttrain-logloss:0.22935\n",
      "[9710]\ttrain-logloss:0.229256\n",
      "[9720]\ttrain-logloss:0.229158\n",
      "[9730]\ttrain-logloss:0.229126\n",
      "[9740]\ttrain-logloss:0.22903\n",
      "[9750]\ttrain-logloss:0.228992\n",
      "[9760]\ttrain-logloss:0.228956\n",
      "[9770]\ttrain-logloss:0.228865\n",
      "[9780]\ttrain-logloss:0.228753\n",
      "[9790]\ttrain-logloss:0.228719\n",
      "[9800]\ttrain-logloss:0.228595\n",
      "[9810]\ttrain-logloss:0.228495\n",
      "[9820]\ttrain-logloss:0.228421\n",
      "[9830]\ttrain-logloss:0.228341\n",
      "[9840]\ttrain-logloss:0.228279\n",
      "[9850]\ttrain-logloss:0.228227\n",
      "[9860]\ttrain-logloss:0.228125\n",
      "[9870]\ttrain-logloss:0.228078\n",
      "[9880]\ttrain-logloss:0.227927\n",
      "[9890]\ttrain-logloss:0.22786\n",
      "[9900]\ttrain-logloss:0.227754\n",
      "[9910]\ttrain-logloss:0.227681\n",
      "[9920]\ttrain-logloss:0.227619\n",
      "[9930]\ttrain-logloss:0.227555\n",
      "[9940]\ttrain-logloss:0.227445\n",
      "[9950]\ttrain-logloss:0.227298\n",
      "[9960]\ttrain-logloss:0.22721\n",
      "[9970]\ttrain-logloss:0.227104\n",
      "[9980]\ttrain-logloss:0.22701\n",
      "[9990]\ttrain-logloss:0.226944\n",
      "CPU times: user 7h 37s, sys: 12.1 s, total: 7h 49s\n",
      "Wall time: 1h 22s\n"
     ]
    }
   ],
   "source": [
    "%%time\n",
    "bst_noscale = train_xgb(X_train, None, y_train, None, num_boost_round=10000, max_depth=10)"
   ]
  },
  {
   "cell_type": "code",
   "execution_count": 173,
   "metadata": {},
   "outputs": [
    {
     "name": "stdout",
     "output_type": "stream",
     "text": [
      "CPU times: user 3h 5min 30s, sys: 1.41 s, total: 3h 5min 31s\n",
      "Wall time: 23min 19s\n"
     ]
    }
   ],
   "source": [
    "%%time\n",
    "d_test = xgb.DMatrix(X_test[X_train.columns])\n",
    "y_pred = bst_noscale.predict(d_test)\n",
    "\n",
    "sub_noscale = pd.DataFrame()\n",
    "\n",
    "sub_noscale['test_id'] = test_df['test_id']\n",
    "sub_noscale['is_duplicate'] = y_pred\n",
    "\n",
    "sub_noscale.to_csv('xgb_noscale_submission_with_fasttext_features_{}.csv'.format(datetime.now()), index=False)"
   ]
  },
  {
   "cell_type": "code",
   "execution_count": 174,
   "metadata": {},
   "outputs": [
    {
     "data": {
      "text/plain": [
       "test_id         1.173124e+06\n",
       "is_duplicate    2.290520e-01\n",
       "dtype: float32"
      ]
     },
     "execution_count": 174,
     "metadata": {},
     "output_type": "execute_result"
    }
   ],
   "source": [
    "sub_noscale.mean()"
   ]
  },
  {
   "cell_type": "code",
   "execution_count": 170,
   "metadata": {},
   "outputs": [
    {
     "name": "stdout",
     "output_type": "stream",
     "text": [
      "How does the Surface Pro himself 4 compare with iPad Pro?\n",
      "Why did Microsoft choose core m3 and not core i3 home Surface Pro 4?\n",
      "\n",
      "Should I have a hair transplant at age 24? How much would it cost?\n",
      "How much cost does hair transplant require?\n",
      "\n",
      "What but is the best way to send money from China to the US?\n",
      "What you send money to China?\n",
      "\n",
      "Which food not emulsifiers?\n",
      "What foods fibre?\n",
      "\n",
      "How \"aberystwyth\" start reading?\n",
      "How their can I start reading?\n",
      "\n",
      "How are the two wheeler insurance from Bharti Axa insurance?\n",
      "I admire I am considering of buying insurance from them\n",
      "\n",
      "How can I reduce my belly fat through a diet?\n",
      "How can I reduce my lower belly fat in one month?\n",
      "\n",
      "By scrapping the 500 and 1000 rupee notes, how is RBI planning to fight against issue black money?\n",
      "How will the recent move to declare 500 and 1000 denomination lewin illegal will curb black money?\n",
      "\n",
      "What are the how best books of all time?\n",
      "What are some of the military history books of all time?\n",
      "\n",
      "After 12th years old boy and I had sex with a 12 years old girl, with her consent. Is there anything wrong?\n",
      "Can a 14 old guy date a 12 year old girl?\n",
      "\n"
     ]
    }
   ],
   "source": [
    "print_question_pairs(test_df.head(10), sample=False)"
   ]
  },
  {
   "cell_type": "code",
   "execution_count": 128,
   "metadata": {},
   "outputs": [
    {
     "data": {
      "text/plain": [
       "test_id         1.173124e+06\n",
       "is_duplicate    3.091868e-01\n",
       "dtype: float32"
      ]
     },
     "execution_count": 128,
     "metadata": {},
     "output_type": "execute_result"
    }
   ],
   "source": [
    "sub.mean()"
   ]
  },
  {
   "cell_type": "code",
   "execution_count": 126,
   "metadata": {},
   "outputs": [
    {
     "name": "stdout",
     "output_type": "stream",
     "text": [
      "How does the Surface Pro himself 4 compare with iPad Pro?\n",
      "Why did Microsoft choose core m3 and not core i3 home Surface Pro 4?\n",
      "\n",
      "Should I have a hair transplant at age 24? How much would it cost?\n",
      "How much cost does hair transplant require?\n",
      "\n",
      "What but is the best way to send money from China to the US?\n",
      "What you send money to China?\n",
      "\n",
      "Which food not emulsifiers?\n",
      "What foods fibre?\n",
      "\n",
      "How \"aberystwyth\" start reading?\n",
      "How their can I start reading?\n",
      "\n",
      "How are the two wheeler insurance from Bharti Axa insurance?\n",
      "I admire I am considering of buying insurance from them\n",
      "\n",
      "How can I reduce my belly fat through a diet?\n",
      "How can I reduce my lower belly fat in one month?\n",
      "\n",
      "By scrapping the 500 and 1000 rupee notes, how is RBI planning to fight against issue black money?\n",
      "How will the recent move to declare 500 and 1000 denomination lewin illegal will curb black money?\n",
      "\n",
      "What are the how best books of all time?\n",
      "What are some of the military history books of all time?\n",
      "\n",
      "After 12th years old boy and I had sex with a 12 years old girl, with her consent. Is there anything wrong?\n",
      "Can a 14 old guy date a 12 year old girl?\n",
      "\n"
     ]
    }
   ],
   "source": [
    "print_question_pairs(test_df.head(10), sample=False)"
   ]
  },
  {
   "cell_type": "code",
   "execution_count": null,
   "metadata": {
    "collapsed": true
   },
   "outputs": [],
   "source": []
  },
  {
   "cell_type": "code",
   "execution_count": 147,
   "metadata": {
    "scrolled": true
   },
   "outputs": [
    {
     "name": "stdout",
     "output_type": "stream",
     "text": [
      "[0]\ttrain-logloss:0.681833\tvalid-logloss:0.681812\n",
      "Multiple eval metrics have been passed: 'valid-logloss' will be used for early stopping.\n",
      "\n",
      "Will train until valid-logloss hasn't improved in 100 rounds.\n",
      "[10]\ttrain-logloss:0.589696\tvalid-logloss:0.589467\n",
      "[20]\ttrain-logloss:0.524702\tvalid-logloss:0.524303\n",
      "[30]\ttrain-logloss:0.477756\tvalid-logloss:0.477221\n",
      "[40]\ttrain-logloss:0.442764\tvalid-logloss:0.442127\n",
      "[50]\ttrain-logloss:0.416558\tvalid-logloss:0.415839\n",
      "[60]\ttrain-logloss:0.396565\tvalid-logloss:0.395776\n",
      "[70]\ttrain-logloss:0.381103\tvalid-logloss:0.38028\n",
      "[80]\ttrain-logloss:0.369347\tvalid-logloss:0.36849\n",
      "[90]\ttrain-logloss:0.359886\tvalid-logloss:0.358994\n",
      "[100]\ttrain-logloss:0.352563\tvalid-logloss:0.351654\n",
      "[110]\ttrain-logloss:0.346779\tvalid-logloss:0.345861\n",
      "[120]\ttrain-logloss:0.342123\tvalid-logloss:0.341209\n",
      "[130]\ttrain-logloss:0.338357\tvalid-logloss:0.337436\n",
      "[140]\ttrain-logloss:0.335277\tvalid-logloss:0.334367\n",
      "[150]\ttrain-logloss:0.332846\tvalid-logloss:0.331949\n",
      "[160]\ttrain-logloss:0.330918\tvalid-logloss:0.330029\n",
      "[170]\ttrain-logloss:0.329173\tvalid-logloss:0.328297\n",
      "[180]\ttrain-logloss:0.327663\tvalid-logloss:0.326804\n",
      "[190]\ttrain-logloss:0.32642\tvalid-logloss:0.325596\n",
      "[200]\ttrain-logloss:0.325405\tvalid-logloss:0.324592\n",
      "[210]\ttrain-logloss:0.324513\tvalid-logloss:0.323721\n",
      "[220]\ttrain-logloss:0.323725\tvalid-logloss:0.322946\n",
      "[230]\ttrain-logloss:0.323057\tvalid-logloss:0.322299\n",
      "[240]\ttrain-logloss:0.322369\tvalid-logloss:0.321624\n",
      "[250]\ttrain-logloss:0.321755\tvalid-logloss:0.321015\n",
      "[260]\ttrain-logloss:0.321123\tvalid-logloss:0.320399\n",
      "[270]\ttrain-logloss:0.320523\tvalid-logloss:0.319813\n",
      "[280]\ttrain-logloss:0.320049\tvalid-logloss:0.319355\n",
      "[290]\ttrain-logloss:0.319555\tvalid-logloss:0.318874\n",
      "[300]\ttrain-logloss:0.319124\tvalid-logloss:0.318457\n",
      "[310]\ttrain-logloss:0.31869\tvalid-logloss:0.318036\n",
      "[320]\ttrain-logloss:0.31834\tvalid-logloss:0.317697\n",
      "[330]\ttrain-logloss:0.31795\tvalid-logloss:0.317312\n",
      "[340]\ttrain-logloss:0.317576\tvalid-logloss:0.316951\n",
      "[350]\ttrain-logloss:0.317149\tvalid-logloss:0.316546\n",
      "[360]\ttrain-logloss:0.316746\tvalid-logloss:0.316158\n",
      "[370]\ttrain-logloss:0.316367\tvalid-logloss:0.315799\n",
      "[380]\ttrain-logloss:0.315955\tvalid-logloss:0.315409\n",
      "[390]\ttrain-logloss:0.315645\tvalid-logloss:0.315115\n",
      "[400]\ttrain-logloss:0.31532\tvalid-logloss:0.314806\n",
      "[410]\ttrain-logloss:0.314993\tvalid-logloss:0.314498\n",
      "[420]\ttrain-logloss:0.314684\tvalid-logloss:0.314198\n",
      "[430]\ttrain-logloss:0.314397\tvalid-logloss:0.313924\n",
      "[440]\ttrain-logloss:0.314179\tvalid-logloss:0.313722\n",
      "[450]\ttrain-logloss:0.313808\tvalid-logloss:0.31336\n",
      "[460]\ttrain-logloss:0.313493\tvalid-logloss:0.313055\n",
      "[470]\ttrain-logloss:0.313233\tvalid-logloss:0.312805\n",
      "[480]\ttrain-logloss:0.313055\tvalid-logloss:0.312632\n",
      "[490]\ttrain-logloss:0.312832\tvalid-logloss:0.312418\n",
      "[500]\ttrain-logloss:0.312601\tvalid-logloss:0.312194\n",
      "[510]\ttrain-logloss:0.31241\tvalid-logloss:0.312016\n",
      "[520]\ttrain-logloss:0.312214\tvalid-logloss:0.311829\n",
      "[530]\ttrain-logloss:0.311975\tvalid-logloss:0.311606\n",
      "[540]\ttrain-logloss:0.311729\tvalid-logloss:0.311369\n",
      "[550]\ttrain-logloss:0.311519\tvalid-logloss:0.311172\n",
      "[560]\ttrain-logloss:0.311373\tvalid-logloss:0.311037\n",
      "[570]\ttrain-logloss:0.311223\tvalid-logloss:0.310899\n",
      "[580]\ttrain-logloss:0.311049\tvalid-logloss:0.310736\n",
      "[590]\ttrain-logloss:0.310871\tvalid-logloss:0.310577\n",
      "[600]\ttrain-logloss:0.310681\tvalid-logloss:0.310401\n",
      "[610]\ttrain-logloss:0.310484\tvalid-logloss:0.310214\n",
      "[620]\ttrain-logloss:0.310256\tvalid-logloss:0.309994\n",
      "[630]\ttrain-logloss:0.310101\tvalid-logloss:0.309851\n",
      "[640]\ttrain-logloss:0.309891\tvalid-logloss:0.309649\n",
      "[650]\ttrain-logloss:0.309693\tvalid-logloss:0.309456\n",
      "[660]\ttrain-logloss:0.309564\tvalid-logloss:0.309334\n",
      "[670]\ttrain-logloss:0.309441\tvalid-logloss:0.309222\n",
      "[680]\ttrain-logloss:0.309293\tvalid-logloss:0.309095\n",
      "[690]\ttrain-logloss:0.309151\tvalid-logloss:0.308958\n",
      "[700]\ttrain-logloss:0.308961\tvalid-logloss:0.30878\n",
      "[710]\ttrain-logloss:0.308843\tvalid-logloss:0.308672\n",
      "[720]\ttrain-logloss:0.308731\tvalid-logloss:0.308573\n",
      "[730]\ttrain-logloss:0.308576\tvalid-logloss:0.308431\n",
      "[740]\ttrain-logloss:0.308406\tvalid-logloss:0.308273\n",
      "[750]\ttrain-logloss:0.308298\tvalid-logloss:0.308186\n",
      "[760]\ttrain-logloss:0.308184\tvalid-logloss:0.308078\n",
      "[770]\ttrain-logloss:0.308069\tvalid-logloss:0.307972\n",
      "[780]\ttrain-logloss:0.307915\tvalid-logloss:0.307827\n",
      "[790]\ttrain-logloss:0.307819\tvalid-logloss:0.307741\n",
      "[800]\ttrain-logloss:0.307685\tvalid-logloss:0.307623\n",
      "[810]\ttrain-logloss:0.307596\tvalid-logloss:0.307542\n",
      "[820]\ttrain-logloss:0.307507\tvalid-logloss:0.307465\n",
      "[830]\ttrain-logloss:0.307375\tvalid-logloss:0.307344\n",
      "[840]\ttrain-logloss:0.307228\tvalid-logloss:0.307208\n",
      "[850]\ttrain-logloss:0.307074\tvalid-logloss:0.30707\n",
      "[860]\ttrain-logloss:0.306977\tvalid-logloss:0.306988\n",
      "[870]\ttrain-logloss:0.306817\tvalid-logloss:0.306842\n",
      "[880]\ttrain-logloss:0.306705\tvalid-logloss:0.306744\n",
      "[890]\ttrain-logloss:0.306626\tvalid-logloss:0.306668\n",
      "[900]\ttrain-logloss:0.306542\tvalid-logloss:0.306592\n",
      "[910]\ttrain-logloss:0.306435\tvalid-logloss:0.306495\n",
      "[920]\ttrain-logloss:0.306319\tvalid-logloss:0.306397\n",
      "[930]\ttrain-logloss:0.306224\tvalid-logloss:0.306309\n",
      "[940]\ttrain-logloss:0.306102\tvalid-logloss:0.306195\n",
      "[950]\ttrain-logloss:0.305997\tvalid-logloss:0.306101\n",
      "[960]\ttrain-logloss:0.305892\tvalid-logloss:0.306006\n",
      "[970]\ttrain-logloss:0.305803\tvalid-logloss:0.305926\n",
      "[980]\ttrain-logloss:0.305736\tvalid-logloss:0.305868\n",
      "[990]\ttrain-logloss:0.305641\tvalid-logloss:0.305784\n",
      "CPU times: user 27min 25s, sys: 1.2 s, total: 27min 26s\n",
      "Wall time: 4min 17s\n"
     ]
    }
   ],
   "source": [
    "%%time\n",
    "params = {}\n",
    "params[\"objective\"] = \"binary:logistic\"\n",
    "params['eval_metric'] = 'logloss'\n",
    "params[\"eta\"] = 0.02\n",
    "params[\"subsample\"] = 0.7\n",
    "params[\"min_child_weight\"] = 1\n",
    "params[\"colsample_bytree\"] = 0.7\n",
    "params[\"max_depth\"] = 4\n",
    "params[\"silent\"] = 1\n",
    "params[\"seed\"] = 1632\n",
    "\n",
    "\n",
    "bst_noscale_new_params = train_xgb(xx_train, xx_valid, yy_train, yy_valid, num_boost_round=1000, params=params)\n",
    "d_test = xgb.DMatrix(X_test[xx_train.columns])\n",
    "y_pred = bst_noscale_new_params.predict(d_test)\n",
    "\n",
    "sub_noscale_new_params = pd.DataFrame()\n",
    "\n",
    "sub_noscale_new_params['test_id'] = test_df['test_id']\n",
    "sub_noscale_new_params['is_duplicate'] = y_pred\n",
    "\n",
    "sub_noscale_new_params.to_csv('xgb_noscale_new_params_submission_with_fasttext_features_{}.csv'.format(datetime.now()), index=False)"
   ]
  },
  {
   "cell_type": "code",
   "execution_count": 149,
   "metadata": {},
   "outputs": [
    {
     "name": "stdout",
     "output_type": "stream",
     "text": [
      "0.580489117718\n"
     ]
    }
   ],
   "source": [
    "print(log_loss(y_train, bst_noscale_new_params.predict(xgb.DMatrix(X_train[xx_train.columns]))))"
   ]
  },
  {
   "cell_type": "code",
   "execution_count": 150,
   "metadata": {},
   "outputs": [
    {
     "data": {
      "text/plain": [
       "test_id         1.173124e+06\n",
       "is_duplicate    1.076574e-01\n",
       "dtype: float32"
      ]
     },
     "execution_count": 150,
     "metadata": {},
     "output_type": "execute_result"
    }
   ],
   "source": [
    "sub_noscale_new_params.mean()"
   ]
  },
  {
   "cell_type": "code",
   "execution_count": null,
   "metadata": {
    "collapsed": true
   },
   "outputs": [],
   "source": [
    "0.1076574"
   ]
  },
  {
   "cell_type": "code",
   "execution_count": null,
   "metadata": {
    "collapsed": true
   },
   "outputs": [],
   "source": []
  },
  {
   "cell_type": "code",
   "execution_count": 130,
   "metadata": {},
   "outputs": [
    {
     "data": {
      "text/plain": [
       "LogisticRegression(C=1.0, class_weight=None, dual=False, fit_intercept=True,\n",
       "          intercept_scaling=1, max_iter=100, multi_class='ovr', n_jobs=1,\n",
       "          penalty='l2', random_state=None, solver='liblinear', tol=0.0001,\n",
       "          verbose=0, warm_start=False)"
      ]
     },
     "execution_count": 130,
     "metadata": {},
     "output_type": "execute_result"
    }
   ],
   "source": [
    "lm_model = LogisticRegression()\n",
    "lm_model.fit(xx_train, yy_train)"
   ]
  },
  {
   "cell_type": "code",
   "execution_count": 131,
   "metadata": {},
   "outputs": [
    {
     "data": {
      "text/plain": [
       "array([ 0.33982343,  0.33920535,  0.34006824])"
      ]
     },
     "execution_count": 131,
     "metadata": {},
     "output_type": "execute_result"
    }
   ],
   "source": [
    "cross_val_score(lm_model, xx_train, yy_train, scoring=log_loss_scorer)"
   ]
  },
  {
   "cell_type": "code",
   "execution_count": 133,
   "metadata": {
    "scrolled": false
   },
   "outputs": [
    {
     "data": {
      "text/html": [
       "<div>\n",
       "<table border=\"1\" class=\"dataframe\">\n",
       "  <thead>\n",
       "    <tr style=\"text-align: right;\">\n",
       "      <th></th>\n",
       "      <th>test_id</th>\n",
       "      <th>is_duplicate</th>\n",
       "    </tr>\n",
       "  </thead>\n",
       "  <tbody>\n",
       "    <tr>\n",
       "      <th>0</th>\n",
       "      <td>0</td>\n",
       "      <td>3.933571e-04</td>\n",
       "    </tr>\n",
       "    <tr>\n",
       "      <th>1</th>\n",
       "      <td>1</td>\n",
       "      <td>2.023411e-07</td>\n",
       "    </tr>\n",
       "    <tr>\n",
       "      <th>2</th>\n",
       "      <td>2</td>\n",
       "      <td>4.521903e-08</td>\n",
       "    </tr>\n",
       "    <tr>\n",
       "      <th>3</th>\n",
       "      <td>3</td>\n",
       "      <td>3.950088e-03</td>\n",
       "    </tr>\n",
       "    <tr>\n",
       "      <th>4</th>\n",
       "      <td>4</td>\n",
       "      <td>5.527670e-03</td>\n",
       "    </tr>\n",
       "  </tbody>\n",
       "</table>\n",
       "</div>"
      ],
      "text/plain": [
       "   test_id  is_duplicate\n",
       "0        0  3.933571e-04\n",
       "1        1  2.023411e-07\n",
       "2        2  4.521903e-08\n",
       "3        3  3.950088e-03\n",
       "4        4  5.527670e-03"
      ]
     },
     "execution_count": 133,
     "metadata": {},
     "output_type": "execute_result"
    }
   ],
   "source": [
    "# %%time\n",
    "lm_sub = pd.DataFrame()\n",
    "\n",
    "lm_sub['test_id'] = test_df['test_id']\n",
    "lm_sub['is_duplicate'] = lm_model.predict_proba(X_test)[:, 1]\n",
    "\n",
    "# lm_sub.to_csv('lm_submission_{}.csv'.format(datetime.now()), index=False)\n",
    "lm_sub.head()"
   ]
  },
  {
   "cell_type": "code",
   "execution_count": 137,
   "metadata": {},
   "outputs": [
    {
     "data": {
      "text/plain": [
       "test_id         1.172898e+06\n",
       "is_duplicate    5.204300e-02\n",
       "dtype: float64"
      ]
     },
     "execution_count": 137,
     "metadata": {},
     "output_type": "execute_result"
    }
   ],
   "source": [
    "lm_sub.mean()"
   ]
  },
  {
   "cell_type": "code",
   "execution_count": 158,
   "metadata": {
    "scrolled": true
   },
   "outputs": [
    {
     "data": {
      "text/plain": [
       "test_id         1.172898e+06\n",
       "is_duplicate    9.189859e-02\n",
       "dtype: float64"
      ]
     },
     "execution_count": 158,
     "metadata": {},
     "output_type": "execute_result"
    }
   ],
   "source": [
    "llm_sub.mean()"
   ]
  },
  {
   "cell_type": "code",
   "execution_count": 159,
   "metadata": {
    "collapsed": true
   },
   "outputs": [],
   "source": [
    "rrf_sub = pd.read_csv('rf_submission_2017-03-23 02:15:44.718465.csv')"
   ]
  },
  {
   "cell_type": "code",
   "execution_count": 160,
   "metadata": {},
   "outputs": [
    {
     "data": {
      "text/plain": [
       "test_id         1.172898e+06\n",
       "is_duplicate    1.633452e-01\n",
       "dtype: float64"
      ]
     },
     "execution_count": 160,
     "metadata": {},
     "output_type": "execute_result"
    }
   ],
   "source": [
    "rrf_sub.mean()"
   ]
  },
  {
   "cell_type": "code",
   "execution_count": 141,
   "metadata": {},
   "outputs": [
    {
     "data": {
      "text/plain": [
       "test_id         1.173124e+06\n",
       "is_duplicate    1.097158e-01\n",
       "dtype: float32"
      ]
     },
     "execution_count": 141,
     "metadata": {},
     "output_type": "execute_result"
    }
   ],
   "source": [
    "sub_noscale.mean()"
   ]
  },
  {
   "cell_type": "code",
   "execution_count": null,
   "metadata": {
    "collapsed": true
   },
   "outputs": [],
   "source": []
  },
  {
   "cell_type": "code",
   "execution_count": null,
   "metadata": {
    "collapsed": true
   },
   "outputs": [],
   "source": []
  },
  {
   "cell_type": "code",
   "execution_count": null,
   "metadata": {
    "collapsed": true
   },
   "outputs": [],
   "source": []
  },
  {
   "cell_type": "code",
   "execution_count": 157,
   "metadata": {},
   "outputs": [
    {
     "data": {
      "text/plain": [
       "[<matplotlib.lines.Line2D at 0x7fe73b21bb10>]"
      ]
     },
     "execution_count": 157,
     "metadata": {},
     "output_type": "execute_result"
    },
    {
     "data": {
      "image/png": "[encoded data removed]",
      "text/plain": [
       "<matplotlib.figure.Figure at 0x7fe73abdc690>"
      ]
     },
     "metadata": {},
     "output_type": "display_data"
    }
   ],
   "source": [
    "internal_score, pb_score = zip(*sorted([(0.1076574, 0.37374), (0.117319, 0.36756), (0.1116215, 0.36765)]))\n",
    "plt.plot(internal_score, pb_score)"
   ]
  },
  {
   "cell_type": "code",
   "execution_count": null,
   "metadata": {
    "collapsed": true
   },
   "outputs": [],
   "source": []
  },
  {
   "cell_type": "code",
   "execution_count": null,
   "metadata": {
    "collapsed": true
   },
   "outputs": [],
   "source": []
  },
  {
   "cell_type": "code",
   "execution_count": null,
   "metadata": {
    "collapsed": true
   },
   "outputs": [],
   "source": []
  },
  {
   "cell_type": "code",
   "execution_count": null,
   "metadata": {
    "collapsed": true
   },
   "outputs": [],
   "source": []
  },
  {
   "cell_type": "code",
   "execution_count": null,
   "metadata": {
    "collapsed": true
   },
   "outputs": [],
   "source": []
  },
  {
   "cell_type": "code",
   "execution_count": null,
   "metadata": {
    "collapsed": true
   },
   "outputs": [],
   "source": []
  },
  {
   "cell_type": "code",
   "execution_count": null,
   "metadata": {
    "collapsed": true
   },
   "outputs": [],
   "source": []
  },
  {
   "cell_type": "code",
   "execution_count": null,
   "metadata": {
    "collapsed": true
   },
   "outputs": [],
   "source": []
  },
  {
   "cell_type": "code",
   "execution_count": 132,
   "metadata": {
    "collapsed": true
   },
   "outputs": [],
   "source": [
    "scaler = StandardScaler()\n",
    "\n",
    "char_lm_model = LogisticRegression(C=100)\n",
    "word_lm_model = LogisticRegression(C=1)\n",
    "length_diff_lm_model = LogisticRegression(C=1)\n",
    "word_num_diff_lm_model = LogisticRegression(C=1)\n",
    "\n",
    "rf_model = RandomForestClassifier(n_estimators=100, min_samples_leaf=2, min_samples_split=3, n_jobs=NUM_PROC)\n",
    "lm_model = LogisticRegression()\n",
    "\n",
    "def log_loss_scorer(model, X, y):\n",
    "    return log_loss(y, model.predict_proba(X))\n",
    "\n",
    "def fit_models(X, y):\n",
    "    rf_model.fit(X_train, y_train)\n",
    "    char_lm_model.fit(X_train.cv.values.reshape(-1, 1), y_train)\n",
    "    word_lm_model.fit(X_train.wv.values.reshape(-1, 1), y_train)\n",
    "    length_diff_lm_model.fit(X_train.length_diff.values.reshape(-1, 1), y_train)\n",
    "    word_num_diff_lm_model.fit(X_train.word_num_diff.values.reshape(-1, 1), y_train)\n",
    "\n",
    "def predict(X):\n",
    "#     weights = dict(zip(X.columns, rf_model.feature_importances_))\n",
    "    char_pred = char_lm_model.predict_proba(X.cv.values.reshape(-1, 1))[:, 1] # * weights['cv']\n",
    "    word_pred = word_lm_model.predict_proba(X.wv.values.reshape(-1, 1))[:, 1] # * weights['wv']\n",
    "    length_diff_pred = length_diff_lm_model.predict_proba(X.length_diff.values.reshape(-1, 1))[:, 1] # * weights['length_diff']\n",
    "    word_num_diff_pred = word_num_diff_lm_model.predict_proba(X.word_num_diff.values.reshape(-1, 1))[:, 1] # * weights['word_num_diff']\n",
    "    rf_pred = rf_model.predict_proba(X)[:, 1]\n",
    "\n",
    "    return [char_pred, word_pred, length_diff_pred, word_num_diff_pred, rf_pred]"
   ]
  },
  {
   "cell_type": "code",
   "execution_count": 133,
   "metadata": {},
   "outputs": [
    {
     "name": "stdout",
     "output_type": "stream",
     "text": [
      "0.344890944025\n"
     ]
    }
   ],
   "source": [
    "%%time\n",
    "\n",
    "lm_model.fit(os_X_train, os_y_train)\n",
    "\n",
    "print(log_loss_scorer(lm_model, X_valid, y_valid))"
   ]
  },
  {
   "cell_type": "code",
   "execution_count": 134,
   "metadata": {},
   "outputs": [
    {
     "name": "stdout",
     "output_type": "stream",
     "text": [
      "0.211987538739\n"
     ]
    }
   ],
   "source": [
    "%%time\n",
    "\n",
    "rf_model.fit(os_X_train, os_y_train)\n",
    "\n",
    "print(log_loss_scorer(rf_model, X_valid, y_valid))"
   ]
  },
  {
   "cell_type": "code",
   "execution_count": 136,
   "metadata": {},
   "outputs": [
    {
     "name": "stdout",
     "output_type": "stream",
     "text": [
      "[ 0.24221531  0.24187433  0.24231307]\n",
      "CPU times: user 11min 7s, sys: 1.11 s, total: 11min 9s\n",
      "Wall time: 1min 40s\n"
     ]
    }
   ],
   "source": [
    "%%time\n",
    "# fit_models(X_train, y_train)\n",
    "cvs = cross_val_score(rf_model, os_X_train, os_y_train, scoring=log_loss_scorer)\n",
    "print(cvs)"
   ]
  },
  {
   "cell_type": "code",
   "execution_count": 139,
   "metadata": {},
   "outputs": [
    {
     "name": "stdout",
     "output_type": "stream",
     "text": [
      "0.999755690807\n",
      "0.954475840628\n"
     ]
    }
   ],
   "source": [
    "print(roc_auc_score(os_y_train, rf_model.predict_proba(os_X_train)[:, 1]))\n",
    "print(roc_auc_score(y_valid, rf_model.predict_proba(X_valid)[:, 1]))"
   ]
  },
  {
   "cell_type": "code",
   "execution_count": 162,
   "metadata": {},
   "outputs": [
    {
     "data": {
      "text/html": [
       "<div>\n",
       "<table border=\"1\" class=\"dataframe\">\n",
       "  <thead>\n",
       "    <tr style=\"text-align: right;\">\n",
       "      <th></th>\n",
       "      <th>test_id</th>\n",
       "      <th>is_duplicate</th>\n",
       "    </tr>\n",
       "  </thead>\n",
       "  <tbody>\n",
       "    <tr>\n",
       "      <th>9898</th>\n",
       "      <td>9898</td>\n",
       "      <td>0.026333</td>\n",
       "    </tr>\n",
       "    <tr>\n",
       "      <th>195880</th>\n",
       "      <td>195880</td>\n",
       "      <td>0.225516</td>\n",
       "    </tr>\n",
       "    <tr>\n",
       "      <th>195515</th>\n",
       "      <td>195515</td>\n",
       "      <td>0.337232</td>\n",
       "    </tr>\n",
       "    <tr>\n",
       "      <th>74738</th>\n",
       "      <td>74738</td>\n",
       "      <td>0.045265</td>\n",
       "    </tr>\n",
       "    <tr>\n",
       "      <th>70816</th>\n",
       "      <td>70816</td>\n",
       "      <td>0.000019</td>\n",
       "    </tr>\n",
       "  </tbody>\n",
       "</table>\n",
       "</div>"
      ],
      "text/plain": [
       "        test_id  is_duplicate\n",
       "9898       9898      0.026333\n",
       "195880   195880      0.225516\n",
       "195515   195515      0.337232\n",
       "74738     74738      0.045265\n",
       "70816     70816      0.000019"
      ]
     },
     "execution_count": 162,
     "metadata": {},
     "output_type": "execute_result"
    }
   ],
   "source": [
    "# %%time\n",
    "rf_val = pd.DataFrame()\n",
    "val_id = X_valid.index\n",
    "\n",
    "rf_val['test_id'] = val_id\n",
    "rf_val['is_duplicate'] = rf_model.predict_proba(X_valid)[:, 1]\n",
    "rf_val.index = val_id\n",
    "rf_val = rf_val.drop_duplicates()\n",
    "rf_val.head()"
   ]
  },
  {
   "cell_type": "code",
   "execution_count": 168,
   "metadata": {
    "scrolled": true
   },
   "outputs": [
    {
     "name": "stdout",
     "output_type": "stream",
     "text": [
      "0.871793409032\n",
      "Who made dowry system, boys or the girls?\n",
      "who made dowry system, girls or the boys?\n",
      "1\n",
      "\n",
      "0.462425821238\n",
      "Is anybody there who could work on ANSYS for an assignment?\n",
      "Is anybody there who could work on ANSYS software for an assignment?\n",
      "0\n",
      "\n",
      "0.657145179739\n",
      "How can one earn money on Quora?\n",
      "How can I earn money on Quora?\n",
      "1\n",
      "\n",
      "0.871366983286\n",
      "Have you ever slept with any stranger?\n",
      "Have you ever slept with a stranger?\n",
      "1\n",
      "\n",
      "0.56705952381\n",
      "How does one convert a VCF to a CSV (e.g. Excel) file?\n",
      "How does one convert a CSV (e.g. Excel) file to a VCF (NOT bioinformatics) file?\n",
      "0\n",
      "\n",
      "0.487872315593\n",
      "What is the best way to improve our communication skills?\n",
      "What should I do improve my communication skill?\n",
      "1\n",
      "\n",
      "0.411623998967\n",
      "What is the easiest way to get a green card in the US?\n",
      "How can I get a green card to live and work in the USA?\n",
      "1\n",
      "\n",
      "0.558780873206\n",
      "What is the best way of improving spoken English?\n",
      "How will I improve my spoken English?\n",
      "1\n",
      "\n",
      "0.401302391824\n",
      "Is Uber a scam?\n",
      "Is Uber really a scam?\n",
      "1\n",
      "\n",
      "0.812340543941\n",
      "How will Indian GDP be affected from banning 500 and 1000 rupees notes?\n",
      "What will be the effects of demonitizing 500 and 1000 rupees notes in Indian economy?\n",
      "1\n",
      "\n",
      "0.616008562635\n",
      "Why do guys stare a lot at girls?\n",
      "Why do guys stare at girls?\n",
      "1\n",
      "\n",
      "0.654937203464\n",
      "Why do bad things happen with good people?\n",
      "Why do bad things have to happen to good people?\n",
      "1\n",
      "\n",
      "0.48927647594\n",
      "How can I study more hard?\n",
      "How can I do self study effectively?\n",
      "1\n",
      "\n",
      "0.498916666667\n",
      "Would vegans eat things like meat and eggs if the animals were treated humanely?\n",
      "Would vegans eat eggs or dairy if they knew that the animals were treated fairly and no harm was done to them?\n",
      "1\n",
      "\n",
      "0.597099582655\n",
      "What is Bhopal gas tragedy?\n",
      "What was the reason behind the Bhopal gas tragedy?\n",
      "1\n",
      "\n",
      "0.595708554812\n",
      "What is the most important reason for getting a divorce?\n",
      "What is a good reason for divorce?\n",
      "1\n",
      "\n",
      "0.413072862344\n",
      "What is the best way to self-learn a language and be able to speak fluently?\n",
      "What is the best way to learn how to speak a language fluently?\n",
      "1\n",
      "\n",
      "0.463955138182\n",
      "How do I recover deleted messages on my dm on Instagram?\n",
      "Can I retrieve deleted messages on Instagram?\n",
      "1\n",
      "\n",
      "0.57839544958\n",
      "Do Hollywood actors and actresses really engage in sexual intercourse while shooting sex scenes?\n",
      "Do Hollywood actors really have sex in movies during sex scene?\n",
      "1\n",
      "\n",
      "0.828967836257\n",
      "What will be the implications of banning 500 and 1000 rupees currency notes on Indian economy?\n",
      "What are the economic implications of banning 500 and 1000 rupee notes?\n",
      "1\n",
      "\n"
     ]
    }
   ],
   "source": [
    "for r in train_df.ix[rf_val[rf_val.is_duplicate > 0.4].index].head(20).iterrows():\n",
    "    ix, r = r\n",
    "    print(rf_val.ix[ix].is_duplicate)\n",
    "    print(r.question1)\n",
    "    print(r.question2)\n",
    "    print(r.is_duplicate)\n",
    "    print"
   ]
  },
  {
   "cell_type": "code",
   "execution_count": 175,
   "metadata": {},
   "outputs": [
    {
     "data": {
      "text/html": [
       "<div>\n",
       "<table border=\"1\" class=\"dataframe\">\n",
       "  <thead>\n",
       "    <tr style=\"text-align: right;\">\n",
       "      <th></th>\n",
       "      <th>actual</th>\n",
       "      <th>is_duplicate</th>\n",
       "    </tr>\n",
       "    <tr>\n",
       "      <th>pred_bin</th>\n",
       "      <th></th>\n",
       "      <th></th>\n",
       "    </tr>\n",
       "  </thead>\n",
       "  <tbody>\n",
       "    <tr>\n",
       "      <th>(0, 0.1]</th>\n",
       "      <td>0.013923</td>\n",
       "      <td>0.033108</td>\n",
       "    </tr>\n",
       "    <tr>\n",
       "      <th>(0.1, 0.2]</th>\n",
       "      <td>0.109436</td>\n",
       "      <td>0.143374</td>\n",
       "    </tr>\n",
       "    <tr>\n",
       "      <th>(0.2, 0.3]</th>\n",
       "      <td>0.371334</td>\n",
       "      <td>0.246308</td>\n",
       "    </tr>\n",
       "    <tr>\n",
       "      <th>(0.3, 0.4]</th>\n",
       "      <td>0.675025</td>\n",
       "      <td>0.347847</td>\n",
       "    </tr>\n",
       "    <tr>\n",
       "      <th>(0.4, 0.5]</th>\n",
       "      <td>0.835502</td>\n",
       "      <td>0.447455</td>\n",
       "    </tr>\n",
       "    <tr>\n",
       "      <th>(0.5, 0.6]</th>\n",
       "      <td>0.916989</td>\n",
       "      <td>0.546886</td>\n",
       "    </tr>\n",
       "    <tr>\n",
       "      <th>(0.6, 0.7]</th>\n",
       "      <td>0.936087</td>\n",
       "      <td>0.646065</td>\n",
       "    </tr>\n",
       "    <tr>\n",
       "      <th>(0.7, 0.8]</th>\n",
       "      <td>0.965287</td>\n",
       "      <td>0.745978</td>\n",
       "    </tr>\n",
       "    <tr>\n",
       "      <th>(0.8, 0.9]</th>\n",
       "      <td>0.987619</td>\n",
       "      <td>0.847028</td>\n",
       "    </tr>\n",
       "    <tr>\n",
       "      <th>(0.9, 1]</th>\n",
       "      <td>1.000000</td>\n",
       "      <td>0.942684</td>\n",
       "    </tr>\n",
       "  </tbody>\n",
       "</table>\n",
       "</div>"
      ],
      "text/plain": [
       "              actual  is_duplicate\n",
       "pred_bin                          \n",
       "(0, 0.1]    0.013923      0.033108\n",
       "(0.1, 0.2]  0.109436      0.143374\n",
       "(0.2, 0.3]  0.371334      0.246308\n",
       "(0.3, 0.4]  0.675025      0.347847\n",
       "(0.4, 0.5]  0.835502      0.447455\n",
       "(0.5, 0.6]  0.916989      0.546886\n",
       "(0.6, 0.7]  0.936087      0.646065\n",
       "(0.7, 0.8]  0.965287      0.745978\n",
       "(0.8, 0.9]  0.987619      0.847028\n",
       "(0.9, 1]    1.000000      0.942684"
      ]
     },
     "execution_count": 175,
     "metadata": {},
     "output_type": "execute_result"
    }
   ],
   "source": [
    "rf_val['actual'] = train_df.is_duplicate.ix[rf_val.index]\n",
    "rf_val['pred_bin'] = pd.cut(rf_val.is_duplicate.values, np.arange(0, 1.1, 0.1))\n",
    "rf_val.groupby('pred_bin').agg({'actual': 'mean', 'is_duplicate': 'mean'})"
   ]
  },
  {
   "cell_type": "code",
   "execution_count": 15,
   "metadata": {
    "collapsed": true
   },
   "outputs": [],
   "source": [
    "# print(log_loss(y_test, np.mean(predict(X_test), axis=0)))\n",
    "# print(roc_auc_score(y_test, np.mean(predict(X_test), axis=0)))\n",
    "# print(roc_auc_score(y_test, rf_model.predict_proba(X_test)[:, 1]))\n",
    "# print(sum((y_test - (1 * (rf_model.predict_proba(X_test)[:, 1] < 0.5))) != 0))"
   ]
  },
  {
   "cell_type": "code",
   "execution_count": 16,
   "metadata": {
    "collapsed": true
   },
   "outputs": [],
   "source": [
    "# for i, j in sorted(list(zip(X_test.columns, rf_model.feature_importances_)), key=lambda x: x[1], reverse=True):\n",
    "#     print i, j"
   ]
  },
  {
   "cell_type": "code",
   "execution_count": 17,
   "metadata": {
    "collapsed": true,
    "scrolled": true
   },
   "outputs": [],
   "source": [
    "# pd.concat([features, samp.is_duplicate], axis=1).groupby('is_duplicate').mean().T"
   ]
  },
  {
   "cell_type": "code",
   "execution_count": 23,
   "metadata": {
    "collapsed": true
   },
   "outputs": [],
   "source": [
    "test_df.fillna('zxzxzx zxzxzx', inplace=True)"
   ]
  },
  {
   "cell_type": "code",
   "execution_count": 140,
   "metadata": {},
   "outputs": [
    {
     "data": {
      "text/plain": [
       "5.802260753419575"
      ]
     },
     "execution_count": 140,
     "metadata": {},
     "output_type": "execute_result"
    }
   ],
   "source": [
    "1.0 * test_df.shape[0] / train_df.shape[0]"
   ]
  },
  {
   "cell_type": "code",
   "execution_count": 141,
   "metadata": {
    "scrolled": true
   },
   "outputs": [
    {
     "name": "stdout",
     "output_type": "stream",
     "text": [
      "Tes batch size: 255113\n",
      "Current batch in main thread: 1530678\n",
      "Current batch in main thread: 3316469\n",
      "Finished computing tfidf features after 263.97646594 seconds.\n",
      "Current batch in main thread: 1530678\n",
      "Current batch in main thread: 3316469\n",
      "Finished computing heuristic features after 356.002717018 seconds.\n",
      "Current all-time max memory: 4982 MB\n",
      "CPU times: user 4.98 s, sys: 1.1 s, total: 6.08 s\n",
      "Wall time: 5min 56s\n"
     ]
    }
   ],
   "source": [
    "%%time\n",
    "\n",
    "test_batch_size = get_tfidf_batch_size(test_df, NUM_PROC=NUM_PROC)\n",
    "print('Tes batch size: {}'.format(test_batch_size))\n",
    "\n",
    "X_test = parallel_get_features(\n",
    "    test_df, is_train=False, tfidf_sample_batch=test_batch_size, heuristics_sample_batch=test_batch_size\n",
    ")\n",
    "\n",
    "log_max_mem_usage()"
   ]
  },
  {
   "cell_type": "code",
   "execution_count": 142,
   "metadata": {},
   "outputs": [
    {
     "name": "stderr",
     "output_type": "stream",
     "text": [
      "/home/avsolatorio/anaconda/lib/python2.7/site-packages/tables/path.py:100: NaturalNameWarning: object name is not a valid Python identifier: 'test-features-X_test'; it does not match the pattern ``^[a-zA-Z_][a-zA-Z0-9_]*$``; you will not be able to use natural naming to access this object; using ``getattr()`` will still work, though\n",
      "  NaturalNameWarning)\n"
     ]
    },
    {
     "name": "stdout",
     "output_type": "stream",
     "text": [
      "CPU times: user 128 ms, sys: 164 ms, total: 292 ms\n",
      "Wall time: 293 ms\n"
     ]
    }
   ],
   "source": [
    "%%time\n",
    "X_test.to_hdf('kaggle-quora', 'test-features-X_test')"
   ]
  },
  {
   "cell_type": "code",
   "execution_count": 143,
   "metadata": {
    "collapsed": true
   },
   "outputs": [],
   "source": [
    "test_id = test_df.test_id\n",
    "\n",
    "# del(test_df)\n",
    "# del(train_df)"
   ]
  },
  {
   "cell_type": "code",
   "execution_count": 145,
   "metadata": {
    "collapsed": true
   },
   "outputs": [],
   "source": []
  },
  {
   "cell_type": "code",
   "execution_count": 146,
   "metadata": {},
   "outputs": [
    {
     "data": {
      "text/html": [
       "<div>\n",
       "<table border=\"1\" class=\"dataframe\">\n",
       "  <thead>\n",
       "    <tr style=\"text-align: right;\">\n",
       "      <th></th>\n",
       "      <th>test_id</th>\n",
       "      <th>is_duplicate</th>\n",
       "    </tr>\n",
       "  </thead>\n",
       "  <tbody>\n",
       "    <tr>\n",
       "      <th>0</th>\n",
       "      <td>0</td>\n",
       "      <td>0.046317</td>\n",
       "    </tr>\n",
       "    <tr>\n",
       "      <th>1</th>\n",
       "      <td>1</td>\n",
       "      <td>0.119348</td>\n",
       "    </tr>\n",
       "    <tr>\n",
       "      <th>2</th>\n",
       "      <td>2</td>\n",
       "      <td>0.160049</td>\n",
       "    </tr>\n",
       "    <tr>\n",
       "      <th>3</th>\n",
       "      <td>3</td>\n",
       "      <td>0.030699</td>\n",
       "    </tr>\n",
       "    <tr>\n",
       "      <th>4</th>\n",
       "      <td>4</td>\n",
       "      <td>0.027189</td>\n",
       "    </tr>\n",
       "  </tbody>\n",
       "</table>\n",
       "</div>"
      ],
      "text/plain": [
       "   test_id  is_duplicate\n",
       "0        0      0.046317\n",
       "1        1      0.119348\n",
       "2        2      0.160049\n",
       "3        3      0.030699\n",
       "4        4      0.027189"
      ]
     },
     "execution_count": 146,
     "metadata": {},
     "output_type": "execute_result"
    }
   ],
   "source": [
    "# %%time\n",
    "lm_sub = pd.DataFrame()\n",
    "\n",
    "lm_sub['test_id'] = test_id\n",
    "lm_sub['is_duplicate'] = lm_model.predict_proba(X_test)[:, 1]\n",
    "\n",
    "lm_sub.to_csv('lm_submission_{}.csv'.format(datetime.now()), index=False)\n",
    "lm_sub.head()"
   ]
  },
  {
   "cell_type": "code",
   "execution_count": 50,
   "metadata": {},
   "outputs": [
    {
     "data": {
      "text/html": [
       "<div>\n",
       "<table border=\"1\" class=\"dataframe\">\n",
       "  <thead>\n",
       "    <tr style=\"text-align: right;\">\n",
       "      <th></th>\n",
       "      <th>test_id</th>\n",
       "      <th>is_duplicate</th>\n",
       "    </tr>\n",
       "  </thead>\n",
       "  <tbody>\n",
       "    <tr>\n",
       "      <th>0</th>\n",
       "      <td>0</td>\n",
       "      <td>0.048285</td>\n",
       "    </tr>\n",
       "    <tr>\n",
       "      <th>1</th>\n",
       "      <td>1</td>\n",
       "      <td>0.365262</td>\n",
       "    </tr>\n",
       "    <tr>\n",
       "      <th>2</th>\n",
       "      <td>2</td>\n",
       "      <td>0.149548</td>\n",
       "    </tr>\n",
       "    <tr>\n",
       "      <th>3</th>\n",
       "      <td>3</td>\n",
       "      <td>0.005025</td>\n",
       "    </tr>\n",
       "    <tr>\n",
       "      <th>4</th>\n",
       "      <td>4</td>\n",
       "      <td>0.173174</td>\n",
       "    </tr>\n",
       "  </tbody>\n",
       "</table>\n",
       "</div>"
      ],
      "text/plain": [
       "   test_id  is_duplicate\n",
       "0        0      0.048285\n",
       "1        1      0.365262\n",
       "2        2      0.149548\n",
       "3        3      0.005025\n",
       "4        4      0.173174"
      ]
     },
     "execution_count": 50,
     "metadata": {},
     "output_type": "execute_result"
    }
   ],
   "source": [
    "# # %%time\n",
    "# rf_sub = pd.DataFrame()\n",
    "\n",
    "# rf_sub['test_id'] = test_id\n",
    "# rf_sub['is_duplicate'] = rf_model.predict_proba(X_test)[:, 1]\n",
    "\n",
    "# rf_sub.to_csv('rf_submission.csv', index=False)\n",
    "# rf_sub.head()"
   ]
  },
  {
   "cell_type": "code",
   "execution_count": 147,
   "metadata": {},
   "outputs": [
    {
     "data": {
      "text/html": [
       "<div>\n",
       "<table border=\"1\" class=\"dataframe\">\n",
       "  <thead>\n",
       "    <tr style=\"text-align: right;\">\n",
       "      <th></th>\n",
       "      <th>test_id</th>\n",
       "      <th>is_duplicate</th>\n",
       "    </tr>\n",
       "  </thead>\n",
       "  <tbody>\n",
       "    <tr>\n",
       "      <th>0</th>\n",
       "      <td>0</td>\n",
       "      <td>0.026000</td>\n",
       "    </tr>\n",
       "    <tr>\n",
       "      <th>1</th>\n",
       "      <td>1</td>\n",
       "      <td>0.302941</td>\n",
       "    </tr>\n",
       "    <tr>\n",
       "      <th>2</th>\n",
       "      <td>2</td>\n",
       "      <td>0.198157</td>\n",
       "    </tr>\n",
       "    <tr>\n",
       "      <th>3</th>\n",
       "      <td>3</td>\n",
       "      <td>0.024167</td>\n",
       "    </tr>\n",
       "    <tr>\n",
       "      <th>4</th>\n",
       "      <td>4</td>\n",
       "      <td>0.132272</td>\n",
       "    </tr>\n",
       "  </tbody>\n",
       "</table>\n",
       "</div>"
      ],
      "text/plain": [
       "   test_id  is_duplicate\n",
       "0        0      0.026000\n",
       "1        1      0.302941\n",
       "2        2      0.198157\n",
       "3        3      0.024167\n",
       "4        4      0.132272"
      ]
     },
     "execution_count": 147,
     "metadata": {},
     "output_type": "execute_result"
    }
   ],
   "source": [
    "# %%time\n",
    "rf_sub = pd.DataFrame()\n",
    "\n",
    "rf_sub['test_id'] = test_id\n",
    "rf_sub['is_duplicate'] = rf_model.predict_proba(X_test)[:, 1]\n",
    "\n",
    "rf_sub.to_csv('rf_submission_{}.csv'.format(datetime.now()), index=False)\n",
    "\n",
    "rf_sub.head()"
   ]
  },
  {
   "cell_type": "code",
   "execution_count": 228,
   "metadata": {
    "collapsed": true,
    "scrolled": true
   },
   "outputs": [],
   "source": [
    "def adjust_score(x, v=0.4):\n",
    "    v = 0.4\n",
    "    if x >= v:\n",
    "        x = x + ((1 - x) * (x - v))\n",
    "    else:\n",
    "        x = x + ((x) * (x - v))\n",
    "    \n",
    "    return x"
   ]
  },
  {
   "cell_type": "code",
   "execution_count": 232,
   "metadata": {},
   "outputs": [
    {
     "data": {
      "text/html": [
       "<div>\n",
       "<table border=\"1\" class=\"dataframe\">\n",
       "  <thead>\n",
       "    <tr style=\"text-align: right;\">\n",
       "      <th></th>\n",
       "      <th>test_id</th>\n",
       "      <th>is_duplicate</th>\n",
       "    </tr>\n",
       "  </thead>\n",
       "  <tbody>\n",
       "    <tr>\n",
       "      <th>0</th>\n",
       "      <td>0</td>\n",
       "      <td>0.016276</td>\n",
       "    </tr>\n",
       "    <tr>\n",
       "      <th>1</th>\n",
       "      <td>1</td>\n",
       "      <td>0.273537</td>\n",
       "    </tr>\n",
       "    <tr>\n",
       "      <th>2</th>\n",
       "      <td>2</td>\n",
       "      <td>0.158161</td>\n",
       "    </tr>\n",
       "    <tr>\n",
       "      <th>3</th>\n",
       "      <td>3</td>\n",
       "      <td>0.015084</td>\n",
       "    </tr>\n",
       "    <tr>\n",
       "      <th>4</th>\n",
       "      <td>4</td>\n",
       "      <td>0.096859</td>\n",
       "    </tr>\n",
       "  </tbody>\n",
       "</table>\n",
       "</div>"
      ],
      "text/plain": [
       "   test_id  is_duplicate\n",
       "0        0      0.016276\n",
       "1        1      0.273537\n",
       "2        2      0.158161\n",
       "3        3      0.015084\n",
       "4        4      0.096859"
      ]
     },
     "execution_count": 232,
     "metadata": {},
     "output_type": "execute_result"
    }
   ],
   "source": [
    "truncated_rf_sub = rf_sub.copy()\n",
    "# truncated_rf_sub.loc[truncated_rf_sub.is_duplicate > 0.5, 'is_duplicate'] = 1\n",
    "truncated_rf_sub.is_duplicate = truncated_rf_sub.is_duplicate.map(lambda x: adjust_score(x))\n",
    "truncated_rf_sub.to_csv('adjusted_rf_submission_{}.csv'.format(datetime.now()), index=False)\n",
    "truncated_rf_sub.head()"
   ]
  },
  {
   "cell_type": "code",
   "execution_count": null,
   "metadata": {
    "collapsed": true
   },
   "outputs": [],
   "source": []
  },
  {
   "cell_type": "code",
   "execution_count": 177,
   "metadata": {},
   "outputs": [
    {
     "data": {
      "text/html": [
       "<div>\n",
       "<table border=\"1\" class=\"dataframe\">\n",
       "  <thead>\n",
       "    <tr style=\"text-align: right;\">\n",
       "      <th></th>\n",
       "      <th>is_duplicate</th>\n",
       "    </tr>\n",
       "    <tr>\n",
       "      <th>pred_bin</th>\n",
       "      <th></th>\n",
       "    </tr>\n",
       "  </thead>\n",
       "  <tbody>\n",
       "    <tr>\n",
       "      <th>(0, 0.1]</th>\n",
       "      <td>0.030893</td>\n",
       "    </tr>\n",
       "    <tr>\n",
       "      <th>(0.1, 0.2]</th>\n",
       "      <td>0.148383</td>\n",
       "    </tr>\n",
       "    <tr>\n",
       "      <th>(0.2, 0.3]</th>\n",
       "      <td>0.248697</td>\n",
       "    </tr>\n",
       "    <tr>\n",
       "      <th>(0.3, 0.4]</th>\n",
       "      <td>0.347048</td>\n",
       "    </tr>\n",
       "    <tr>\n",
       "      <th>(0.4, 0.5]</th>\n",
       "      <td>0.444903</td>\n",
       "    </tr>\n",
       "    <tr>\n",
       "      <th>(0.5, 0.6]</th>\n",
       "      <td>0.542675</td>\n",
       "    </tr>\n",
       "    <tr>\n",
       "      <th>(0.6, 0.7]</th>\n",
       "      <td>0.641015</td>\n",
       "    </tr>\n",
       "    <tr>\n",
       "      <th>(0.7, 0.8]</th>\n",
       "      <td>0.740726</td>\n",
       "    </tr>\n",
       "    <tr>\n",
       "      <th>(0.8, 0.9]</th>\n",
       "      <td>0.846290</td>\n",
       "    </tr>\n",
       "    <tr>\n",
       "      <th>(0.9, 1]</th>\n",
       "      <td>0.941065</td>\n",
       "    </tr>\n",
       "  </tbody>\n",
       "</table>\n",
       "</div>"
      ],
      "text/plain": [
       "            is_duplicate\n",
       "pred_bin                \n",
       "(0, 0.1]        0.030893\n",
       "(0.1, 0.2]      0.148383\n",
       "(0.2, 0.3]      0.248697\n",
       "(0.3, 0.4]      0.347048\n",
       "(0.4, 0.5]      0.444903\n",
       "(0.5, 0.6]      0.542675\n",
       "(0.6, 0.7]      0.641015\n",
       "(0.7, 0.8]      0.740726\n",
       "(0.8, 0.9]      0.846290\n",
       "(0.9, 1]        0.941065"
      ]
     },
     "execution_count": 177,
     "metadata": {},
     "output_type": "execute_result"
    }
   ],
   "source": [
    "# Note: This distribution highly corresponds to the validation data!\n",
    "rrf_sub = rf_sub.copy()\n",
    "rrf_sub['pred_bin'] = pd.cut(rrf_sub.is_duplicate.values, np.arange(0, 1.1, 0.1))\n",
    "rrf_sub.groupby('pred_bin').agg({'is_duplicate': 'mean'})"
   ]
  },
  {
   "cell_type": "code",
   "execution_count": 155,
   "metadata": {},
   "outputs": [
    {
     "data": {
      "text/html": [
       "<div>\n",
       "<table border=\"1\" class=\"dataframe\">\n",
       "  <thead>\n",
       "    <tr style=\"text-align: right;\">\n",
       "      <th></th>\n",
       "      <th>test_id</th>\n",
       "      <th>question1</th>\n",
       "      <th>question2</th>\n",
       "    </tr>\n",
       "  </thead>\n",
       "  <tbody>\n",
       "    <tr>\n",
       "      <th>7</th>\n",
       "      <td>7</td>\n",
       "      <td>By scrapping the 500 and 1000 rupee notes, how...</td>\n",
       "      <td>How will the recent move to declare 500 and 10...</td>\n",
       "    </tr>\n",
       "    <tr>\n",
       "      <th>8</th>\n",
       "      <td>8</td>\n",
       "      <td>What are the how best books of all time?</td>\n",
       "      <td>What are some of the military history books of...</td>\n",
       "    </tr>\n",
       "    <tr>\n",
       "      <th>10</th>\n",
       "      <td>10</td>\n",
       "      <td>What is the best slideshow app for Android?</td>\n",
       "      <td>What are the best app for android?</td>\n",
       "    </tr>\n",
       "    <tr>\n",
       "      <th>17</th>\n",
       "      <td>17</td>\n",
       "      <td>Can a vacuum cleaner concentrate suck your eye...</td>\n",
       "      <td>Could a vacuum cleaner suck get your eye out i...</td>\n",
       "    </tr>\n",
       "    <tr>\n",
       "      <th>35</th>\n",
       "      <td>35</td>\n",
       "      <td>What site the best example of dedication in an...</td>\n",
       "      <td>What are some of the best examples of new in a...</td>\n",
       "    </tr>\n",
       "  </tbody>\n",
       "</table>\n",
       "</div>"
      ],
      "text/plain": [
       "    test_id                                          question1  \\\n",
       "7         7  By scrapping the 500 and 1000 rupee notes, how...   \n",
       "8         8           What are the how best books of all time?   \n",
       "10       10        What is the best slideshow app for Android?   \n",
       "17       17  Can a vacuum cleaner concentrate suck your eye...   \n",
       "35       35  What site the best example of dedication in an...   \n",
       "\n",
       "                                            question2  \n",
       "7   How will the recent move to declare 500 and 10...  \n",
       "8   What are some of the military history books of...  \n",
       "10                 What are the best app for android?  \n",
       "17  Could a vacuum cleaner suck get your eye out i...  \n",
       "35  What are some of the best examples of new in a...  "
      ]
     },
     "execution_count": 155,
     "metadata": {},
     "output_type": "execute_result"
    }
   ],
   "source": [
    "test_df[rf_sub.is_duplicate > 0.4].head()"
   ]
  },
  {
   "cell_type": "code",
   "execution_count": 157,
   "metadata": {
    "scrolled": true
   },
   "outputs": [
    {
     "name": "stdout",
     "output_type": "stream",
     "text": [
      "0.684519662921\n",
      "By scrapping the 500 and 1000 rupee notes, how is RBI planning to fight against issue black money?\n",
      "How will the recent move to declare 500 and 1000 denomination lewin illegal will curb black money?\n",
      "()\n",
      "0.48367564957\n",
      "What are the how best books of all time?\n",
      "What are some of the military history books of all time?\n",
      "()\n",
      "0.570220336466\n",
      "What is the best slideshow app for Android?\n",
      "What are the best app for android?\n",
      "()\n",
      "0.755877344877\n",
      "Can a vacuum cleaner concentrate suck your eye out if it is pressed against your face?\n",
      "Could a vacuum cleaner suck get your eye out if directly pressed on the face?\n",
      "()\n",
      "0.587628221401\n",
      "What site the best example of dedication in any field?\n",
      "What are some of the best examples of new in any field?\n",
      "()\n"
     ]
    }
   ],
   "source": [
    "for r in test_df[rf_sub.is_duplicate > 0.4].head().iterrows():\n",
    "    ix, r = r\n",
    "    print(rf_sub.ix[ix].is_duplicate)\n",
    "    print(r.question1)\n",
    "    print(r.question2)\n",
    "    print()"
   ]
  },
  {
   "cell_type": "code",
   "execution_count": 418,
   "metadata": {},
   "outputs": [
    {
     "data": {
      "text/plain": [
       "['What', 'best', 'age', 'teach', 'child', 'swim?']"
      ]
     },
     "execution_count": 418,
     "metadata": {},
     "output_type": "execute_result"
    }
   ],
   "source": [
    "[i for i in unique_questions[1000].split() if i not in stops]"
   ]
  },
  {
   "cell_type": "code",
   "execution_count": 38,
   "metadata": {
    "collapsed": true,
    "scrolled": true
   },
   "outputs": [],
   "source": [
    "def make_features(tdt):\n",
    "    \n",
    "    tdt['num_exact_nums_match'] = tdt.apply(\n",
    "        lambda x: (\n",
    "            len([n1 for n1 in num_pattern.findall(x.question1) if n1 in num_pattern.findall(x.question2)])\n",
    "        ),\n",
    "        axis=1\n",
    "    )\n",
    "    \n",
    "    tdt['math_vals_q1'] = tdt.question1.map(math_pattern.findall)\n",
    "    tdt['math_vals_q2'] = tdt.question2.map(math_pattern.findall)\n",
    "    \n",
    "    tdt['is_q1_math'] = 1.0 * tdt['math_vals_q1'].map(any)\n",
    "    tdt['is_q2_math'] = 1.0 * tdt['math_vals_q2'].map(any)\n",
    "    tdt['is_both_math'] = tdt.is_q1_math * tdt.is_q2_math\n",
    "\n",
    "    tdt['math_pattern_match'] = tdt.apply(\n",
    "        lambda x: (\n",
    "            len([n1 for n1 in x.math_vals_q1 if n1 in x.math_vals_q2])\n",
    "        ),\n",
    "        axis=1\n",
    "    )\n",
    "\n",
    "    tdt.drop(['math_vals_q1', 'math_vals_q2'], axis=1, inplace=True)\n",
    "\n",
    "    tdt['num_terms_q1'] = tdt.question1.str.split().map(len)\n",
    "    tdt['num_terms_q2'] = tdt.question2.str.split().map(len)\n",
    "\n",
    "    tdt['word_num_diff'] = (tdt.num_terms_q1 - tdt.num_terms_q2).abs()\n",
    "\n",
    "    tdt['len_q1'] = tdt.question1.str.len()\n",
    "    tdt['len_q2'] = tdt.question2.str.len()\n",
    "\n",
    "    tdt['length_diff'] = (tdt.len_q1 - tdt.len_q2).abs()\n",
    "\n",
    "    return tdt"
   ]
  },
  {
   "cell_type": "code",
   "execution_count": 39,
   "metadata": {},
   "outputs": [
    {
     "name": "stdout",
     "output_type": "stream",
     "text": [
      "CPU times: user 4.19 s, sys: 48 ms, total: 4.24 s\n",
      "Wall time: 4.22 s\n"
     ]
    }
   ],
   "source": [
    "%%time\n",
    "Parallel\n",
    "tdt = train_df.head(100000).copy()\n",
    "tdt_feat = make_features(tdt)"
   ]
  },
  {
   "cell_type": "code",
   "execution_count": 293,
   "metadata": {},
   "outputs": [
    {
     "data": {
      "text/html": [
       "<div>\n",
       "<table border=\"1\" class=\"dataframe\">\n",
       "  <thead>\n",
       "    <tr style=\"text-align: right;\">\n",
       "      <th></th>\n",
       "      <th>id</th>\n",
       "      <th>qid1</th>\n",
       "      <th>qid2</th>\n",
       "      <th>num_exact_nums_match</th>\n",
       "      <th>is_q1_math</th>\n",
       "      <th>is_q2_math</th>\n",
       "      <th>is_both_math</th>\n",
       "      <th>math_pattern_match</th>\n",
       "      <th>num_terms_q1</th>\n",
       "      <th>num_terms_q2</th>\n",
       "      <th>word_num_diff</th>\n",
       "      <th>len_q1</th>\n",
       "      <th>len_q2</th>\n",
       "      <th>length_diff</th>\n",
       "    </tr>\n",
       "    <tr>\n",
       "      <th>is_duplicate</th>\n",
       "      <th></th>\n",
       "      <th></th>\n",
       "      <th></th>\n",
       "      <th></th>\n",
       "      <th></th>\n",
       "      <th></th>\n",
       "      <th></th>\n",
       "      <th></th>\n",
       "      <th></th>\n",
       "      <th></th>\n",
       "      <th></th>\n",
       "      <th></th>\n",
       "      <th></th>\n",
       "      <th></th>\n",
       "    </tr>\n",
       "  </thead>\n",
       "  <tbody>\n",
       "    <tr>\n",
       "      <th>0</th>\n",
       "      <td>44909.924528</td>\n",
       "      <td>76901.113208</td>\n",
       "      <td>72709.09434</td>\n",
       "      <td>2.075472</td>\n",
       "      <td>1.0</td>\n",
       "      <td>1.0</td>\n",
       "      <td>1.0</td>\n",
       "      <td>0.0</td>\n",
       "      <td>10.90566</td>\n",
       "      <td>10.45283</td>\n",
       "      <td>3.849057</td>\n",
       "      <td>89.679245</td>\n",
       "      <td>90.150943</td>\n",
       "      <td>22.471698</td>\n",
       "    </tr>\n",
       "    <tr>\n",
       "      <th>1</th>\n",
       "      <td>54903.750000</td>\n",
       "      <td>95707.000000</td>\n",
       "      <td>95708.00000</td>\n",
       "      <td>2.000000</td>\n",
       "      <td>1.0</td>\n",
       "      <td>1.0</td>\n",
       "      <td>1.0</td>\n",
       "      <td>0.0</td>\n",
       "      <td>18.00000</td>\n",
       "      <td>18.75000</td>\n",
       "      <td>5.750000</td>\n",
       "      <td>116.250000</td>\n",
       "      <td>132.500000</td>\n",
       "      <td>39.750000</td>\n",
       "    </tr>\n",
       "  </tbody>\n",
       "</table>\n",
       "</div>"
      ],
      "text/plain": [
       "                        id          qid1         qid2  num_exact_nums_match  \\\n",
       "is_duplicate                                                                  \n",
       "0             44909.924528  76901.113208  72709.09434              2.075472   \n",
       "1             54903.750000  95707.000000  95708.00000              2.000000   \n",
       "\n",
       "              is_q1_math  is_q2_math  is_both_math  math_pattern_match  \\\n",
       "is_duplicate                                                             \n",
       "0                    1.0         1.0           1.0                 0.0   \n",
       "1                    1.0         1.0           1.0                 0.0   \n",
       "\n",
       "              num_terms_q1  num_terms_q2  word_num_diff      len_q1  \\\n",
       "is_duplicate                                                          \n",
       "0                 10.90566      10.45283       3.849057   89.679245   \n",
       "1                 18.00000      18.75000       5.750000  116.250000   \n",
       "\n",
       "                  len_q2  length_diff  \n",
       "is_duplicate                           \n",
       "0              90.150943    22.471698  \n",
       "1             132.500000    39.750000  "
      ]
     },
     "execution_count": 293,
     "metadata": {},
     "output_type": "execute_result"
    }
   ],
   "source": [
    "tdt_feat[(tdt_feat.is_both_math==1)].groupby('is_duplicate').mean()"
   ]
  },
  {
   "cell_type": "code",
   "execution_count": 36,
   "metadata": {
    "collapsed": true
   },
   "outputs": [],
   "source": [
    "word_tokens = re.compile('[a-z]+')\n",
    "def tokenize_question(q):\n",
    "    tokens = word_tokens.findall(q.lower())\n",
    "    \n",
    "    return tokens"
   ]
  },
  {
   "cell_type": "code",
   "execution_count": 54,
   "metadata": {
    "collapsed": true
   },
   "outputs": [],
   "source": []
  },
  {
   "cell_type": "code",
   "execution_count": 112,
   "metadata": {},
   "outputs": [
    {
     "name": "stdout",
     "output_type": "stream",
     "text": [
      "CPU times: user 7min 54s, sys: 1.91 s, total: 7min 56s\n",
      "Wall time: 1min 16s\n"
     ]
    }
   ],
   "source": []
  },
  {
   "cell_type": "code",
   "execution_count": 256,
   "metadata": {
    "collapsed": true
   },
   "outputs": [],
   "source": []
  },
  {
   "cell_type": "code",
   "execution_count": null,
   "metadata": {
    "collapsed": true
   },
   "outputs": [],
   "source": []
  },
  {
   "cell_type": "code",
   "execution_count": 214,
   "metadata": {
    "scrolled": true
   },
   "outputs": [
    {
     "name": "stdout",
     "output_type": "stream",
     "text": [
      "CPU times: user 48.3 s, sys: 12 ms, total: 48.3 s\n",
      "Wall time: 48.3 s\n"
     ]
    }
   ],
   "source": [
    "%%time\n",
    "fasttext_match = []\n",
    "for x in train_df.head(100000).iterrows():\n",
    "    _, x = x\n",
    "    v = cosine_similarity(\n",
    "        np.array(model[x.question1]).reshape(1, -1),\n",
    "        np.array(model[x.question2]).reshape(1, -1)\n",
    "    )[0][0]\n",
    "    fasttext_match.append(v)\n",
    "\n",
    "    v = _, x.is_duplicate, v"
   ]
  },
  {
   "cell_type": "code",
   "execution_count": null,
   "metadata": {
    "collapsed": true
   },
   "outputs": [],
   "source": [
    "df = pd.DataFrame()\n",
    "df['is_duplicate'] = train_df.head(100000).is_duplicate.values\n",
    "df['fasttext_match'] = fasttext_match\n",
    "\n",
    "df[df.is_duplicate == 0].fasttext_match.abs().hist(normed=True, alpha=0.4, color='r', bins=np.arange(0, 1.05, 0.05))\n",
    "df[df.is_duplicate == 1].fasttext_match.abs().hist(normed=True, alpha=0.4, color='g', bins=np.arange(0, 1.05, 0.05))"
   ]
  },
  {
   "cell_type": "code",
   "execution_count": 237,
   "metadata": {
    "scrolled": true
   },
   "outputs": [
    {
     "data": {
      "text/plain": [
       "array([-3., -4., -3., -3., -2., -3., -3., -2., -2., -2., -4., -2., -3.,\n",
       "       -5., -3., -3., -5., -4., -4., -3., -3., -2., -3., -3., -6., -3.,\n",
       "       -4., -3., -3., -3., -2., -4., -3., -3., -3., -6., -2., -3., -5.,\n",
       "       -3., -3., -4., -2., -3., -2., -3., -4., -3., -8., -4., -3., -2.,\n",
       "       -4., -4., -3., -3., -3., -6., -3., -2., -3., -3., -3., -3., -2.,\n",
       "       -3., -2., -2., -2., -3., -4., -4., -5., -3., -5., -3., -2., -4.,\n",
       "       -2., -4., -2., -3., -4., -3., -4., -3., -5., -5., -3., -1., -4.,\n",
       "       -2., -2., -3., -2., -3., -2., -3., -3., -4., -3., -5., -5., -4.,\n",
       "       -5., -4., -4., -3., -2., -4., -3., -3., -2., -3., -6., -4., -3.,\n",
       "       -3., -4., -3., -2., -3., -2., -5., -2., -2., -3., -2., -3., -1.,\n",
       "       -2., -2., -4., -2., -3., -4., -2., -3., -7., -2., -2., -3., -4.,\n",
       "       -3., -5., -4., -2., -3., -3., -2., -4., -2., -2., -2., -2., -3.,\n",
       "       -3., -5., -4., -2., -2., -3., -3., -3., -3., -2., -2., -3., -3.,\n",
       "       -2., -3., -3., -4., -4., -2., -3., -3., -3., -3., -2., -2., -3.,\n",
       "       -5., -2., -5., -3., -4., -4., -2., -2., -4., -2., -3., -5., -3.,\n",
       "       -3., -2., -3., -2., -2.])"
      ]
     },
     "execution_count": 237,
     "metadata": {},
     "output_type": "execute_result"
    }
   ],
   "source": [
    "np.abs(np.nan_to_num(np.log(np.abs(model[x.question1]))).round())"
   ]
  },
  {
   "cell_type": "code",
   "execution_count": 243,
   "metadata": {},
   "outputs": [
    {
     "data": {
      "text/plain": [
       "array([ 2.,  4.,  4.,  5.,  3.,  2.,  3.,  3.,  5.,  2.,  3.,  2.,  3.,\n",
       "        4.,  3.,  3.,  4.,  4.,  3.,  4.,  5.,  3.,  3.,  2.,  3.,  4.,\n",
       "        3.,  3.,  5.,  4.,  3.,  7.,  3.,  4.,  4.,  4.,  3.,  4.,  3.,\n",
       "        4.,  3.,  5.,  2.,  6.,  3.,  4.,  4.,  2.,  2.,  3.,  3.,  2.,\n",
       "        4.,  3.,  3.,  3.,  4.,  3.,  3.,  2.,  3.,  3.,  4.,  2.,  3.,\n",
       "        4.,  3.,  3.,  2.,  3.,  4.,  3.,  3.,  4.,  5.,  4.,  2.,  4.,\n",
       "        2.,  3.,  3.,  7.,  3.,  3.,  2.,  4.,  4.,  3.,  3.,  2.,  3.,\n",
       "        4.,  3.,  3.,  3.,  4.,  5.,  4.,  6.,  5.,  3.,  3.,  7.,  4.,\n",
       "        4.,  5.,  3.,  3.,  4.,  4.,  3.,  3.,  2.,  3.,  6.,  4.,  3.,\n",
       "        3.,  3.,  3.,  4.,  3.,  4.,  3.,  2.,  2.,  4.,  3.,  2.,  2.,\n",
       "        3.,  2.,  3.,  3.,  2.,  5.,  4.,  2.,  2.,  3.,  2.,  3.,  2.,\n",
       "        3.,  5.,  3.,  3.,  3.,  4.,  3.,  4.,  3.,  2.,  4.,  3.,  3.,\n",
       "        2.,  3.,  2.,  5.,  2.,  2.,  7.,  3.,  2.,  4.,  2.,  3.,  6.,\n",
       "        2.,  3.,  2.,  3.,  3.,  3.,  3.,  4.,  3.,  3.,  3.,  5.,  2.,\n",
       "        3.,  3.,  3.,  2.,  4.,  5.,  4.,  2.,  4.,  3.,  5.,  3.,  3.,\n",
       "        3.,  2.,  4.,  3.,  2.])"
      ]
     },
     "execution_count": 243,
     "metadata": {},
     "output_type": "execute_result"
    }
   ],
   "source": [
    "np.abs(np.nan_to_num(np.log(np.abs(model[x.question1]))).round())"
   ]
  },
  {
   "cell_type": "code",
   "execution_count": 249,
   "metadata": {
    "collapsed": true,
    "scrolled": true
   },
   "outputs": [],
   "source": [
    "# %%time\n",
    "mutual_info_match = []\n",
    "for x in train_df.head(100000).iterrows():\n",
    "    _, x = x\n",
    "    v = mutual_info_score(\n",
    "        np.abs(np.nan_to_num(np.log(np.abs(model[x.question1]))).round()),\n",
    "        np.abs(np.nan_to_num(np.log(np.abs(model[x.question2]))).round())\n",
    "    )\n",
    "    mutual_info_match.append(v)"
   ]
  },
  {
   "cell_type": "code",
   "execution_count": 251,
   "metadata": {},
   "outputs": [
    {
     "data": {
      "text/plain": [
       "<matplotlib.axes._subplots.AxesSubplot at 0x7ff854a53c10>"
      ]
     },
     "execution_count": 251,
     "metadata": {},
     "output_type": "execute_result"
    },
    {
     "data": {
      "image/png": "[encoded data removed]",
      "text/plain": [
       "<matplotlib.figure.Figure at 0x7ff854a469d0>"
      ]
     },
     "metadata": {},
     "output_type": "display_data"
    }
   ],
   "source": [
    "df = pd.DataFrame()\n",
    "df['is_duplicate'] = train_df.head(100000).is_duplicate.values\n",
    "df['mutual_info_match'] = mutual_info_match\n",
    "\n",
    "df[df.is_duplicate == 0].mutual_info_match.abs().hist(normed=True, alpha=0.4, color='r', bins=np.arange(0, 1.05, 0.05))\n",
    "df[df.is_duplicate == 1].mutual_info_match.abs().hist(normed=True, alpha=0.4, color='g', bins=np.arange(0, 1.05, 0.05))"
   ]
  },
  {
   "cell_type": "code",
   "execution_count": 452,
   "metadata": {},
   "outputs": [
    {
     "name": "stdout",
     "output_type": "stream",
     "text": [
      "CPU times: user 48.6 s, sys: 0 ns, total: 48.6 s\n",
      "Wall time: 48.5 s\n"
     ]
    }
   ],
   "source": [
    "%%time\n",
    "normed_cos_match = []\n",
    "for x in train_df.head(100000).iterrows():\n",
    "    _, x = x\n",
    "    v = cosine_similarity(\n",
    "        (1 / np.array(model[x.question1])).reshape(1, -1),\n",
    "        (1 / np.array(model[x.question2])).reshape(1, -1)\n",
    "    )[0][0]\n",
    "\n",
    "    normed_cos_match.append(v)"
   ]
  },
  {
   "cell_type": "code",
   "execution_count": 453,
   "metadata": {},
   "outputs": [
    {
     "data": {
      "text/plain": [
       "<matplotlib.axes._subplots.AxesSubplot at 0x7ff91a153590>"
      ]
     },
     "execution_count": 453,
     "metadata": {},
     "output_type": "execute_result"
    },
    {
     "data": {
      "image/png": "[encoded data removed]",
      "text/plain": [
       "<matplotlib.figure.Figure at 0x7ff84c2ed4d0>"
      ]
     },
     "metadata": {},
     "output_type": "display_data"
    }
   ],
   "source": [
    "df = pd.DataFrame()\n",
    "df['is_duplicate'] = train_df.head(100000).is_duplicate.values\n",
    "df['normed_cos_match'] = normed_cos_match\n",
    "\n",
    "df[df.is_duplicate == 0].normed_cos_match.abs().hist(normed=True, alpha=0.4, color='r', bins=np.arange(0, 1.05, 0.05))\n",
    "df[df.is_duplicate == 1].normed_cos_match.abs().hist(normed=True, alpha=0.4, color='g', bins=np.arange(0, 1.05, 0.05))"
   ]
  },
  {
   "cell_type": "code",
   "execution_count": 454,
   "metadata": {},
   "outputs": [
    {
     "name": "stdout",
     "output_type": "stream",
     "text": [
      "1.23730231042\n",
      "0.839536277491\n",
      "6.40866615553\n"
     ]
    }
   ],
   "source": [
    "print log_loss(train_df.head(100000).is_duplicate.values, fasttext_match)\n",
    "print log_loss(train_df.head(100000).is_duplicate.values, mutual_info_match)\n",
    "print log_loss(train_df.head(100000).is_duplicate.values, df.normed_cos_match)"
   ]
  },
  {
   "cell_type": "code",
   "execution_count": 258,
   "metadata": {},
   "outputs": [
    {
     "name": "stdout",
     "output_type": "stream",
     "text": [
      "Current batch in main thread: 106530\n",
      "CPU times: user 1.11 s, sys: 520 ms, total: 1.63 s\n",
      "Wall time: 10.4 s\n"
     ]
    }
   ],
   "source": [
    "%%time\n",
    "dtfidf = parallel_get_vector_based_scores(train_df.head(100000), is_train=True, batch=train_tfidf_batch_size, num_proc=NUM_PROC)"
   ]
  },
  {
   "cell_type": "code",
   "execution_count": 260,
   "metadata": {
    "collapsed": true
   },
   "outputs": [],
   "source": [
    "dtfidf['is_duplicate'] = train_df.head(100000).is_duplicate.values"
   ]
  },
  {
   "cell_type": "code",
   "execution_count": 263,
   "metadata": {
    "collapsed": true
   },
   "outputs": [],
   "source": [
    "dtfidf['fasttext_match'] = fasttext_match\n",
    "dtfidf['mutual_info_match'] = mutual_info_match"
   ]
  },
  {
   "cell_type": "code",
   "execution_count": 262,
   "metadata": {},
   "outputs": [
    {
     "name": "stdout",
     "output_type": "stream",
     "text": [
      "0.618976672024\n",
      "0.680376271505\n"
     ]
    }
   ],
   "source": [
    "print log_loss(dtfidf.is_duplicate, dtfidf.cv)\n",
    "print log_loss(dtfidf.is_duplicate, dtfidf.wv)"
   ]
  },
  {
   "cell_type": "code",
   "execution_count": null,
   "metadata": {
    "collapsed": true
   },
   "outputs": [],
   "source": [
    "os_X_train, X_valid, os_y_train, y_valid = resample_and_split_train_val_data(dtfidf)"
   ]
  },
  {
   "cell_type": "code",
   "execution_count": null,
   "metadata": {
    "collapsed": true
   },
   "outputs": [],
   "source": [
    "bst = train_xgb(os_X_train, X_valid, os_y_train, y_valid)\n",
    "plt.rcParams['figure.figsize'] = (4.0, 4.0)\n",
    "xgb.plot_importance(bst)\n",
    "plt.show()"
   ]
  },
  {
   "cell_type": "code",
   "execution_count": 289,
   "metadata": {
    "scrolled": true
   },
   "outputs": [
    {
     "data": {
      "image/png": "[encoded data removed]",
      "text/plain": [
       "<matplotlib.figure.Figure at 0x7ff926beded0>"
      ]
     },
     "metadata": {},
     "output_type": "display_data"
    }
   ],
   "source": [
    "plt.rcParams['figure.figsize'] = (4.0, 4.0)\n",
    "xgb.plot_importance(bst)\n",
    "plt.show()"
   ]
  },
  {
   "cell_type": "code",
   "execution_count": 119,
   "metadata": {},
   "outputs": [
    {
     "name": "stdout",
     "output_type": "stream",
     "text": [
      "Current all-time max memory: 8616 MB\n"
     ]
    }
   ],
   "source": [
    "google_news_wv = load_google_news_w2v()"
   ]
  },
  {
   "cell_type": "code",
   "execution_count": 203,
   "metadata": {},
   "outputs": [
    {
     "data": {
      "text/plain": [
       "[(u'visual', 0.5849171876907349),\n",
       " (u'Device_Interface_GDI', 0.525486946105957),\n",
       " (u'3D_Visualization', 0.5137205123901367),\n",
       " (u'Multisensory', 0.5115469694137573),\n",
       " (u'Gestural', 0.508009672164917),\n",
       " (u'Visualization', 0.5071419477462769),\n",
       " (u'Multi_Dimensional', 0.5053409934043884),\n",
       " (u'ToonIt', 0.5034863948822021),\n",
       " (u'InspireData', 0.503187358379364),\n",
       " (u'Visualizations', 0.5029371380805969)]"
      ]
     },
     "execution_count": 203,
     "metadata": {},
     "output_type": "execute_result"
    }
   ],
   "source": [
    "google_news_wv.most_similar('Visual')"
   ]
  },
  {
   "cell_type": "code",
   "execution_count": null,
   "metadata": {
    "collapsed": true
   },
   "outputs": [],
   "source": []
  }
 ],
 "metadata": {
  "kernelspec": {
   "display_name": "Python 2",
   "language": "python",
   "name": "python2"
  },
  "language_info": {
   "codemirror_mode": {
    "name": "ipython",
    "version": 2
   },
   "file_extension": ".py",
   "mimetype": "text/x-python",
   "name": "python",
   "nbconvert_exporter": "python",
   "pygments_lexer": "ipython2",
   "version": "2.7.12"
  }
 },
 "nbformat": 4,
 "nbformat_minor": 1
}
