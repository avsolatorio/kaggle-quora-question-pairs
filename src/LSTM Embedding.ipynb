{
 "cells": [
  {
   "cell_type": "code",
   "execution_count": 1,
   "metadata": {
    "collapsed": true
   },
   "outputs": [],
   "source": [
    "%matplotlib inline"
   ]
  },
  {
   "cell_type": "code",
   "execution_count": 2,
   "metadata": {
    "collapsed": true
   },
   "outputs": [],
   "source": [
    "import numpy as np\n",
    "import pandas as pd\n",
    "\n",
    "from sklearn.feature_extraction.text import CountVectorizer\n",
    "import itertools"
   ]
  },
  {
   "cell_type": "code",
   "execution_count": 95,
   "metadata": {
    "collapsed": true
   },
   "outputs": [],
   "source": [
    "df_train = pd.read_csv('../input/train.csv', encoding='utf-8')\n",
    "df_train['id'] = df_train['id'].apply(str)\n",
    "\n",
    "df_test = pd.read_csv('../input/test.csv', encoding='utf-8')\n",
    "df_test['test_id'] = df_test['test_id'].apply(str)\n",
    "\n",
    "df_all = pd.concat((df_train, df_test))\n",
    "df_all['question1'].fillna('xzxzxz zxzxzx', inplace=True)\n",
    "df_all['question2'].fillna('xzxzxz zxzxzx', inplace=True)\n",
    "\n",
    "counts_vectorizer = CountVectorizer(max_features=20000-1).fit(\n",
    "    itertools.chain(df_all['question1'], df_all['question2']))\n",
    "\n",
    "other_index = len(counts_vectorizer.vocabulary_)"
   ]
  },
  {
   "cell_type": "code",
   "execution_count": null,
   "metadata": {},
   "outputs": [],
   "source": []
  },
  {
   "cell_type": "code",
   "execution_count": 96,
   "metadata": {},
   "outputs": [],
   "source": [
    "import re\n",
    "from keras.preprocessing.sequence import pad_sequences\n",
    "from sklearn.model_selection import train_test_split\n",
    "\n",
    "import keras.layers as lyr\n",
    "from keras.models import Model"
   ]
  },
  {
   "cell_type": "code",
   "execution_count": 97,
   "metadata": {},
   "outputs": [
    {
     "data": {
      "text/plain": [
       "'2.0.3'"
      ]
     },
     "execution_count": 97,
     "metadata": {},
     "output_type": "execute_result"
    }
   ],
   "source": [
    "import keras\n",
    "keras.__version__"
   ]
  },
  {
   "cell_type": "code",
   "execution_count": 98,
   "metadata": {
    "collapsed": true
   },
   "outputs": [],
   "source": [
    "words_tokenizer = re.compile(counts_vectorizer.token_pattern)\n",
    "\n",
    "def create_padded_seqs(texts, max_len=10):\n",
    "    seqs = texts.apply(lambda s: \n",
    "        [counts_vectorizer.vocabulary_[w] if w in counts_vectorizer.vocabulary_ else other_index\n",
    "         for w in words_tokenizer.findall(s.lower())])\n",
    "    return pad_sequences(seqs, maxlen=max_len)"
   ]
  },
  {
   "cell_type": "code",
   "execution_count": 99,
   "metadata": {
    "collapsed": true
   },
   "outputs": [],
   "source": [
    "# df_all = df_all.sample(1000) # Just for debugging"
   ]
  },
  {
   "cell_type": "code",
   "execution_count": 100,
   "metadata": {},
   "outputs": [
    {
     "name": "stdout",
     "output_type": "stream",
     "text": [
      "0    14\n",
      "1     8\n",
      "2    14\n",
      "3    11\n",
      "4    13\n",
      "Name: question1, dtype: int64\n"
     ]
    }
   ],
   "source": [
    "print df_all[df_all['id'].notnull()].head()['question1'].str.split().str.len()"
   ]
  },
  {
   "cell_type": "code",
   "execution_count": 101,
   "metadata": {},
   "outputs": [
    {
     "data": {
      "text/plain": [
       "[(u'00', 0),\n",
       " (u'000', 1),\n",
       " (u'01', 2),\n",
       " (u'018', 3),\n",
       " (u'02', 4),\n",
       " (u'03', 5),\n",
       " (u'04', 6),\n",
       " (u'05', 7),\n",
       " (u'06', 8),\n",
       " (u'060', 9)]"
      ]
     },
     "execution_count": 101,
     "metadata": {},
     "output_type": "execute_result"
    }
   ],
   "source": [
    "sorted(counts_vectorizer.vocabulary_.items(), key=lambda x: x[1])[:10]"
   ]
  },
  {
   "cell_type": "code",
   "execution_count": 102,
   "metadata": {},
   "outputs": [
    {
     "data": {
      "text/plain": [
       "array([[ 3049, 17111,  8129, 18160,  9562,  9100, 16195, 11160,  9100,\n",
       "         9172],\n",
       "       [    0, 19571,  9659, 17958, 17176, 12650, 10208, 10207, 19999,\n",
       "         5451],\n",
       "       [ 9148, 17958, 16857, 12650, 12039,  9478,  4295, 19592, 18933,\n",
       "        19353],\n",
       "       [    0, 19620,  1252, 11428, 19135, 10797,  8729,  3146, 16725,\n",
       "         9701],\n",
       "       [ 9100, 19460, 19999, 17375, 15690, 11496,  1355,  3231,  5431,\n",
       "        12991]], dtype=int32)"
      ]
     },
     "execution_count": 102,
     "metadata": {},
     "output_type": "execute_result"
    }
   ],
   "source": [
    "create_padded_seqs(df_all[df_all['id'].notnull()].head()['question1'])"
   ]
  },
  {
   "cell_type": "code",
   "execution_count": 103,
   "metadata": {
    "collapsed": true
   },
   "outputs": [],
   "source": [
    "X1_train, X1_val, X2_train, X2_val, y_train, y_val = \\\n",
    "    train_test_split(create_padded_seqs(df_all[df_all['id'].notnull()]['question1']), \n",
    "                     create_padded_seqs(df_all[df_all['id'].notnull()]['question2']),\n",
    "                     df_all[df_all['id'].notnull()]['is_duplicate'].values,\n",
    "                     stratify=df_all[df_all['id'].notnull()]['is_duplicate'].values,\n",
    "                     test_size=0.3, random_state=1989)"
   ]
  },
  {
   "cell_type": "code",
   "execution_count": 104,
   "metadata": {},
   "outputs": [
    {
     "data": {
      "text/plain": [
       "'1.0.1'"
      ]
     },
     "execution_count": 104,
     "metadata": {},
     "output_type": "execute_result"
    }
   ],
   "source": [
    "import tensorflow\n",
    "tensorflow.__version__"
   ]
  },
  {
   "cell_type": "code",
   "execution_count": null,
   "metadata": {
    "collapsed": true
   },
   "outputs": [],
   "source": []
  },
  {
   "cell_type": "code",
   "execution_count": 83,
   "metadata": {},
   "outputs": [
    {
     "name": "stdout",
     "output_type": "stream",
     "text": [
      "____________________________________________________________________________________________________\n",
      "Layer (type)                     Output Shape          Param #     Connected to                     \n",
      "====================================================================================================\n",
      "input_5 (InputLayer)             (None, 10)            0                                            \n",
      "____________________________________________________________________________________________________\n",
      "input_6 (InputLayer)             (None, 10)            0                                            \n",
      "____________________________________________________________________________________________________\n",
      "embedding_3 (Embedding)          (None, 10, 100)       1000000                                      \n",
      "____________________________________________________________________________________________________\n",
      "lstm_3 (LSTM)                    (None, 512)           1255424                                      \n",
      "____________________________________________________________________________________________________\n",
      "multiply_3 (Multiply)            (None, 512)           0                                            \n",
      "____________________________________________________________________________________________________\n",
      "dense_5 (Dense)                  (None, 64)            32832                                        \n",
      "____________________________________________________________________________________________________\n",
      "dense_6 (Dense)                  (None, 1)             65                                           \n",
      "====================================================================================================\n",
      "Total params: 2,288,321\n",
      "Trainable params: 2,288,321\n",
      "Non-trainable params: 0\n",
      "____________________________________________________________________________________________________\n"
     ]
    }
   ],
   "source": [
    "input1_tensor = lyr.Input(X1_train.shape[1:])\n",
    "input2_tensor = lyr.Input(X2_train.shape[1:])\n",
    "\n",
    "words_embedding_layer = lyr.Embedding(X1_train.max() + 1, 100)\n",
    "seq_embedding_layer = lyr.LSTM(128, activation='relu')\n",
    "\n",
    "seq_embedding = lambda tensor: seq_embedding_layer(words_embedding_layer(tensor))\n",
    "\n",
    "merge_layer = lyr.multiply([seq_embedding(input1_tensor), seq_embedding(input2_tensor)])\n",
    "\n",
    "dense1_layer = lyr.Dense(64, activation='sigmoid')(merge_layer)\n",
    "ouput_layer = lyr.Dense(1, activation='sigmoid')(dense1_layer)\n",
    "\n",
    "model = Model([input1_tensor, input2_tensor], ouput_layer)\n",
    "\n",
    "model.compile(loss='binary_crossentropy', optimizer='adam')\n",
    "model.summary()"
   ]
  },
  {
   "cell_type": "code",
   "execution_count": 118,
   "metadata": {},
   "outputs": [
    {
     "name": "stdout",
     "output_type": "stream",
     "text": [
      "____________________________________________________________________________________________________\n",
      "Layer (type)                     Output Shape          Param #     Connected to                     \n",
      "====================================================================================================\n",
      "input_9 (InputLayer)             (None, 10)            0                                            \n",
      "____________________________________________________________________________________________________\n",
      "input_10 (InputLayer)            (None, 10)            0                                            \n",
      "____________________________________________________________________________________________________\n",
      "embedding_5 (Embedding)          (None, 10, 100)       2000000                                      \n",
      "____________________________________________________________________________________________________\n",
      "lstm_5 (LSTM)                    (None, 128)           117248                                       \n",
      "____________________________________________________________________________________________________\n",
      "multiply_5 (Multiply)            (None, 128)           0                                            \n",
      "____________________________________________________________________________________________________\n",
      "concatenate_2 (Concatenate)      (None, 384)           0                                            \n",
      "____________________________________________________________________________________________________\n",
      "dense_9 (Dense)                  (None, 64)            24640                                        \n",
      "____________________________________________________________________________________________________\n",
      "dropout_1 (Dropout)              (None, 64)            0                                            \n",
      "____________________________________________________________________________________________________\n",
      "dense_10 (Dense)                 (None, 1)             65                                           \n",
      "====================================================================================================\n",
      "Total params: 2,141,953\n",
      "Trainable params: 2,141,953\n",
      "Non-trainable params: 0\n",
      "____________________________________________________________________________________________________\n"
     ]
    }
   ],
   "source": [
    "input1_tensor = lyr.Input(X1_train.shape[1:])\n",
    "input2_tensor = lyr.Input(X2_train.shape[1:])\n",
    "\n",
    "words_embedding_layer = lyr.Embedding(X1_train.max() + 1, 100)\n",
    "seq_embedding_layer = lyr.LSTM(128, activation='relu')\n",
    "\n",
    "seq_embedding = lambda tensor: seq_embedding_layer(words_embedding_layer(tensor))\n",
    "\n",
    "merge_layer = lyr.multiply([seq_embedding(input1_tensor), seq_embedding(input2_tensor)])\n",
    "concat_layer = lyr.concatenate([merge_layer, seq_embedding(input1_tensor), seq_embedding(input2_tensor)])\n",
    "\n",
    "dense1_layer = lyr.Dense(64, activation='sigmoid')(concat_layer)  # merge_layer)\n",
    "dense1_layer = lyr.Dropout(0.3)(dense1_layer)\n",
    "ouput_layer = lyr.Dense(1, activation='sigmoid')(dense1_layer)\n",
    "\n",
    "model = Model([input1_tensor, input2_tensor], ouput_layer)\n",
    "\n",
    "model.compile(loss='binary_crossentropy', optimizer='adam')\n",
    "model.summary()"
   ]
  },
  {
   "cell_type": "code",
   "execution_count": 119,
   "metadata": {},
   "outputs": [
    {
     "name": "stdout",
     "output_type": "stream",
     "text": [
      "Train on 283003 samples, validate on 121287 samples\n",
      "Epoch 1/10\n",
      "283003/283003 [==============================] - 30s - loss: 0.5482 - val_loss: 0.4998\n",
      "Epoch 2/10\n",
      "283003/283003 [==============================] - 29s - loss: 0.4717 - val_loss: 0.4740\n",
      "Epoch 3/10\n",
      "283003/283003 [==============================] - 29s - loss: 0.4258 - val_loss: 0.4642\n",
      "Epoch 4/10\n",
      "283003/283003 [==============================] - 29s - loss: 0.3816 - val_loss: 0.4596\n",
      "Epoch 5/10\n",
      "283003/283003 [==============================] - 29s - loss: 0.3387 - val_loss: 0.4786\n",
      "Epoch 6/10\n",
      "283003/283003 [==============================] - 29s - loss: 0.2992 - val_loss: 0.4925\n",
      "Epoch 7/10\n",
      "283003/283003 [==============================] - 29s - loss: 0.2647 - val_loss: 0.5069\n",
      "Epoch 8/10\n",
      "283003/283003 [==============================] - 29s - loss: 0.2340 - val_loss: 0.5432\n",
      "Epoch 9/10\n",
      "283003/283003 [==============================] - 29s - loss: 0.2069 - val_loss: 0.5784\n",
      "Epoch 10/10\n",
      "283003/283003 [==============================] - 29s - loss: 0.1835 - val_loss: 0.6124\n",
      "CPU times: user 6min 31s, sys: 29.4 s, total: 7min 1s\n",
      "Wall time: 4min 57s\n"
     ]
    },
    {
     "data": {
      "text/plain": [
       "<keras.callbacks.History at 0x7f0e67fac450>"
      ]
     },
     "execution_count": 119,
     "metadata": {},
     "output_type": "execute_result"
    }
   ],
   "source": [
    "%%time\n",
    "model.fit([X1_train, X2_train], y_train, \n",
    "          validation_data=([X1_val, X2_val], y_val), \n",
    "          batch_size=512, epochs=10, verbose=1)"
   ]
  },
  {
   "cell_type": "code",
   "execution_count": 120,
   "metadata": {
    "collapsed": true
   },
   "outputs": [],
   "source": [
    "features_model = Model([input1_tensor, input2_tensor], concat_layer)  # merge_layer)\n",
    "features_model.compile(loss='mse', optimizer='adam')"
   ]
  },
  {
   "cell_type": "code",
   "execution_count": 121,
   "metadata": {
    "collapsed": true
   },
   "outputs": [],
   "source": [
    "F_train = features_model.predict([X1_train, X2_train], batch_size=128)\n",
    "F_val = features_model.predict([X1_val, X2_val], batch_size=128)"
   ]
  },
  {
   "cell_type": "code",
   "execution_count": 122,
   "metadata": {},
   "outputs": [],
   "source": [
    "import xgboost as xgb"
   ]
  },
  {
   "cell_type": "code",
   "execution_count": 123,
   "metadata": {
    "collapsed": true
   },
   "outputs": [],
   "source": [
    "dTrain = xgb.DMatrix(F_train, label=y_train)\n",
    "dVal = xgb.DMatrix(F_val, label=y_val)"
   ]
  },
  {
   "cell_type": "code",
   "execution_count": 131,
   "metadata": {
    "scrolled": true
   },
   "outputs": [
    {
     "name": "stdout",
     "output_type": "stream",
     "text": [
      "[0]\ttrain-logloss:0.649996\tval-logloss:0.658549\n",
      "Multiple eval metrics have been passed: 'val-logloss' will be used for early stopping.\n",
      "\n",
      "Will train until val-logloss hasn't improved in 1000 rounds.\n",
      "[100]\ttrain-logloss:0.171271\tval-logloss:0.502199\n",
      "[200]\ttrain-logloss:0.115422\tval-logloss:0.552086\n",
      "[300]\ttrain-logloss:0.086493\tval-logloss:0.594298\n",
      "[400]\ttrain-logloss:0.068409\tval-logloss:0.623162\n",
      "[500]\ttrain-logloss:0.055084\tval-logloss:0.649922\n",
      "[600]\ttrain-logloss:0.046116\tval-logloss:0.669877\n",
      "[700]\ttrain-logloss:0.038079\tval-logloss:0.694913\n",
      "[800]\ttrain-logloss:0.032026\tval-logloss:0.717191\n",
      "[900]\ttrain-logloss:0.027586\tval-logloss:0.73559\n",
      "[1000]\ttrain-logloss:0.023864\tval-logloss:0.756206\n",
      "Stopping. Best iteration:\n",
      "[29]\ttrain-logloss:0.291017\tval-logloss:0.461687\n",
      "\n",
      "CPU times: user 41min 53s, sys: 708 ms, total: 41min 53s\n",
      "Wall time: 5min 21s\n"
     ]
    }
   ],
   "source": [
    "%%time\n",
    "xgb_params = {\n",
    "    'objective': 'binary:logistic',\n",
    "    'booster': 'gbtree',\n",
    "    'eval_metric': 'logloss',\n",
    "    'eta': 0.1, \n",
    "    'max_depth': 9,\n",
    "    'subsample': 0.9,\n",
    "    'colsample_bytree': 1 / F_train.shape[1]**0.5,\n",
    "    'min_child_weight': 5,\n",
    "    'silent': 1\n",
    "}\n",
    "bst = xgb.train(xgb_params, dTrain, 10000,  [(dTrain,'train'), (dVal,'val')], \n",
    "                verbose_eval=100, early_stopping_rounds=1000)"
   ]
  },
  {
   "cell_type": "code",
   "execution_count": 132,
   "metadata": {},
   "outputs": [],
   "source": [
    "# X1_test = create_padded_seqs(df_all[df_all['test_id'].notnull()]['question1'])\n",
    "# X2_test = create_padded_seqs(df_all[df_all['test_id'].notnull()]['question2'])\n",
    "\n",
    "X1_test = create_padded_seqs(df_test['question1'].fillna('xxxx xxxx'))\n",
    "X2_test = create_padded_seqs(df_test['question2'].fillna('xxxx xxxx'))"
   ]
  },
  {
   "cell_type": "code",
   "execution_count": 133,
   "metadata": {},
   "outputs": [
    {
     "name": "stdout",
     "output_type": "stream",
     "text": [
      "CPU times: user 1min 3s, sys: 6.14 s, total: 1min 9s\n",
      "Wall time: 55.2 s\n"
     ]
    }
   ],
   "source": [
    "%%time\n",
    "F_test = features_model.predict([X1_test, X2_test], batch_size=512)"
   ]
  },
  {
   "cell_type": "code",
   "execution_count": 134,
   "metadata": {
    "scrolled": false
   },
   "outputs": [
    {
     "name": "stdout",
     "output_type": "stream",
     "text": [
      "Test batch: 0\n",
      "Test batch: 100000\n",
      "Test batch: 200000\n",
      "Test batch: 300000\n",
      "Test batch: 400000\n",
      "Test batch: 500000\n",
      "Test batch: 600000\n",
      "Test batch: 700000\n",
      "Test batch: 800000\n",
      "Test batch: 900000\n",
      "Test batch: 1000000\n",
      "Test batch: 1100000\n",
      "Test batch: 1200000\n",
      "Test batch: 1300000\n",
      "Test batch: 1400000\n",
      "Test batch: 1500000\n",
      "Test batch: 1600000\n",
      "Test batch: 1700000\n",
      "Test batch: 1800000\n",
      "Test batch: 1900000\n",
      "Test batch: 2000000\n",
      "Test batch: 2100000\n",
      "Test batch: 2200000\n",
      "Test batch: 2300000\n",
      "CPU times: user 38.7 s, sys: 580 ms, total: 39.3 s\n",
      "Wall time: 13.5 s\n"
     ]
    }
   ],
   "source": [
    "%%time\n",
    "df_sub = pd.DataFrame()\n",
    "test_batch = 10000\n",
    "for i in range(0, F_test.shape[0] + test_batch, test_batch):\n",
    "    if i % 100000 == 0:\n",
    "        print('Test batch: {}'.format(i))\n",
    "\n",
    "    f_test = F_test[i: i + test_batch]\n",
    "    if f_test.shape[0]:\n",
    "        dTest = xgb.DMatrix(f_test)\n",
    "        d_sub = pd.DataFrame({\n",
    "                'test_id': df_test[i: i + test_batch]['test_id'].values,\n",
    "                'is_duplicate': bst.predict(dTest, ntree_limit=bst.best_ntree_limit)\n",
    "            }).set_index('test_id')\n",
    "\n",
    "        if df_sub.empty:\n",
    "            df_sub = d_sub\n",
    "        else:\n",
    "            df_sub = df_sub.append(d_sub)"
   ]
  },
  {
   "cell_type": "code",
   "execution_count": 80,
   "metadata": {},
   "outputs": [
    {
     "data": {
      "text/plain": [
       "0.23699692"
      ]
     },
     "execution_count": 80,
     "metadata": {},
     "output_type": "execute_result"
    }
   ],
   "source": [
    "df_sub.is_duplicate.mean()"
   ]
  },
  {
   "cell_type": "code",
   "execution_count": 135,
   "metadata": {},
   "outputs": [
    {
     "data": {
      "text/plain": [
       "0.2672157"
      ]
     },
     "execution_count": 135,
     "metadata": {},
     "output_type": "execute_result"
    }
   ],
   "source": [
    "df_sub.is_duplicate.mean()"
   ]
  },
  {
   "cell_type": "code",
   "execution_count": 45,
   "metadata": {
    "collapsed": true
   },
   "outputs": [],
   "source": [
    "from datetime import datetime"
   ]
  },
  {
   "cell_type": "code",
   "execution_count": 51,
   "metadata": {
    "collapsed": true
   },
   "outputs": [],
   "source": [
    "df_sub.reset_index().to_csv('lstm_128_100_dim_xgb_{}.csv'.format(datetime.now()), index=False)"
   ]
  },
  {
   "cell_type": "code",
   "execution_count": 43,
   "metadata": {
    "scrolled": true
   },
   "outputs": [
    {
     "data": {
      "text/plain": [
       "<matplotlib.axes._subplots.AxesSubplot at 0x7f0e67250350>"
      ]
     },
     "execution_count": 43,
     "metadata": {},
     "output_type": "execute_result"
    },
    {
     "data": {
      "image/png": "[encoded data removed]",
      "text/plain": [
       "<matplotlib.figure.Figure at 0x7f0e6726fed0>"
      ]
     },
     "metadata": {},
     "output_type": "display_data"
    }
   ],
   "source": [
    "df_sub['is_duplicate'].hist(bins=100)"
   ]
  },
  {
   "cell_type": "code",
   "execution_count": 44,
   "metadata": {
    "scrolled": true
   },
   "outputs": [
    {
     "data": {
      "text/plain": [
       "<matplotlib.axes._subplots.AxesSubplot at 0x7f0e67655190>"
      ]
     },
     "execution_count": 44,
     "metadata": {},
     "output_type": "execute_result"
    },
    {
     "data": {
      "image/png": "[encoded data removed]",
      "text/plain": [
       "<matplotlib.figure.Figure at 0x7f0e67eac150>"
      ]
     },
     "metadata": {},
     "output_type": "display_data"
    }
   ],
   "source": [
    "df_sub['is_duplicate'].hist(bins=100)"
   ]
  },
  {
   "cell_type": "code",
   "execution_count": 61,
   "metadata": {
    "collapsed": true
   },
   "outputs": [],
   "source": [
    "sub_probe = pd.DataFrame()\n",
    "\n",
    "sub_probe['test_id'] = df_test.test_id\n",
    "sub_probe['is_duplicate'] = np.ones(df_test.shape[0]) * 0.7"
   ]
  },
  {
   "cell_type": "code",
   "execution_count": 62,
   "metadata": {
    "collapsed": true
   },
   "outputs": [],
   "source": [
    "sub_probe.to_csv('sub_probe_0.7.csv', index=False)"
   ]
  },
  {
   "cell_type": "code",
   "execution_count": null,
   "metadata": {
    "collapsed": true
   },
   "outputs": [],
   "source": [
    "(-0.50433 - np.log(1 - p)) / (np.log(p / (1 - p)))\n",
    "(nN * np.log(p / (1 - p))) + (np.log(1 - p))"
   ]
  },
  {
   "cell_type": "code",
   "execution_count": 63,
   "metadata": {},
   "outputs": [
    {
     "data": {
      "text/plain": [
       "(865, 1)"
      ]
     },
     "execution_count": 63,
     "metadata": {},
     "output_type": "execute_result"
    }
   ],
   "source": [
    "df_sub.shape"
   ]
  },
  {
   "cell_type": "code",
   "execution_count": null,
   "metadata": {
    "collapsed": true
   },
   "outputs": [],
   "source": []
  }
 ],
 "metadata": {
  "kernelspec": {
   "display_name": "Python 2",
   "language": "python",
   "name": "python2"
  },
  "language_info": {
   "codemirror_mode": {
    "name": "ipython",
    "version": 2
   },
   "file_extension": ".py",
   "mimetype": "text/x-python",
   "name": "python",
   "nbconvert_exporter": "python",
   "pygments_lexer": "ipython2",
   "version": "2.7.12"
  }
 },
 "nbformat": 4,
 "nbformat_minor": 2
}
